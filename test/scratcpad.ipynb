{
 "cells": [
  {
   "cell_type": "code",
   "execution_count": 2,
   "metadata": {},
   "outputs": [
    {
     "name": "stderr",
     "output_type": "stream",
     "text": [
      "\u001b[33m\u001b[1m┌ \u001b[22m\u001b[39m\u001b[33m\u001b[1mWarning: \u001b[22m\u001b[39mPackage LinearAlgebraStudy does not have LinearAlgebra in its dependencies:\n",
      "\u001b[33m\u001b[1m│ \u001b[22m\u001b[39m- If you have LinearAlgebraStudy checked out for development and have\n",
      "\u001b[33m\u001b[1m│ \u001b[22m\u001b[39m  added LinearAlgebra as a dependency but haven't updated your primary\n",
      "\u001b[33m\u001b[1m│ \u001b[22m\u001b[39m  environment's manifest file, try `Pkg.resolve()`.\n",
      "\u001b[33m\u001b[1m│ \u001b[22m\u001b[39m- Otherwise you may need to report an issue with LinearAlgebraStudy\n",
      "\u001b[33m\u001b[1m└ \u001b[22m\u001b[39mLoading LinearAlgebra into LinearAlgebraStudy from project dependency, future warnings for LinearAlgebraStudy are suppressed.\n"
     ]
    }
   ],
   "source": [
    "using LinearAlgebraStudy\n",
    "using LinearAlgebra\n",
    "using Plots\n"
   ]
  },
  {
   "cell_type": "code",
   "execution_count": 3,
   "metadata": {},
   "outputs": [
    {
     "data": {
      "image/png": "[encoded data removed]",
      "image/svg+xml": "<?xml version=\"1.0\" encoding=\"utf-8\"?>\n<svg xmlns=\"http://www.w3.org/2000/svg\" xmlns:xlink=\"http://www.w3.org/1999/xlink\" width=\"600\" height=\"400\" viewBox=\"0 0 2400 1600\">\n<defs>\n  <clipPath id=\"clip490\">\n    <rect x=\"0\" y=\"0\" width=\"2400\" height=\"1600\"/>\n  </clipPath>\n</defs>\n<path clip-path=\"url(#clip490)\" d=\"\nM0 1600 L2400 1600 L2400 0 L0 0  Z\n  \" fill=\"#ffffff\" fill-rule=\"evenodd\" fill-opacity=\"1\"/>\n<defs>\n  <clipPath id=\"clip491\">\n    <rect x=\"480\" y=\"0\" width=\"1681\" height=\"1600\"/>\n  </clipPath>\n</defs>\n<path clip-path=\"url(#clip490)\" d=\"\nM148.057 1486.45 L2352.76 1486.45 L2352.76 47.2441 L148.057 47.2441  Z\n  \" fill=\"#ffffff\" fill-rule=\"evenodd\" fill-opacity=\"1\"/>\n<defs>\n  <clipPath id=\"clip492\">\n    <rect x=\"148\" y=\"47\" width=\"2206\" height=\"1440\"/>\n  </clipPath>\n</defs>\n<polyline clip-path=\"url(#clip492)\" style=\"stroke:#000000; stroke-linecap:butt; stroke-linejoin:round; stroke-width:2; stroke-opacity:0.1; fill:none\" points=\"\n  148.057,1486.45 148.057,47.2441 \n  \"/>\n<polyline clip-path=\"url(#clip492)\" style=\"stroke:#000000; stroke-linecap:butt; stroke-linejoin:round; stroke-width:2; stroke-opacity:0.1; fill:none\" points=\"\n  515.506,1486.45 515.506,47.2441 \n  \"/>\n<polyline clip-path=\"url(#clip492)\" style=\"stroke:#000000; stroke-linecap:butt; stroke-linejoin:round; stroke-width:2; stroke-opacity:0.1; fill:none\" points=\"\n  882.956,1486.45 882.956,47.2441 \n  \"/>\n<polyline clip-path=\"url(#clip492)\" style=\"stroke:#000000; stroke-linecap:butt; stroke-linejoin:round; stroke-width:2; stroke-opacity:0.1; fill:none\" points=\"\n  1250.41,1486.45 1250.41,47.2441 \n  \"/>\n<polyline clip-path=\"url(#clip492)\" style=\"stroke:#000000; stroke-linecap:butt; stroke-linejoin:round; stroke-width:2; stroke-opacity:0.1; fill:none\" points=\"\n  1617.86,1486.45 1617.86,47.2441 \n  \"/>\n<polyline clip-path=\"url(#clip492)\" style=\"stroke:#000000; stroke-linecap:butt; stroke-linejoin:round; stroke-width:2; stroke-opacity:0.1; fill:none\" points=\"\n  1985.31,1486.45 1985.31,47.2441 \n  \"/>\n<polyline clip-path=\"url(#clip492)\" style=\"stroke:#000000; stroke-linecap:butt; stroke-linejoin:round; stroke-width:2; stroke-opacity:0.1; fill:none\" points=\"\n  2352.76,1486.45 2352.76,47.2441 \n  \"/>\n<polyline clip-path=\"url(#clip490)\" style=\"stroke:#000000; stroke-linecap:butt; stroke-linejoin:round; stroke-width:4; stroke-opacity:1; fill:none\" points=\"\n  148.057,1486.45 2352.76,1486.45 \n  \"/>\n<polyline clip-path=\"url(#clip490)\" style=\"stroke:#000000; stroke-linecap:butt; stroke-linejoin:round; stroke-width:4; stroke-opacity:1; fill:none\" points=\"\n  148.057,1486.45 148.057,1467.55 \n  \"/>\n<polyline clip-path=\"url(#clip490)\" style=\"stroke:#000000; stroke-linecap:butt; stroke-linejoin:round; stroke-width:4; stroke-opacity:1; fill:none\" points=\"\n  515.506,1486.45 515.506,1467.55 \n  \"/>\n<polyline clip-path=\"url(#clip490)\" style=\"stroke:#000000; stroke-linecap:butt; stroke-linejoin:round; stroke-width:4; stroke-opacity:1; fill:none\" points=\"\n  882.956,1486.45 882.956,1467.55 \n  \"/>\n<polyline clip-path=\"url(#clip490)\" style=\"stroke:#000000; stroke-linecap:butt; stroke-linejoin:round; stroke-width:4; stroke-opacity:1; fill:none\" points=\"\n  1250.41,1486.45 1250.41,1467.55 \n  \"/>\n<polyline clip-path=\"url(#clip490)\" style=\"stroke:#000000; stroke-linecap:butt; stroke-linejoin:round; stroke-width:4; stroke-opacity:1; fill:none\" points=\"\n  1617.86,1486.45 1617.86,1467.55 \n  \"/>\n<polyline clip-path=\"url(#clip490)\" style=\"stroke:#000000; stroke-linecap:butt; stroke-linejoin:round; stroke-width:4; stroke-opacity:1; fill:none\" points=\"\n  1985.31,1486.45 1985.31,1467.55 \n  \"/>\n<polyline clip-path=\"url(#clip490)\" style=\"stroke:#000000; stroke-linecap:butt; stroke-linejoin:round; stroke-width:4; stroke-opacity:1; fill:none\" points=\"\n  2352.76,1486.45 2352.76,1467.55 \n  \"/>\n<path clip-path=\"url(#clip490)\" d=\"M117.524 1532.02 L147.2 1532.02 L147.2 1535.95 L117.524 1535.95 L117.524 1532.02 Z\" fill=\"#000000\" fill-rule=\"evenodd\" fill-opacity=\"1\" /><path clip-path=\"url(#clip490)\" d=\"M171.459 1530.21 Q174.816 1530.93 176.691 1533.2 Q178.589 1535.47 178.589 1538.8 Q178.589 1543.92 175.07 1546.72 Q171.552 1549.52 165.07 1549.52 Q162.894 1549.52 160.58 1549.08 Q158.288 1548.66 155.834 1547.81 L155.834 1543.29 Q157.779 1544.43 160.094 1545.01 Q162.408 1545.58 164.932 1545.58 Q169.33 1545.58 171.621 1543.85 Q173.936 1542.11 173.936 1538.8 Q173.936 1535.75 171.783 1534.03 Q169.654 1532.3 165.834 1532.3 L161.807 1532.3 L161.807 1528.45 L166.019 1528.45 Q169.469 1528.45 171.297 1527.09 Q173.126 1525.7 173.126 1523.11 Q173.126 1520.45 171.228 1519.03 Q169.353 1517.6 165.834 1517.6 Q163.913 1517.6 161.714 1518.01 Q159.515 1518.43 156.876 1519.31 L156.876 1515.14 Q159.538 1514.4 161.853 1514.03 Q164.191 1513.66 166.251 1513.66 Q171.575 1513.66 174.677 1516.09 Q177.779 1518.5 177.779 1522.62 Q177.779 1525.49 176.135 1527.48 Q174.492 1529.45 171.459 1530.21 Z\" fill=\"#000000\" fill-rule=\"evenodd\" fill-opacity=\"1\" /><path clip-path=\"url(#clip490)\" d=\"M485.449 1532.02 L515.125 1532.02 L515.125 1535.95 L485.449 1535.95 L485.449 1532.02 Z\" fill=\"#000000\" fill-rule=\"evenodd\" fill-opacity=\"1\" /><path clip-path=\"url(#clip490)\" d=\"M529.245 1544.91 L545.564 1544.91 L545.564 1548.85 L523.62 1548.85 L523.62 1544.91 Q526.282 1542.16 530.865 1537.53 Q535.472 1532.88 536.652 1531.53 Q538.898 1529.01 539.777 1527.27 Q540.68 1525.51 540.68 1523.82 Q540.68 1521.07 538.736 1519.33 Q536.814 1517.6 533.712 1517.6 Q531.513 1517.6 529.06 1518.36 Q526.629 1519.13 523.851 1520.68 L523.851 1515.95 Q526.675 1514.82 529.129 1514.24 Q531.583 1513.66 533.62 1513.66 Q538.99 1513.66 542.185 1516.35 Q545.379 1519.03 545.379 1523.52 Q545.379 1525.65 544.569 1527.57 Q543.782 1529.47 541.675 1532.07 Q541.097 1532.74 537.995 1535.95 Q534.893 1539.15 529.245 1544.91 Z\" fill=\"#000000\" fill-rule=\"evenodd\" fill-opacity=\"1\" /><path clip-path=\"url(#clip490)\" d=\"M852.713 1532.02 L882.389 1532.02 L882.389 1535.95 L852.713 1535.95 L852.713 1532.02 Z\" fill=\"#000000\" fill-rule=\"evenodd\" fill-opacity=\"1\" /><path clip-path=\"url(#clip490)\" d=\"M893.292 1544.91 L900.931 1544.91 L900.931 1518.55 L892.621 1520.21 L892.621 1515.95 L900.885 1514.29 L905.56 1514.29 L905.56 1544.91 L913.199 1544.91 L913.199 1548.85 L893.292 1548.85 L893.292 1544.91 Z\" fill=\"#000000\" fill-rule=\"evenodd\" fill-opacity=\"1\" /><path clip-path=\"url(#clip490)\" d=\"M1250.41 1517.37 Q1246.8 1517.37 1244.97 1520.93 Q1243.16 1524.47 1243.16 1531.6 Q1243.16 1538.71 1244.97 1542.27 Q1246.8 1545.82 1250.41 1545.82 Q1254.04 1545.82 1255.85 1542.27 Q1257.67 1538.71 1257.67 1531.6 Q1257.67 1524.47 1255.85 1520.93 Q1254.04 1517.37 1250.41 1517.37 M1250.41 1513.66 Q1256.22 1513.66 1259.27 1518.27 Q1262.35 1522.85 1262.35 1531.6 Q1262.35 1540.33 1259.27 1544.94 Q1256.22 1549.52 1250.41 1549.52 Q1244.6 1549.52 1241.52 1544.94 Q1238.46 1540.33 1238.46 1531.6 Q1238.46 1522.85 1241.52 1518.27 Q1244.6 1513.66 1250.41 1513.66 Z\" fill=\"#000000\" fill-rule=\"evenodd\" fill-opacity=\"1\" /><path clip-path=\"url(#clip490)\" d=\"M1608.24 1544.91 L1615.88 1544.91 L1615.88 1518.55 L1607.57 1520.21 L1607.57 1515.95 L1615.83 1514.29 L1620.51 1514.29 L1620.51 1544.91 L1628.15 1544.91 L1628.15 1548.85 L1608.24 1548.85 L1608.24 1544.91 Z\" fill=\"#000000\" fill-rule=\"evenodd\" fill-opacity=\"1\" /><path clip-path=\"url(#clip490)\" d=\"M1979.96 1544.91 L1996.28 1544.91 L1996.28 1548.85 L1974.33 1548.85 L1974.33 1544.91 Q1977 1542.16 1981.58 1537.53 Q1986.19 1532.88 1987.37 1531.53 Q1989.61 1529.01 1990.49 1527.27 Q1991.39 1525.51 1991.39 1523.82 Q1991.39 1521.07 1989.45 1519.33 Q1987.53 1517.6 1984.43 1517.6 Q1982.23 1517.6 1979.77 1518.36 Q1977.34 1519.13 1974.57 1520.68 L1974.57 1515.95 Q1977.39 1514.82 1979.84 1514.24 Q1982.3 1513.66 1984.33 1513.66 Q1989.7 1513.66 1992.9 1516.35 Q1996.09 1519.03 1996.09 1523.52 Q1996.09 1525.65 1995.28 1527.57 Q1994.5 1529.47 1992.39 1532.07 Q1991.81 1532.74 1988.71 1535.95 Q1985.61 1539.15 1979.96 1544.91 Z\" fill=\"#000000\" fill-rule=\"evenodd\" fill-opacity=\"1\" /><path clip-path=\"url(#clip490)\" d=\"M2357 1530.21 Q2360.36 1530.93 2362.24 1533.2 Q2364.13 1535.47 2364.13 1538.8 Q2364.13 1543.92 2360.61 1546.72 Q2357.1 1549.52 2350.61 1549.52 Q2348.44 1549.52 2346.12 1549.08 Q2343.83 1548.66 2341.38 1547.81 L2341.38 1543.29 Q2343.32 1544.43 2345.64 1545.01 Q2347.95 1545.58 2350.48 1545.58 Q2354.87 1545.58 2357.17 1543.85 Q2359.48 1542.11 2359.48 1538.8 Q2359.48 1535.75 2357.33 1534.03 Q2355.2 1532.3 2351.38 1532.3 L2347.35 1532.3 L2347.35 1528.45 L2351.56 1528.45 Q2355.01 1528.45 2356.84 1527.09 Q2358.67 1525.7 2358.67 1523.11 Q2358.67 1520.45 2356.77 1519.03 Q2354.9 1517.6 2351.38 1517.6 Q2349.46 1517.6 2347.26 1518.01 Q2345.06 1518.43 2342.42 1519.31 L2342.42 1515.14 Q2345.08 1514.4 2347.4 1514.03 Q2349.74 1513.66 2351.8 1513.66 Q2357.12 1513.66 2360.22 1516.09 Q2363.32 1518.5 2363.32 1522.62 Q2363.32 1525.49 2361.68 1527.48 Q2360.04 1529.45 2357 1530.21 Z\" fill=\"#000000\" fill-rule=\"evenodd\" fill-opacity=\"1\" /><polyline clip-path=\"url(#clip492)\" style=\"stroke:#000000; stroke-linecap:butt; stroke-linejoin:round; stroke-width:2; stroke-opacity:0.1; fill:none\" points=\"\n  148.057,1486.45 2352.76,1486.45 \n  \"/>\n<polyline clip-path=\"url(#clip492)\" style=\"stroke:#000000; stroke-linecap:butt; stroke-linejoin:round; stroke-width:2; stroke-opacity:0.1; fill:none\" points=\"\n  148.057,1246.58 2352.76,1246.58 \n  \"/>\n<polyline clip-path=\"url(#clip492)\" style=\"stroke:#000000; stroke-linecap:butt; stroke-linejoin:round; stroke-width:2; stroke-opacity:0.1; fill:none\" points=\"\n  148.057,1006.71 2352.76,1006.71 \n  \"/>\n<polyline clip-path=\"url(#clip492)\" style=\"stroke:#000000; stroke-linecap:butt; stroke-linejoin:round; stroke-width:2; stroke-opacity:0.1; fill:none\" points=\"\n  148.057,766.846 2352.76,766.846 \n  \"/>\n<polyline clip-path=\"url(#clip492)\" style=\"stroke:#000000; stroke-linecap:butt; stroke-linejoin:round; stroke-width:2; stroke-opacity:0.1; fill:none\" points=\"\n  148.057,526.979 2352.76,526.979 \n  \"/>\n<polyline clip-path=\"url(#clip492)\" style=\"stroke:#000000; stroke-linecap:butt; stroke-linejoin:round; stroke-width:2; stroke-opacity:0.1; fill:none\" points=\"\n  148.057,287.111 2352.76,287.111 \n  \"/>\n<polyline clip-path=\"url(#clip492)\" style=\"stroke:#000000; stroke-linecap:butt; stroke-linejoin:round; stroke-width:2; stroke-opacity:0.1; fill:none\" points=\"\n  148.057,47.2441 2352.76,47.2441 \n  \"/>\n<polyline clip-path=\"url(#clip490)\" style=\"stroke:#000000; stroke-linecap:butt; stroke-linejoin:round; stroke-width:4; stroke-opacity:1; fill:none\" points=\"\n  148.057,1486.45 148.057,47.2441 \n  \"/>\n<polyline clip-path=\"url(#clip490)\" style=\"stroke:#000000; stroke-linecap:butt; stroke-linejoin:round; stroke-width:4; stroke-opacity:1; fill:none\" points=\"\n  148.057,1486.45 166.954,1486.45 \n  \"/>\n<polyline clip-path=\"url(#clip490)\" style=\"stroke:#000000; stroke-linecap:butt; stroke-linejoin:round; stroke-width:4; stroke-opacity:1; fill:none\" points=\"\n  148.057,1246.58 166.954,1246.58 \n  \"/>\n<polyline clip-path=\"url(#clip490)\" style=\"stroke:#000000; stroke-linecap:butt; stroke-linejoin:round; stroke-width:4; stroke-opacity:1; fill:none\" points=\"\n  148.057,1006.71 166.954,1006.71 \n  \"/>\n<polyline clip-path=\"url(#clip490)\" style=\"stroke:#000000; stroke-linecap:butt; stroke-linejoin:round; stroke-width:4; stroke-opacity:1; fill:none\" points=\"\n  148.057,766.846 166.954,766.846 \n  \"/>\n<polyline clip-path=\"url(#clip490)\" style=\"stroke:#000000; stroke-linecap:butt; stroke-linejoin:round; stroke-width:4; stroke-opacity:1; fill:none\" points=\"\n  148.057,526.979 166.954,526.979 \n  \"/>\n<polyline clip-path=\"url(#clip490)\" style=\"stroke:#000000; stroke-linecap:butt; stroke-linejoin:round; stroke-width:4; stroke-opacity:1; fill:none\" points=\"\n  148.057,287.111 166.954,287.111 \n  \"/>\n<polyline clip-path=\"url(#clip490)\" style=\"stroke:#000000; stroke-linecap:butt; stroke-linejoin:round; stroke-width:4; stroke-opacity:1; fill:none\" points=\"\n  148.057,47.2441 166.954,47.2441 \n  \"/>\n<path clip-path=\"url(#clip490)\" d=\"M50.9921 1486.9 L80.6679 1486.9 L80.6679 1490.83 L50.9921 1490.83 L50.9921 1486.9 Z\" fill=\"#000000\" fill-rule=\"evenodd\" fill-opacity=\"1\" /><path clip-path=\"url(#clip490)\" d=\"M104.927 1485.09 Q108.283 1485.81 110.158 1488.08 Q112.057 1490.35 112.057 1493.68 Q112.057 1498.8 108.538 1501.6 Q105.02 1504.4 98.5382 1504.4 Q96.3623 1504.4 94.0475 1503.96 Q91.7558 1503.54 89.3021 1502.69 L89.3021 1498.17 Q91.2465 1499.31 93.5613 1499.89 Q95.8761 1500.46 98.3993 1500.46 Q102.797 1500.46 105.089 1498.73 Q107.404 1496.99 107.404 1493.68 Q107.404 1490.63 105.251 1488.91 Q103.121 1487.18 99.3021 1487.18 L95.2743 1487.18 L95.2743 1483.33 L99.4872 1483.33 Q102.936 1483.33 104.765 1481.97 Q106.594 1480.58 106.594 1477.99 Q106.594 1475.33 104.696 1473.91 Q102.821 1472.48 99.3021 1472.48 Q97.3808 1472.48 95.1817 1472.89 Q92.9826 1473.31 90.3438 1474.19 L90.3438 1470.02 Q93.0058 1469.28 95.3206 1468.91 Q97.6585 1468.54 99.7187 1468.54 Q105.043 1468.54 108.145 1470.97 Q111.246 1473.38 111.246 1477.5 Q111.246 1480.37 109.603 1482.36 Q107.959 1484.33 104.927 1485.09 Z\" fill=\"#000000\" fill-rule=\"evenodd\" fill-opacity=\"1\" /><path clip-path=\"url(#clip490)\" d=\"M51.9412 1247.03 L81.617 1247.03 L81.617 1250.97 L51.9412 1250.97 L51.9412 1247.03 Z\" fill=\"#000000\" fill-rule=\"evenodd\" fill-opacity=\"1\" /><path clip-path=\"url(#clip490)\" d=\"M95.7373 1259.93 L112.057 1259.93 L112.057 1263.86 L90.1123 1263.86 L90.1123 1259.93 Q92.7743 1257.17 97.3576 1252.54 Q101.964 1247.89 103.145 1246.55 Q105.39 1244.02 106.27 1242.29 Q107.172 1240.53 107.172 1238.84 Q107.172 1236.08 105.228 1234.35 Q103.307 1232.61 100.205 1232.61 Q98.0058 1232.61 95.5521 1233.37 Q93.1215 1234.14 90.3438 1235.69 L90.3438 1230.97 Q93.1678 1229.83 95.6215 1229.25 Q98.0752 1228.68 100.112 1228.68 Q105.483 1228.68 108.677 1231.36 Q111.871 1234.05 111.871 1238.54 Q111.871 1240.67 111.061 1242.59 Q110.274 1244.49 108.168 1247.08 Q107.589 1247.75 104.487 1250.97 Q101.385 1254.16 95.7373 1259.93 Z\" fill=\"#000000\" fill-rule=\"evenodd\" fill-opacity=\"1\" /><path clip-path=\"url(#clip490)\" d=\"M51.5708 1007.16 L81.2466 1007.16 L81.2466 1011.1 L51.5708 1011.1 L51.5708 1007.16 Z\" fill=\"#000000\" fill-rule=\"evenodd\" fill-opacity=\"1\" /><path clip-path=\"url(#clip490)\" d=\"M92.1493 1020.06 L99.7882 1020.06 L99.7882 993.693 L91.478 995.359 L91.478 991.1 L99.7419 989.433 L104.418 989.433 L104.418 1020.06 L112.057 1020.06 L112.057 1023.99 L92.1493 1023.99 L92.1493 1020.06 Z\" fill=\"#000000\" fill-rule=\"evenodd\" fill-opacity=\"1\" /><path clip-path=\"url(#clip490)\" d=\"M100.112 752.645 Q96.5011 752.645 94.6724 756.209 Q92.8669 759.751 92.8669 766.881 Q92.8669 773.987 94.6724 777.552 Q96.5011 781.094 100.112 781.094 Q103.746 781.094 105.552 777.552 Q107.381 773.987 107.381 766.881 Q107.381 759.751 105.552 756.209 Q103.746 752.645 100.112 752.645 M100.112 748.941 Q105.922 748.941 108.978 753.547 Q112.057 758.131 112.057 766.881 Q112.057 775.608 108.978 780.214 Q105.922 784.797 100.112 784.797 Q94.3021 784.797 91.2234 780.214 Q88.1679 775.608 88.1679 766.881 Q88.1679 758.131 91.2234 753.547 Q94.3021 748.941 100.112 748.941 Z\" fill=\"#000000\" fill-rule=\"evenodd\" fill-opacity=\"1\" /><path clip-path=\"url(#clip490)\" d=\"M92.1493 540.324 L99.7882 540.324 L99.7882 513.958 L91.478 515.625 L91.478 511.365 L99.7419 509.699 L104.418 509.699 L104.418 540.324 L112.057 540.324 L112.057 544.259 L92.1493 544.259 L92.1493 540.324 Z\" fill=\"#000000\" fill-rule=\"evenodd\" fill-opacity=\"1\" /><path clip-path=\"url(#clip490)\" d=\"M95.7373 300.456 L112.057 300.456 L112.057 304.391 L90.1123 304.391 L90.1123 300.456 Q92.7743 297.702 97.3576 293.072 Q101.964 288.419 103.145 287.077 Q105.39 284.554 106.27 282.817 Q107.172 281.058 107.172 279.368 Q107.172 276.614 105.228 274.878 Q103.307 273.142 100.205 273.142 Q98.0058 273.142 95.5521 273.905 Q93.1215 274.669 90.3438 276.22 L90.3438 271.498 Q93.1678 270.364 95.6215 269.785 Q98.0752 269.206 100.112 269.206 Q105.483 269.206 108.677 271.892 Q111.871 274.577 111.871 279.067 Q111.871 281.197 111.061 283.118 Q110.274 285.016 108.168 287.609 Q107.589 288.28 104.487 291.498 Q101.385 294.692 95.7373 300.456 Z\" fill=\"#000000\" fill-rule=\"evenodd\" fill-opacity=\"1\" /><path clip-path=\"url(#clip490)\" d=\"M104.927 45.8899 Q108.283 46.6075 110.158 48.876 Q112.057 51.1445 112.057 54.4779 Q112.057 59.5936 108.538 62.3945 Q105.02 65.1954 98.5382 65.1954 Q96.3623 65.1954 94.0475 64.7556 Q91.7558 64.3389 89.3021 63.4824 L89.3021 58.9686 Q91.2465 60.1028 93.5613 60.6815 Q95.8761 61.2602 98.3993 61.2602 Q102.797 61.2602 105.089 59.5241 Q107.404 57.788 107.404 54.4779 Q107.404 51.4223 105.251 49.7094 Q103.121 47.9733 99.3021 47.9733 L95.2743 47.9733 L95.2743 44.1307 L99.4872 44.1307 Q102.936 44.1307 104.765 42.765 Q106.594 41.3761 106.594 38.7835 Q106.594 36.1215 104.696 34.7094 Q102.821 33.2743 99.3021 33.2743 Q97.3808 33.2743 95.1817 33.6909 Q92.9826 34.1076 90.3438 34.9872 L90.3438 30.8206 Q93.0058 30.0798 95.3206 29.7095 Q97.6585 29.3391 99.7187 29.3391 Q105.043 29.3391 108.145 31.7696 Q111.246 34.177 111.246 38.2974 Q111.246 41.1677 109.603 43.1585 Q107.959 45.1261 104.927 45.8899 Z\" fill=\"#000000\" fill-rule=\"evenodd\" fill-opacity=\"1\" /><polyline clip-path=\"url(#clip492)\" style=\"stroke:#009af9; stroke-linecap:butt; stroke-linejoin:round; stroke-width:4; stroke-opacity:1; fill:none\" points=\"\n  1250.41,766.846 1617.86,766.846 \n  \"/>\n<polyline clip-path=\"url(#clip492)\" style=\"stroke:#009af9; stroke-linecap:butt; stroke-linejoin:round; stroke-width:4; stroke-opacity:1; fill:none\" points=\"\n  1581.86,748.846 1617.86,766.846 1581.86,784.846 \n  \"/>\n<polyline clip-path=\"url(#clip492)\" style=\"stroke:#009af9; stroke-linecap:butt; stroke-linejoin:round; stroke-width:4; stroke-opacity:1; fill:none\" points=\"\n  1617.86,766.846 1250.41,766.846 \n  \"/>\n<polyline clip-path=\"url(#clip492)\" style=\"stroke:#e26f46; stroke-linecap:butt; stroke-linejoin:round; stroke-width:4; stroke-opacity:1; fill:none\" points=\"\n  1250.41,766.846 1250.41,526.979 \n  \"/>\n<polyline clip-path=\"url(#clip492)\" style=\"stroke:#e26f46; stroke-linecap:butt; stroke-linejoin:round; stroke-width:4; stroke-opacity:1; fill:none\" points=\"\n  1232.41,562.979 1250.41,526.979 1268.41,562.979 \n  \"/>\n<polyline clip-path=\"url(#clip492)\" style=\"stroke:#e26f46; stroke-linecap:butt; stroke-linejoin:round; stroke-width:4; stroke-opacity:1; fill:none\" points=\"\n  1250.41,526.979 1250.41,766.846 \n  \"/>\n<polyline clip-path=\"url(#clip492)\" style=\"stroke:#3da44d; stroke-linecap:butt; stroke-linejoin:round; stroke-width:4; stroke-opacity:1; fill:none\" points=\"\n  1250.41,766.846 1985.31,526.979 \n  \"/>\n<polyline clip-path=\"url(#clip492)\" style=\"stroke:#3da44d; stroke-linecap:butt; stroke-linejoin:round; stroke-width:4; stroke-opacity:1; fill:none\" points=\"\n  1945.5,521.037 1985.31,526.979 1956.67,555.261 \n  \"/>\n<polyline clip-path=\"url(#clip492)\" style=\"stroke:#3da44d; stroke-linecap:butt; stroke-linejoin:round; stroke-width:4; stroke-opacity:1; fill:none\" points=\"\n  1985.31,526.979 1250.41,766.846 \n  \"/>\n<path clip-path=\"url(#clip490)\" d=\"\nM1975.02 302.578 L2279.27 302.578 L2279.27 95.2176 L1975.02 95.2176  Z\n  \" fill=\"#ffffff\" fill-rule=\"evenodd\" fill-opacity=\"1\"/>\n<polyline clip-path=\"url(#clip490)\" style=\"stroke:#000000; stroke-linecap:butt; stroke-linejoin:round; stroke-width:4; stroke-opacity:1; fill:none\" points=\"\n  1975.02,302.578 2279.27,302.578 2279.27,95.2176 1975.02,95.2176 1975.02,302.578 \n  \"/>\n<polyline clip-path=\"url(#clip490)\" style=\"stroke:#009af9; stroke-linecap:butt; stroke-linejoin:round; stroke-width:4; stroke-opacity:1; fill:none\" points=\"\n  1999.51,147.058 2146.49,147.058 \n  \"/>\n<path clip-path=\"url(#clip490)\" d=\"M2187.38 148.134 Q2188.88 148.643 2190.3 150.31 Q2191.73 151.977 2193.17 154.893 L2197.91 164.338 L2192.89 164.338 L2188.47 155.472 Q2186.75 152 2185.13 150.865 Q2183.54 149.731 2180.76 149.731 L2175.67 149.731 L2175.67 164.338 L2170.99 164.338 L2170.99 129.778 L2181.55 129.778 Q2187.47 129.778 2190.39 132.254 Q2193.31 134.731 2193.31 139.731 Q2193.31 142.995 2191.78 145.148 Q2190.27 147.301 2187.38 148.134 M2175.67 133.62 L2175.67 145.889 L2181.55 145.889 Q2184.93 145.889 2186.64 144.338 Q2188.37 142.764 2188.37 139.731 Q2188.37 136.699 2186.64 135.171 Q2184.93 133.62 2181.55 133.62 L2175.67 133.62 Z\" fill=\"#000000\" fill-rule=\"evenodd\" fill-opacity=\"1\" /><path clip-path=\"url(#clip490)\" d=\"M2202.26 129.778 L2207.29 129.778 L2215.87 142.625 L2224.51 129.778 L2229.53 129.778 L2218.42 146.375 L2230.27 164.338 L2225.25 164.338 L2215.53 149.639 L2205.74 164.338 L2200.69 164.338 L2213.03 145.889 L2202.26 129.778 Z\" fill=\"#000000\" fill-rule=\"evenodd\" fill-opacity=\"1\" /><polyline clip-path=\"url(#clip490)\" style=\"stroke:#e26f46; stroke-linecap:butt; stroke-linejoin:round; stroke-width:4; stroke-opacity:1; fill:none\" points=\"\n  1999.51,198.898 2146.49,198.898 \n  \"/>\n<path clip-path=\"url(#clip490)\" d=\"M2187.38 199.974 Q2188.88 200.483 2190.3 202.15 Q2191.73 203.817 2193.17 206.733 L2197.91 216.178 L2192.89 216.178 L2188.47 207.312 Q2186.75 203.84 2185.13 202.705 Q2183.54 201.571 2180.76 201.571 L2175.67 201.571 L2175.67 216.178 L2170.99 216.178 L2170.99 181.618 L2181.55 181.618 Q2187.47 181.618 2190.39 184.094 Q2193.31 186.571 2193.31 191.571 Q2193.31 194.835 2191.78 196.988 Q2190.27 199.141 2187.38 199.974 M2175.67 185.46 L2175.67 197.729 L2181.55 197.729 Q2184.93 197.729 2186.64 196.178 Q2188.37 194.604 2188.37 191.571 Q2188.37 188.539 2186.64 187.011 Q2184.93 185.46 2181.55 185.46 L2175.67 185.46 Z\" fill=\"#000000\" fill-rule=\"evenodd\" fill-opacity=\"1\" /><path clip-path=\"url(#clip490)\" d=\"M2196.15 181.618 L2201.18 181.618 L2210.76 195.83 L2220.27 181.618 L2225.3 181.618 L2213.07 199.719 L2213.07 216.178 L2208.37 216.178 L2208.37 199.719 L2196.15 181.618 Z\" fill=\"#000000\" fill-rule=\"evenodd\" fill-opacity=\"1\" /><polyline clip-path=\"url(#clip490)\" style=\"stroke:#3da44d; stroke-linecap:butt; stroke-linejoin:round; stroke-width:4; stroke-opacity:1; fill:none\" points=\"\n  1999.51,250.738 2146.49,250.738 \n  \"/>\n<path clip-path=\"url(#clip490)\" d=\"M2175.67 237.3 L2175.67 250.286 L2181.55 250.286 Q2184.81 250.286 2186.59 248.596 Q2188.37 246.907 2188.37 243.782 Q2188.37 240.68 2186.59 238.99 Q2184.81 237.3 2181.55 237.3 L2175.67 237.3 M2170.99 233.458 L2181.55 233.458 Q2187.36 233.458 2190.32 236.096 Q2193.31 238.712 2193.31 243.782 Q2193.31 248.897 2190.32 251.513 Q2187.36 254.129 2181.55 254.129 L2175.67 254.129 L2175.67 268.018 L2170.99 268.018 L2170.99 233.458 Z\" fill=\"#000000\" fill-rule=\"evenodd\" fill-opacity=\"1\" /></svg>\n",
      "text/html": [
       "<?xml version=\"1.0\" encoding=\"utf-8\"?>\n",
       "<svg xmlns=\"http://www.w3.org/2000/svg\" xmlns:xlink=\"http://www.w3.org/1999/xlink\" width=\"600\" height=\"400\" viewBox=\"0 0 2400 1600\">\n",
       "<defs>\n",
       "  <clipPath id=\"clip540\">\n",
       "    <rect x=\"0\" y=\"0\" width=\"2400\" height=\"1600\"/>\n",
       "  </clipPath>\n",
       "</defs>\n",
       "<path clip-path=\"url(#clip540)\" d=\"\n",
       "M0 1600 L2400 1600 L2400 0 L0 0  Z\n",
       "  \" fill=\"#ffffff\" fill-rule=\"evenodd\" fill-opacity=\"1\"/>\n",
       "<defs>\n",
       "  <clipPath id=\"clip541\">\n",
       "    <rect x=\"480\" y=\"0\" width=\"1681\" height=\"1600\"/>\n",
       "  </clipPath>\n",
       "</defs>\n",
       "<path clip-path=\"url(#clip540)\" d=\"\n",
       "M148.057 1486.45 L2352.76 1486.45 L2352.76 47.2441 L148.057 47.2441  Z\n",
       "  \" fill=\"#ffffff\" fill-rule=\"evenodd\" fill-opacity=\"1\"/>\n",
       "<defs>\n",
       "  <clipPath id=\"clip542\">\n",
       "    <rect x=\"148\" y=\"47\" width=\"2206\" height=\"1440\"/>\n",
       "  </clipPath>\n",
       "</defs>\n",
       "<polyline clip-path=\"url(#clip542)\" style=\"stroke:#000000; stroke-linecap:butt; stroke-linejoin:round; stroke-width:2; stroke-opacity:0.1; fill:none\" points=\"\n",
       "  148.057,1486.45 148.057,47.2441 \n",
       "  \"/>\n",
       "<polyline clip-path=\"url(#clip542)\" style=\"stroke:#000000; stroke-linecap:butt; stroke-linejoin:round; stroke-width:2; stroke-opacity:0.1; fill:none\" points=\"\n",
       "  515.506,1486.45 515.506,47.2441 \n",
       "  \"/>\n",
       "<polyline clip-path=\"url(#clip542)\" style=\"stroke:#000000; stroke-linecap:butt; stroke-linejoin:round; stroke-width:2; stroke-opacity:0.1; fill:none\" points=\"\n",
       "  882.956,1486.45 882.956,47.2441 \n",
       "  \"/>\n",
       "<polyline clip-path=\"url(#clip542)\" style=\"stroke:#000000; stroke-linecap:butt; stroke-linejoin:round; stroke-width:2; stroke-opacity:0.1; fill:none\" points=\"\n",
       "  1250.41,1486.45 1250.41,47.2441 \n",
       "  \"/>\n",
       "<polyline clip-path=\"url(#clip542)\" style=\"stroke:#000000; stroke-linecap:butt; stroke-linejoin:round; stroke-width:2; stroke-opacity:0.1; fill:none\" points=\"\n",
       "  1617.86,1486.45 1617.86,47.2441 \n",
       "  \"/>\n",
       "<polyline clip-path=\"url(#clip542)\" style=\"stroke:#000000; stroke-linecap:butt; stroke-linejoin:round; stroke-width:2; stroke-opacity:0.1; fill:none\" points=\"\n",
       "  1985.31,1486.45 1985.31,47.2441 \n",
       "  \"/>\n",
       "<polyline clip-path=\"url(#clip542)\" style=\"stroke:#000000; stroke-linecap:butt; stroke-linejoin:round; stroke-width:2; stroke-opacity:0.1; fill:none\" points=\"\n",
       "  2352.76,1486.45 2352.76,47.2441 \n",
       "  \"/>\n",
       "<polyline clip-path=\"url(#clip540)\" style=\"stroke:#000000; stroke-linecap:butt; stroke-linejoin:round; stroke-width:4; stroke-opacity:1; fill:none\" points=\"\n",
       "  148.057,1486.45 2352.76,1486.45 \n",
       "  \"/>\n",
       "<polyline clip-path=\"url(#clip540)\" style=\"stroke:#000000; stroke-linecap:butt; stroke-linejoin:round; stroke-width:4; stroke-opacity:1; fill:none\" points=\"\n",
       "  148.057,1486.45 148.057,1467.55 \n",
       "  \"/>\n",
       "<polyline clip-path=\"url(#clip540)\" style=\"stroke:#000000; stroke-linecap:butt; stroke-linejoin:round; stroke-width:4; stroke-opacity:1; fill:none\" points=\"\n",
       "  515.506,1486.45 515.506,1467.55 \n",
       "  \"/>\n",
       "<polyline clip-path=\"url(#clip540)\" style=\"stroke:#000000; stroke-linecap:butt; stroke-linejoin:round; stroke-width:4; stroke-opacity:1; fill:none\" points=\"\n",
       "  882.956,1486.45 882.956,1467.55 \n",
       "  \"/>\n",
       "<polyline clip-path=\"url(#clip540)\" style=\"stroke:#000000; stroke-linecap:butt; stroke-linejoin:round; stroke-width:4; stroke-opacity:1; fill:none\" points=\"\n",
       "  1250.41,1486.45 1250.41,1467.55 \n",
       "  \"/>\n",
       "<polyline clip-path=\"url(#clip540)\" style=\"stroke:#000000; stroke-linecap:butt; stroke-linejoin:round; stroke-width:4; stroke-opacity:1; fill:none\" points=\"\n",
       "  1617.86,1486.45 1617.86,1467.55 \n",
       "  \"/>\n",
       "<polyline clip-path=\"url(#clip540)\" style=\"stroke:#000000; stroke-linecap:butt; stroke-linejoin:round; stroke-width:4; stroke-opacity:1; fill:none\" points=\"\n",
       "  1985.31,1486.45 1985.31,1467.55 \n",
       "  \"/>\n",
       "<polyline clip-path=\"url(#clip540)\" style=\"stroke:#000000; stroke-linecap:butt; stroke-linejoin:round; stroke-width:4; stroke-opacity:1; fill:none\" points=\"\n",
       "  2352.76,1486.45 2352.76,1467.55 \n",
       "  \"/>\n",
       "<path clip-path=\"url(#clip540)\" d=\"M117.524 1532.02 L147.2 1532.02 L147.2 1535.95 L117.524 1535.95 L117.524 1532.02 Z\" fill=\"#000000\" fill-rule=\"evenodd\" fill-opacity=\"1\" /><path clip-path=\"url(#clip540)\" d=\"M171.459 1530.21 Q174.816 1530.93 176.691 1533.2 Q178.589 1535.47 178.589 1538.8 Q178.589 1543.92 175.07 1546.72 Q171.552 1549.52 165.07 1549.52 Q162.894 1549.52 160.58 1549.08 Q158.288 1548.66 155.834 1547.81 L155.834 1543.29 Q157.779 1544.43 160.094 1545.01 Q162.408 1545.58 164.932 1545.58 Q169.33 1545.58 171.621 1543.85 Q173.936 1542.11 173.936 1538.8 Q173.936 1535.75 171.783 1534.03 Q169.654 1532.3 165.834 1532.3 L161.807 1532.3 L161.807 1528.45 L166.019 1528.45 Q169.469 1528.45 171.297 1527.09 Q173.126 1525.7 173.126 1523.11 Q173.126 1520.45 171.228 1519.03 Q169.353 1517.6 165.834 1517.6 Q163.913 1517.6 161.714 1518.01 Q159.515 1518.43 156.876 1519.31 L156.876 1515.14 Q159.538 1514.4 161.853 1514.03 Q164.191 1513.66 166.251 1513.66 Q171.575 1513.66 174.677 1516.09 Q177.779 1518.5 177.779 1522.62 Q177.779 1525.49 176.135 1527.48 Q174.492 1529.45 171.459 1530.21 Z\" fill=\"#000000\" fill-rule=\"evenodd\" fill-opacity=\"1\" /><path clip-path=\"url(#clip540)\" d=\"M485.449 1532.02 L515.125 1532.02 L515.125 1535.95 L485.449 1535.95 L485.449 1532.02 Z\" fill=\"#000000\" fill-rule=\"evenodd\" fill-opacity=\"1\" /><path clip-path=\"url(#clip540)\" d=\"M529.245 1544.91 L545.564 1544.91 L545.564 1548.85 L523.62 1548.85 L523.62 1544.91 Q526.282 1542.16 530.865 1537.53 Q535.472 1532.88 536.652 1531.53 Q538.898 1529.01 539.777 1527.27 Q540.68 1525.51 540.68 1523.82 Q540.68 1521.07 538.736 1519.33 Q536.814 1517.6 533.712 1517.6 Q531.513 1517.6 529.06 1518.36 Q526.629 1519.13 523.851 1520.68 L523.851 1515.95 Q526.675 1514.82 529.129 1514.24 Q531.583 1513.66 533.62 1513.66 Q538.99 1513.66 542.185 1516.35 Q545.379 1519.03 545.379 1523.52 Q545.379 1525.65 544.569 1527.57 Q543.782 1529.47 541.675 1532.07 Q541.097 1532.74 537.995 1535.95 Q534.893 1539.15 529.245 1544.91 Z\" fill=\"#000000\" fill-rule=\"evenodd\" fill-opacity=\"1\" /><path clip-path=\"url(#clip540)\" d=\"M852.713 1532.02 L882.389 1532.02 L882.389 1535.95 L852.713 1535.95 L852.713 1532.02 Z\" fill=\"#000000\" fill-rule=\"evenodd\" fill-opacity=\"1\" /><path clip-path=\"url(#clip540)\" d=\"M893.292 1544.91 L900.931 1544.91 L900.931 1518.55 L892.621 1520.21 L892.621 1515.95 L900.885 1514.29 L905.56 1514.29 L905.56 1544.91 L913.199 1544.91 L913.199 1548.85 L893.292 1548.85 L893.292 1544.91 Z\" fill=\"#000000\" fill-rule=\"evenodd\" fill-opacity=\"1\" /><path clip-path=\"url(#clip540)\" d=\"M1250.41 1517.37 Q1246.8 1517.37 1244.97 1520.93 Q1243.16 1524.47 1243.16 1531.6 Q1243.16 1538.71 1244.97 1542.27 Q1246.8 1545.82 1250.41 1545.82 Q1254.04 1545.82 1255.85 1542.27 Q1257.67 1538.71 1257.67 1531.6 Q1257.67 1524.47 1255.85 1520.93 Q1254.04 1517.37 1250.41 1517.37 M1250.41 1513.66 Q1256.22 1513.66 1259.27 1518.27 Q1262.35 1522.85 1262.35 1531.6 Q1262.35 1540.33 1259.27 1544.94 Q1256.22 1549.52 1250.41 1549.52 Q1244.6 1549.52 1241.52 1544.94 Q1238.46 1540.33 1238.46 1531.6 Q1238.46 1522.85 1241.52 1518.27 Q1244.6 1513.66 1250.41 1513.66 Z\" fill=\"#000000\" fill-rule=\"evenodd\" fill-opacity=\"1\" /><path clip-path=\"url(#clip540)\" d=\"M1608.24 1544.91 L1615.88 1544.91 L1615.88 1518.55 L1607.57 1520.21 L1607.57 1515.95 L1615.83 1514.29 L1620.51 1514.29 L1620.51 1544.91 L1628.15 1544.91 L1628.15 1548.85 L1608.24 1548.85 L1608.24 1544.91 Z\" fill=\"#000000\" fill-rule=\"evenodd\" fill-opacity=\"1\" /><path clip-path=\"url(#clip540)\" d=\"M1979.96 1544.91 L1996.28 1544.91 L1996.28 1548.85 L1974.33 1548.85 L1974.33 1544.91 Q1977 1542.16 1981.58 1537.53 Q1986.19 1532.88 1987.37 1531.53 Q1989.61 1529.01 1990.49 1527.27 Q1991.39 1525.51 1991.39 1523.82 Q1991.39 1521.07 1989.45 1519.33 Q1987.53 1517.6 1984.43 1517.6 Q1982.23 1517.6 1979.77 1518.36 Q1977.34 1519.13 1974.57 1520.68 L1974.57 1515.95 Q1977.39 1514.82 1979.84 1514.24 Q1982.3 1513.66 1984.33 1513.66 Q1989.7 1513.66 1992.9 1516.35 Q1996.09 1519.03 1996.09 1523.52 Q1996.09 1525.65 1995.28 1527.57 Q1994.5 1529.47 1992.39 1532.07 Q1991.81 1532.74 1988.71 1535.95 Q1985.61 1539.15 1979.96 1544.91 Z\" fill=\"#000000\" fill-rule=\"evenodd\" fill-opacity=\"1\" /><path clip-path=\"url(#clip540)\" d=\"M2357 1530.21 Q2360.36 1530.93 2362.24 1533.2 Q2364.13 1535.47 2364.13 1538.8 Q2364.13 1543.92 2360.61 1546.72 Q2357.1 1549.52 2350.61 1549.52 Q2348.44 1549.52 2346.12 1549.08 Q2343.83 1548.66 2341.38 1547.81 L2341.38 1543.29 Q2343.32 1544.43 2345.64 1545.01 Q2347.95 1545.58 2350.48 1545.58 Q2354.87 1545.58 2357.17 1543.85 Q2359.48 1542.11 2359.48 1538.8 Q2359.48 1535.75 2357.33 1534.03 Q2355.2 1532.3 2351.38 1532.3 L2347.35 1532.3 L2347.35 1528.45 L2351.56 1528.45 Q2355.01 1528.45 2356.84 1527.09 Q2358.67 1525.7 2358.67 1523.11 Q2358.67 1520.45 2356.77 1519.03 Q2354.9 1517.6 2351.38 1517.6 Q2349.46 1517.6 2347.26 1518.01 Q2345.06 1518.43 2342.42 1519.31 L2342.42 1515.14 Q2345.08 1514.4 2347.4 1514.03 Q2349.74 1513.66 2351.8 1513.66 Q2357.12 1513.66 2360.22 1516.09 Q2363.32 1518.5 2363.32 1522.62 Q2363.32 1525.49 2361.68 1527.48 Q2360.04 1529.45 2357 1530.21 Z\" fill=\"#000000\" fill-rule=\"evenodd\" fill-opacity=\"1\" /><polyline clip-path=\"url(#clip542)\" style=\"stroke:#000000; stroke-linecap:butt; stroke-linejoin:round; stroke-width:2; stroke-opacity:0.1; fill:none\" points=\"\n",
       "  148.057,1486.45 2352.76,1486.45 \n",
       "  \"/>\n",
       "<polyline clip-path=\"url(#clip542)\" style=\"stroke:#000000; stroke-linecap:butt; stroke-linejoin:round; stroke-width:2; stroke-opacity:0.1; fill:none\" points=\"\n",
       "  148.057,1246.58 2352.76,1246.58 \n",
       "  \"/>\n",
       "<polyline clip-path=\"url(#clip542)\" style=\"stroke:#000000; stroke-linecap:butt; stroke-linejoin:round; stroke-width:2; stroke-opacity:0.1; fill:none\" points=\"\n",
       "  148.057,1006.71 2352.76,1006.71 \n",
       "  \"/>\n",
       "<polyline clip-path=\"url(#clip542)\" style=\"stroke:#000000; stroke-linecap:butt; stroke-linejoin:round; stroke-width:2; stroke-opacity:0.1; fill:none\" points=\"\n",
       "  148.057,766.846 2352.76,766.846 \n",
       "  \"/>\n",
       "<polyline clip-path=\"url(#clip542)\" style=\"stroke:#000000; stroke-linecap:butt; stroke-linejoin:round; stroke-width:2; stroke-opacity:0.1; fill:none\" points=\"\n",
       "  148.057,526.979 2352.76,526.979 \n",
       "  \"/>\n",
       "<polyline clip-path=\"url(#clip542)\" style=\"stroke:#000000; stroke-linecap:butt; stroke-linejoin:round; stroke-width:2; stroke-opacity:0.1; fill:none\" points=\"\n",
       "  148.057,287.111 2352.76,287.111 \n",
       "  \"/>\n",
       "<polyline clip-path=\"url(#clip542)\" style=\"stroke:#000000; stroke-linecap:butt; stroke-linejoin:round; stroke-width:2; stroke-opacity:0.1; fill:none\" points=\"\n",
       "  148.057,47.2441 2352.76,47.2441 \n",
       "  \"/>\n",
       "<polyline clip-path=\"url(#clip540)\" style=\"stroke:#000000; stroke-linecap:butt; stroke-linejoin:round; stroke-width:4; stroke-opacity:1; fill:none\" points=\"\n",
       "  148.057,1486.45 148.057,47.2441 \n",
       "  \"/>\n",
       "<polyline clip-path=\"url(#clip540)\" style=\"stroke:#000000; stroke-linecap:butt; stroke-linejoin:round; stroke-width:4; stroke-opacity:1; fill:none\" points=\"\n",
       "  148.057,1486.45 166.954,1486.45 \n",
       "  \"/>\n",
       "<polyline clip-path=\"url(#clip540)\" style=\"stroke:#000000; stroke-linecap:butt; stroke-linejoin:round; stroke-width:4; stroke-opacity:1; fill:none\" points=\"\n",
       "  148.057,1246.58 166.954,1246.58 \n",
       "  \"/>\n",
       "<polyline clip-path=\"url(#clip540)\" style=\"stroke:#000000; stroke-linecap:butt; stroke-linejoin:round; stroke-width:4; stroke-opacity:1; fill:none\" points=\"\n",
       "  148.057,1006.71 166.954,1006.71 \n",
       "  \"/>\n",
       "<polyline clip-path=\"url(#clip540)\" style=\"stroke:#000000; stroke-linecap:butt; stroke-linejoin:round; stroke-width:4; stroke-opacity:1; fill:none\" points=\"\n",
       "  148.057,766.846 166.954,766.846 \n",
       "  \"/>\n",
       "<polyline clip-path=\"url(#clip540)\" style=\"stroke:#000000; stroke-linecap:butt; stroke-linejoin:round; stroke-width:4; stroke-opacity:1; fill:none\" points=\"\n",
       "  148.057,526.979 166.954,526.979 \n",
       "  \"/>\n",
       "<polyline clip-path=\"url(#clip540)\" style=\"stroke:#000000; stroke-linecap:butt; stroke-linejoin:round; stroke-width:4; stroke-opacity:1; fill:none\" points=\"\n",
       "  148.057,287.111 166.954,287.111 \n",
       "  \"/>\n",
       "<polyline clip-path=\"url(#clip540)\" style=\"stroke:#000000; stroke-linecap:butt; stroke-linejoin:round; stroke-width:4; stroke-opacity:1; fill:none\" points=\"\n",
       "  148.057,47.2441 166.954,47.2441 \n",
       "  \"/>\n",
       "<path clip-path=\"url(#clip540)\" d=\"M50.9921 1486.9 L80.6679 1486.9 L80.6679 1490.83 L50.9921 1490.83 L50.9921 1486.9 Z\" fill=\"#000000\" fill-rule=\"evenodd\" fill-opacity=\"1\" /><path clip-path=\"url(#clip540)\" d=\"M104.927 1485.09 Q108.283 1485.81 110.158 1488.08 Q112.057 1490.35 112.057 1493.68 Q112.057 1498.8 108.538 1501.6 Q105.02 1504.4 98.5382 1504.4 Q96.3623 1504.4 94.0475 1503.96 Q91.7558 1503.54 89.3021 1502.69 L89.3021 1498.17 Q91.2465 1499.31 93.5613 1499.89 Q95.8761 1500.46 98.3993 1500.46 Q102.797 1500.46 105.089 1498.73 Q107.404 1496.99 107.404 1493.68 Q107.404 1490.63 105.251 1488.91 Q103.121 1487.18 99.3021 1487.18 L95.2743 1487.18 L95.2743 1483.33 L99.4872 1483.33 Q102.936 1483.33 104.765 1481.97 Q106.594 1480.58 106.594 1477.99 Q106.594 1475.33 104.696 1473.91 Q102.821 1472.48 99.3021 1472.48 Q97.3808 1472.48 95.1817 1472.89 Q92.9826 1473.31 90.3438 1474.19 L90.3438 1470.02 Q93.0058 1469.28 95.3206 1468.91 Q97.6585 1468.54 99.7187 1468.54 Q105.043 1468.54 108.145 1470.97 Q111.246 1473.38 111.246 1477.5 Q111.246 1480.37 109.603 1482.36 Q107.959 1484.33 104.927 1485.09 Z\" fill=\"#000000\" fill-rule=\"evenodd\" fill-opacity=\"1\" /><path clip-path=\"url(#clip540)\" d=\"M51.9412 1247.03 L81.617 1247.03 L81.617 1250.97 L51.9412 1250.97 L51.9412 1247.03 Z\" fill=\"#000000\" fill-rule=\"evenodd\" fill-opacity=\"1\" /><path clip-path=\"url(#clip540)\" d=\"M95.7373 1259.93 L112.057 1259.93 L112.057 1263.86 L90.1123 1263.86 L90.1123 1259.93 Q92.7743 1257.17 97.3576 1252.54 Q101.964 1247.89 103.145 1246.55 Q105.39 1244.02 106.27 1242.29 Q107.172 1240.53 107.172 1238.84 Q107.172 1236.08 105.228 1234.35 Q103.307 1232.61 100.205 1232.61 Q98.0058 1232.61 95.5521 1233.37 Q93.1215 1234.14 90.3438 1235.69 L90.3438 1230.97 Q93.1678 1229.83 95.6215 1229.25 Q98.0752 1228.68 100.112 1228.68 Q105.483 1228.68 108.677 1231.36 Q111.871 1234.05 111.871 1238.54 Q111.871 1240.67 111.061 1242.59 Q110.274 1244.49 108.168 1247.08 Q107.589 1247.75 104.487 1250.97 Q101.385 1254.16 95.7373 1259.93 Z\" fill=\"#000000\" fill-rule=\"evenodd\" fill-opacity=\"1\" /><path clip-path=\"url(#clip540)\" d=\"M51.5708 1007.16 L81.2466 1007.16 L81.2466 1011.1 L51.5708 1011.1 L51.5708 1007.16 Z\" fill=\"#000000\" fill-rule=\"evenodd\" fill-opacity=\"1\" /><path clip-path=\"url(#clip540)\" d=\"M92.1493 1020.06 L99.7882 1020.06 L99.7882 993.693 L91.478 995.359 L91.478 991.1 L99.7419 989.433 L104.418 989.433 L104.418 1020.06 L112.057 1020.06 L112.057 1023.99 L92.1493 1023.99 L92.1493 1020.06 Z\" fill=\"#000000\" fill-rule=\"evenodd\" fill-opacity=\"1\" /><path clip-path=\"url(#clip540)\" d=\"M100.112 752.645 Q96.5011 752.645 94.6724 756.209 Q92.8669 759.751 92.8669 766.881 Q92.8669 773.987 94.6724 777.552 Q96.5011 781.094 100.112 781.094 Q103.746 781.094 105.552 777.552 Q107.381 773.987 107.381 766.881 Q107.381 759.751 105.552 756.209 Q103.746 752.645 100.112 752.645 M100.112 748.941 Q105.922 748.941 108.978 753.547 Q112.057 758.131 112.057 766.881 Q112.057 775.608 108.978 780.214 Q105.922 784.797 100.112 784.797 Q94.3021 784.797 91.2234 780.214 Q88.1679 775.608 88.1679 766.881 Q88.1679 758.131 91.2234 753.547 Q94.3021 748.941 100.112 748.941 Z\" fill=\"#000000\" fill-rule=\"evenodd\" fill-opacity=\"1\" /><path clip-path=\"url(#clip540)\" d=\"M92.1493 540.324 L99.7882 540.324 L99.7882 513.958 L91.478 515.625 L91.478 511.365 L99.7419 509.699 L104.418 509.699 L104.418 540.324 L112.057 540.324 L112.057 544.259 L92.1493 544.259 L92.1493 540.324 Z\" fill=\"#000000\" fill-rule=\"evenodd\" fill-opacity=\"1\" /><path clip-path=\"url(#clip540)\" d=\"M95.7373 300.456 L112.057 300.456 L112.057 304.391 L90.1123 304.391 L90.1123 300.456 Q92.7743 297.702 97.3576 293.072 Q101.964 288.419 103.145 287.077 Q105.39 284.554 106.27 282.817 Q107.172 281.058 107.172 279.368 Q107.172 276.614 105.228 274.878 Q103.307 273.142 100.205 273.142 Q98.0058 273.142 95.5521 273.905 Q93.1215 274.669 90.3438 276.22 L90.3438 271.498 Q93.1678 270.364 95.6215 269.785 Q98.0752 269.206 100.112 269.206 Q105.483 269.206 108.677 271.892 Q111.871 274.577 111.871 279.067 Q111.871 281.197 111.061 283.118 Q110.274 285.016 108.168 287.609 Q107.589 288.28 104.487 291.498 Q101.385 294.692 95.7373 300.456 Z\" fill=\"#000000\" fill-rule=\"evenodd\" fill-opacity=\"1\" /><path clip-path=\"url(#clip540)\" d=\"M104.927 45.8899 Q108.283 46.6075 110.158 48.876 Q112.057 51.1445 112.057 54.4779 Q112.057 59.5936 108.538 62.3945 Q105.02 65.1954 98.5382 65.1954 Q96.3623 65.1954 94.0475 64.7556 Q91.7558 64.3389 89.3021 63.4824 L89.3021 58.9686 Q91.2465 60.1028 93.5613 60.6815 Q95.8761 61.2602 98.3993 61.2602 Q102.797 61.2602 105.089 59.5241 Q107.404 57.788 107.404 54.4779 Q107.404 51.4223 105.251 49.7094 Q103.121 47.9733 99.3021 47.9733 L95.2743 47.9733 L95.2743 44.1307 L99.4872 44.1307 Q102.936 44.1307 104.765 42.765 Q106.594 41.3761 106.594 38.7835 Q106.594 36.1215 104.696 34.7094 Q102.821 33.2743 99.3021 33.2743 Q97.3808 33.2743 95.1817 33.6909 Q92.9826 34.1076 90.3438 34.9872 L90.3438 30.8206 Q93.0058 30.0798 95.3206 29.7095 Q97.6585 29.3391 99.7187 29.3391 Q105.043 29.3391 108.145 31.7696 Q111.246 34.177 111.246 38.2974 Q111.246 41.1677 109.603 43.1585 Q107.959 45.1261 104.927 45.8899 Z\" fill=\"#000000\" fill-rule=\"evenodd\" fill-opacity=\"1\" /><polyline clip-path=\"url(#clip542)\" style=\"stroke:#009af9; stroke-linecap:butt; stroke-linejoin:round; stroke-width:4; stroke-opacity:1; fill:none\" points=\"\n",
       "  1250.41,766.846 1617.86,766.846 \n",
       "  \"/>\n",
       "<polyline clip-path=\"url(#clip542)\" style=\"stroke:#009af9; stroke-linecap:butt; stroke-linejoin:round; stroke-width:4; stroke-opacity:1; fill:none\" points=\"\n",
       "  1581.86,748.846 1617.86,766.846 1581.86,784.846 \n",
       "  \"/>\n",
       "<polyline clip-path=\"url(#clip542)\" style=\"stroke:#009af9; stroke-linecap:butt; stroke-linejoin:round; stroke-width:4; stroke-opacity:1; fill:none\" points=\"\n",
       "  1617.86,766.846 1250.41,766.846 \n",
       "  \"/>\n",
       "<polyline clip-path=\"url(#clip542)\" style=\"stroke:#e26f46; stroke-linecap:butt; stroke-linejoin:round; stroke-width:4; stroke-opacity:1; fill:none\" points=\"\n",
       "  1250.41,766.846 1250.41,526.979 \n",
       "  \"/>\n",
       "<polyline clip-path=\"url(#clip542)\" style=\"stroke:#e26f46; stroke-linecap:butt; stroke-linejoin:round; stroke-width:4; stroke-opacity:1; fill:none\" points=\"\n",
       "  1232.41,562.979 1250.41,526.979 1268.41,562.979 \n",
       "  \"/>\n",
       "<polyline clip-path=\"url(#clip542)\" style=\"stroke:#e26f46; stroke-linecap:butt; stroke-linejoin:round; stroke-width:4; stroke-opacity:1; fill:none\" points=\"\n",
       "  1250.41,526.979 1250.41,766.846 \n",
       "  \"/>\n",
       "<polyline clip-path=\"url(#clip542)\" style=\"stroke:#3da44d; stroke-linecap:butt; stroke-linejoin:round; stroke-width:4; stroke-opacity:1; fill:none\" points=\"\n",
       "  1250.41,766.846 1985.31,526.979 \n",
       "  \"/>\n",
       "<polyline clip-path=\"url(#clip542)\" style=\"stroke:#3da44d; stroke-linecap:butt; stroke-linejoin:round; stroke-width:4; stroke-opacity:1; fill:none\" points=\"\n",
       "  1945.5,521.037 1985.31,526.979 1956.67,555.261 \n",
       "  \"/>\n",
       "<polyline clip-path=\"url(#clip542)\" style=\"stroke:#3da44d; stroke-linecap:butt; stroke-linejoin:round; stroke-width:4; stroke-opacity:1; fill:none\" points=\"\n",
       "  1985.31,526.979 1250.41,766.846 \n",
       "  \"/>\n",
       "<path clip-path=\"url(#clip540)\" d=\"\n",
       "M1975.02 302.578 L2279.27 302.578 L2279.27 95.2176 L1975.02 95.2176  Z\n",
       "  \" fill=\"#ffffff\" fill-rule=\"evenodd\" fill-opacity=\"1\"/>\n",
       "<polyline clip-path=\"url(#clip540)\" style=\"stroke:#000000; stroke-linecap:butt; stroke-linejoin:round; stroke-width:4; stroke-opacity:1; fill:none\" points=\"\n",
       "  1975.02,302.578 2279.27,302.578 2279.27,95.2176 1975.02,95.2176 1975.02,302.578 \n",
       "  \"/>\n",
       "<polyline clip-path=\"url(#clip540)\" style=\"stroke:#009af9; stroke-linecap:butt; stroke-linejoin:round; stroke-width:4; stroke-opacity:1; fill:none\" points=\"\n",
       "  1999.51,147.058 2146.49,147.058 \n",
       "  \"/>\n",
       "<path clip-path=\"url(#clip540)\" d=\"M2187.38 148.134 Q2188.88 148.643 2190.3 150.31 Q2191.73 151.977 2193.17 154.893 L2197.91 164.338 L2192.89 164.338 L2188.47 155.472 Q2186.75 152 2185.13 150.865 Q2183.54 149.731 2180.76 149.731 L2175.67 149.731 L2175.67 164.338 L2170.99 164.338 L2170.99 129.778 L2181.55 129.778 Q2187.47 129.778 2190.39 132.254 Q2193.31 134.731 2193.31 139.731 Q2193.31 142.995 2191.78 145.148 Q2190.27 147.301 2187.38 148.134 M2175.67 133.62 L2175.67 145.889 L2181.55 145.889 Q2184.93 145.889 2186.64 144.338 Q2188.37 142.764 2188.37 139.731 Q2188.37 136.699 2186.64 135.171 Q2184.93 133.62 2181.55 133.62 L2175.67 133.62 Z\" fill=\"#000000\" fill-rule=\"evenodd\" fill-opacity=\"1\" /><path clip-path=\"url(#clip540)\" d=\"M2202.26 129.778 L2207.29 129.778 L2215.87 142.625 L2224.51 129.778 L2229.53 129.778 L2218.42 146.375 L2230.27 164.338 L2225.25 164.338 L2215.53 149.639 L2205.74 164.338 L2200.69 164.338 L2213.03 145.889 L2202.26 129.778 Z\" fill=\"#000000\" fill-rule=\"evenodd\" fill-opacity=\"1\" /><polyline clip-path=\"url(#clip540)\" style=\"stroke:#e26f46; stroke-linecap:butt; stroke-linejoin:round; stroke-width:4; stroke-opacity:1; fill:none\" points=\"\n",
       "  1999.51,198.898 2146.49,198.898 \n",
       "  \"/>\n",
       "<path clip-path=\"url(#clip540)\" d=\"M2187.38 199.974 Q2188.88 200.483 2190.3 202.15 Q2191.73 203.817 2193.17 206.733 L2197.91 216.178 L2192.89 216.178 L2188.47 207.312 Q2186.75 203.84 2185.13 202.705 Q2183.54 201.571 2180.76 201.571 L2175.67 201.571 L2175.67 216.178 L2170.99 216.178 L2170.99 181.618 L2181.55 181.618 Q2187.47 181.618 2190.39 184.094 Q2193.31 186.571 2193.31 191.571 Q2193.31 194.835 2191.78 196.988 Q2190.27 199.141 2187.38 199.974 M2175.67 185.46 L2175.67 197.729 L2181.55 197.729 Q2184.93 197.729 2186.64 196.178 Q2188.37 194.604 2188.37 191.571 Q2188.37 188.539 2186.64 187.011 Q2184.93 185.46 2181.55 185.46 L2175.67 185.46 Z\" fill=\"#000000\" fill-rule=\"evenodd\" fill-opacity=\"1\" /><path clip-path=\"url(#clip540)\" d=\"M2196.15 181.618 L2201.18 181.618 L2210.76 195.83 L2220.27 181.618 L2225.3 181.618 L2213.07 199.719 L2213.07 216.178 L2208.37 216.178 L2208.37 199.719 L2196.15 181.618 Z\" fill=\"#000000\" fill-rule=\"evenodd\" fill-opacity=\"1\" /><polyline clip-path=\"url(#clip540)\" style=\"stroke:#3da44d; stroke-linecap:butt; stroke-linejoin:round; stroke-width:4; stroke-opacity:1; fill:none\" points=\"\n",
       "  1999.51,250.738 2146.49,250.738 \n",
       "  \"/>\n",
       "<path clip-path=\"url(#clip540)\" d=\"M2175.67 237.3 L2175.67 250.286 L2181.55 250.286 Q2184.81 250.286 2186.59 248.596 Q2188.37 246.907 2188.37 243.782 Q2188.37 240.68 2186.59 238.99 Q2184.81 237.3 2181.55 237.3 L2175.67 237.3 M2170.99 233.458 L2181.55 233.458 Q2187.36 233.458 2190.32 236.096 Q2193.31 238.712 2193.31 243.782 Q2193.31 248.897 2190.32 251.513 Q2187.36 254.129 2181.55 254.129 L2175.67 254.129 L2175.67 268.018 L2170.99 268.018 L2170.99 233.458 Z\" fill=\"#000000\" fill-rule=\"evenodd\" fill-opacity=\"1\" /></svg>\n"
      ]
     },
     "metadata": {},
     "output_type": "display_data"
    }
   ],
   "source": [
    "RX=[1,0]\n",
    "RY=[0,1]\n",
    "gr()\n",
    "\n",
    "drawVector(plot, RX,[0,0], (-3,3), (-3,3), \"Vectors\", \"RX\")\n",
    "drawVector(plot!, RY,[0,0], (-3,3), (-3,3), \"\", \"RY\")\n",
    "\n",
    "P=[2,1]\n",
    "drawVector(plot!, P,[0,0], (-3,3), (-3,3), \"\", \"P\")\n"
   ]
  },
  {
   "cell_type": "markdown",
   "metadata": {},
   "source": [
    "# Vector can be written as linear combination of scalar coefficients and basis"
   ]
  },
  {
   "cell_type": "code",
   "execution_count": 38,
   "metadata": {},
   "outputs": [
    {
     "data": {
      "image/png": "[encoded data removed]",
      "image/svg+xml": "<?xml version=\"1.0\" encoding=\"utf-8\"?>\n<svg xmlns=\"http://www.w3.org/2000/svg\" xmlns:xlink=\"http://www.w3.org/1999/xlink\" width=\"600\" height=\"400\" viewBox=\"0 0 2400 1600\">\n<defs>\n  <clipPath id=\"clip580\">\n    <rect x=\"0\" y=\"0\" width=\"2400\" height=\"1600\"/>\n  </clipPath>\n</defs>\n<path clip-path=\"url(#clip580)\" d=\"\nM0 1600 L2400 1600 L2400 0 L0 0  Z\n  \" fill=\"#ffffff\" fill-rule=\"evenodd\" fill-opacity=\"1\"/>\n<defs>\n  <clipPath id=\"clip581\">\n    <rect x=\"480\" y=\"0\" width=\"1681\" height=\"1600\"/>\n  </clipPath>\n</defs>\n<path clip-path=\"url(#clip580)\" d=\"\nM148.057 1486.45 L2352.76 1486.45 L2352.76 47.2441 L148.057 47.2441  Z\n  \" fill=\"#ffffff\" fill-rule=\"evenodd\" fill-opacity=\"1\"/>\n<defs>\n  <clipPath id=\"clip582\">\n    <rect x=\"148\" y=\"47\" width=\"2206\" height=\"1440\"/>\n  </clipPath>\n</defs>\n<polyline clip-path=\"url(#clip582)\" style=\"stroke:#000000; stroke-linecap:butt; stroke-linejoin:round; stroke-width:2; stroke-opacity:0.1; fill:none\" points=\"\n  148.057,1486.45 148.057,47.2441 \n  \"/>\n<polyline clip-path=\"url(#clip582)\" style=\"stroke:#000000; stroke-linecap:butt; stroke-linejoin:round; stroke-width:2; stroke-opacity:0.1; fill:none\" points=\"\n  515.506,1486.45 515.506,47.2441 \n  \"/>\n<polyline clip-path=\"url(#clip582)\" style=\"stroke:#000000; stroke-linecap:butt; stroke-linejoin:round; stroke-width:2; stroke-opacity:0.1; fill:none\" points=\"\n  882.956,1486.45 882.956,47.2441 \n  \"/>\n<polyline clip-path=\"url(#clip582)\" style=\"stroke:#000000; stroke-linecap:butt; stroke-linejoin:round; stroke-width:2; stroke-opacity:0.1; fill:none\" points=\"\n  1250.41,1486.45 1250.41,47.2441 \n  \"/>\n<polyline clip-path=\"url(#clip582)\" style=\"stroke:#000000; stroke-linecap:butt; stroke-linejoin:round; stroke-width:2; stroke-opacity:0.1; fill:none\" points=\"\n  1617.86,1486.45 1617.86,47.2441 \n  \"/>\n<polyline clip-path=\"url(#clip582)\" style=\"stroke:#000000; stroke-linecap:butt; stroke-linejoin:round; stroke-width:2; stroke-opacity:0.1; fill:none\" points=\"\n  1985.31,1486.45 1985.31,47.2441 \n  \"/>\n<polyline clip-path=\"url(#clip582)\" style=\"stroke:#000000; stroke-linecap:butt; stroke-linejoin:round; stroke-width:2; stroke-opacity:0.1; fill:none\" points=\"\n  2352.76,1486.45 2352.76,47.2441 \n  \"/>\n<polyline clip-path=\"url(#clip580)\" style=\"stroke:#000000; stroke-linecap:butt; stroke-linejoin:round; stroke-width:4; stroke-opacity:1; fill:none\" points=\"\n  148.057,1486.45 2352.76,1486.45 \n  \"/>\n<polyline clip-path=\"url(#clip580)\" style=\"stroke:#000000; stroke-linecap:butt; stroke-linejoin:round; stroke-width:4; stroke-opacity:1; fill:none\" points=\"\n  148.057,1486.45 148.057,1467.55 \n  \"/>\n<polyline clip-path=\"url(#clip580)\" style=\"stroke:#000000; stroke-linecap:butt; stroke-linejoin:round; stroke-width:4; stroke-opacity:1; fill:none\" points=\"\n  515.506,1486.45 515.506,1467.55 \n  \"/>\n<polyline clip-path=\"url(#clip580)\" style=\"stroke:#000000; stroke-linecap:butt; stroke-linejoin:round; stroke-width:4; stroke-opacity:1; fill:none\" points=\"\n  882.956,1486.45 882.956,1467.55 \n  \"/>\n<polyline clip-path=\"url(#clip580)\" style=\"stroke:#000000; stroke-linecap:butt; stroke-linejoin:round; stroke-width:4; stroke-opacity:1; fill:none\" points=\"\n  1250.41,1486.45 1250.41,1467.55 \n  \"/>\n<polyline clip-path=\"url(#clip580)\" style=\"stroke:#000000; stroke-linecap:butt; stroke-linejoin:round; stroke-width:4; stroke-opacity:1; fill:none\" points=\"\n  1617.86,1486.45 1617.86,1467.55 \n  \"/>\n<polyline clip-path=\"url(#clip580)\" style=\"stroke:#000000; stroke-linecap:butt; stroke-linejoin:round; stroke-width:4; stroke-opacity:1; fill:none\" points=\"\n  1985.31,1486.45 1985.31,1467.55 \n  \"/>\n<polyline clip-path=\"url(#clip580)\" style=\"stroke:#000000; stroke-linecap:butt; stroke-linejoin:round; stroke-width:4; stroke-opacity:1; fill:none\" points=\"\n  2352.76,1486.45 2352.76,1467.55 \n  \"/>\n<path clip-path=\"url(#clip580)\" d=\"M117.524 1532.02 L147.2 1532.02 L147.2 1535.95 L117.524 1535.95 L117.524 1532.02 Z\" fill=\"#000000\" fill-rule=\"evenodd\" fill-opacity=\"1\" /><path clip-path=\"url(#clip580)\" d=\"M171.459 1530.21 Q174.816 1530.93 176.691 1533.2 Q178.589 1535.47 178.589 1538.8 Q178.589 1543.92 175.07 1546.72 Q171.552 1549.52 165.07 1549.52 Q162.894 1549.52 160.58 1549.08 Q158.288 1548.66 155.834 1547.81 L155.834 1543.29 Q157.779 1544.43 160.094 1545.01 Q162.408 1545.58 164.932 1545.58 Q169.33 1545.58 171.621 1543.85 Q173.936 1542.11 173.936 1538.8 Q173.936 1535.75 171.783 1534.03 Q169.654 1532.3 165.834 1532.3 L161.807 1532.3 L161.807 1528.45 L166.019 1528.45 Q169.469 1528.45 171.297 1527.09 Q173.126 1525.7 173.126 1523.11 Q173.126 1520.45 171.228 1519.03 Q169.353 1517.6 165.834 1517.6 Q163.913 1517.6 161.714 1518.01 Q159.515 1518.43 156.876 1519.31 L156.876 1515.14 Q159.538 1514.4 161.853 1514.03 Q164.191 1513.66 166.251 1513.66 Q171.575 1513.66 174.677 1516.09 Q177.779 1518.5 177.779 1522.62 Q177.779 1525.49 176.135 1527.48 Q174.492 1529.45 171.459 1530.21 Z\" fill=\"#000000\" fill-rule=\"evenodd\" fill-opacity=\"1\" /><path clip-path=\"url(#clip580)\" d=\"M485.449 1532.02 L515.125 1532.02 L515.125 1535.95 L485.449 1535.95 L485.449 1532.02 Z\" fill=\"#000000\" fill-rule=\"evenodd\" fill-opacity=\"1\" /><path clip-path=\"url(#clip580)\" d=\"M529.245 1544.91 L545.564 1544.91 L545.564 1548.85 L523.62 1548.85 L523.62 1544.91 Q526.282 1542.16 530.865 1537.53 Q535.472 1532.88 536.652 1531.53 Q538.898 1529.01 539.777 1527.27 Q540.68 1525.51 540.68 1523.82 Q540.68 1521.07 538.736 1519.33 Q536.814 1517.6 533.712 1517.6 Q531.513 1517.6 529.06 1518.36 Q526.629 1519.13 523.851 1520.68 L523.851 1515.95 Q526.675 1514.82 529.129 1514.24 Q531.583 1513.66 533.62 1513.66 Q538.99 1513.66 542.185 1516.35 Q545.379 1519.03 545.379 1523.52 Q545.379 1525.65 544.569 1527.57 Q543.782 1529.47 541.675 1532.07 Q541.097 1532.74 537.995 1535.95 Q534.893 1539.15 529.245 1544.91 Z\" fill=\"#000000\" fill-rule=\"evenodd\" fill-opacity=\"1\" /><path clip-path=\"url(#clip580)\" d=\"M852.713 1532.02 L882.389 1532.02 L882.389 1535.95 L852.713 1535.95 L852.713 1532.02 Z\" fill=\"#000000\" fill-rule=\"evenodd\" fill-opacity=\"1\" /><path clip-path=\"url(#clip580)\" d=\"M893.292 1544.91 L900.931 1544.91 L900.931 1518.55 L892.621 1520.21 L892.621 1515.95 L900.885 1514.29 L905.56 1514.29 L905.56 1544.91 L913.199 1544.91 L913.199 1548.85 L893.292 1548.85 L893.292 1544.91 Z\" fill=\"#000000\" fill-rule=\"evenodd\" fill-opacity=\"1\" /><path clip-path=\"url(#clip580)\" d=\"M1250.41 1517.37 Q1246.8 1517.37 1244.97 1520.93 Q1243.16 1524.47 1243.16 1531.6 Q1243.16 1538.71 1244.97 1542.27 Q1246.8 1545.82 1250.41 1545.82 Q1254.04 1545.82 1255.85 1542.27 Q1257.67 1538.71 1257.67 1531.6 Q1257.67 1524.47 1255.85 1520.93 Q1254.04 1517.37 1250.41 1517.37 M1250.41 1513.66 Q1256.22 1513.66 1259.27 1518.27 Q1262.35 1522.85 1262.35 1531.6 Q1262.35 1540.33 1259.27 1544.94 Q1256.22 1549.52 1250.41 1549.52 Q1244.6 1549.52 1241.52 1544.94 Q1238.46 1540.33 1238.46 1531.6 Q1238.46 1522.85 1241.52 1518.27 Q1244.6 1513.66 1250.41 1513.66 Z\" fill=\"#000000\" fill-rule=\"evenodd\" fill-opacity=\"1\" /><path clip-path=\"url(#clip580)\" d=\"M1608.24 1544.91 L1615.88 1544.91 L1615.88 1518.55 L1607.57 1520.21 L1607.57 1515.95 L1615.83 1514.29 L1620.51 1514.29 L1620.51 1544.91 L1628.15 1544.91 L1628.15 1548.85 L1608.24 1548.85 L1608.24 1544.91 Z\" fill=\"#000000\" fill-rule=\"evenodd\" fill-opacity=\"1\" /><path clip-path=\"url(#clip580)\" d=\"M1979.96 1544.91 L1996.28 1544.91 L1996.28 1548.85 L1974.33 1548.85 L1974.33 1544.91 Q1977 1542.16 1981.58 1537.53 Q1986.19 1532.88 1987.37 1531.53 Q1989.61 1529.01 1990.49 1527.27 Q1991.39 1525.51 1991.39 1523.82 Q1991.39 1521.07 1989.45 1519.33 Q1987.53 1517.6 1984.43 1517.6 Q1982.23 1517.6 1979.77 1518.36 Q1977.34 1519.13 1974.57 1520.68 L1974.57 1515.95 Q1977.39 1514.82 1979.84 1514.24 Q1982.3 1513.66 1984.33 1513.66 Q1989.7 1513.66 1992.9 1516.35 Q1996.09 1519.03 1996.09 1523.52 Q1996.09 1525.65 1995.28 1527.57 Q1994.5 1529.47 1992.39 1532.07 Q1991.81 1532.74 1988.71 1535.95 Q1985.61 1539.15 1979.96 1544.91 Z\" fill=\"#000000\" fill-rule=\"evenodd\" fill-opacity=\"1\" /><path clip-path=\"url(#clip580)\" d=\"M2357 1530.21 Q2360.36 1530.93 2362.24 1533.2 Q2364.13 1535.47 2364.13 1538.8 Q2364.13 1543.92 2360.61 1546.72 Q2357.1 1549.52 2350.61 1549.52 Q2348.44 1549.52 2346.12 1549.08 Q2343.83 1548.66 2341.38 1547.81 L2341.38 1543.29 Q2343.32 1544.43 2345.64 1545.01 Q2347.95 1545.58 2350.48 1545.58 Q2354.87 1545.58 2357.17 1543.85 Q2359.48 1542.11 2359.48 1538.8 Q2359.48 1535.75 2357.33 1534.03 Q2355.2 1532.3 2351.38 1532.3 L2347.35 1532.3 L2347.35 1528.45 L2351.56 1528.45 Q2355.01 1528.45 2356.84 1527.09 Q2358.67 1525.7 2358.67 1523.11 Q2358.67 1520.45 2356.77 1519.03 Q2354.9 1517.6 2351.38 1517.6 Q2349.46 1517.6 2347.26 1518.01 Q2345.06 1518.43 2342.42 1519.31 L2342.42 1515.14 Q2345.08 1514.4 2347.4 1514.03 Q2349.74 1513.66 2351.8 1513.66 Q2357.12 1513.66 2360.22 1516.09 Q2363.32 1518.5 2363.32 1522.62 Q2363.32 1525.49 2361.68 1527.48 Q2360.04 1529.45 2357 1530.21 Z\" fill=\"#000000\" fill-rule=\"evenodd\" fill-opacity=\"1\" /><polyline clip-path=\"url(#clip582)\" style=\"stroke:#000000; stroke-linecap:butt; stroke-linejoin:round; stroke-width:2; stroke-opacity:0.1; fill:none\" points=\"\n  148.057,1486.45 2352.76,1486.45 \n  \"/>\n<polyline clip-path=\"url(#clip582)\" style=\"stroke:#000000; stroke-linecap:butt; stroke-linejoin:round; stroke-width:2; stroke-opacity:0.1; fill:none\" points=\"\n  148.057,1246.58 2352.76,1246.58 \n  \"/>\n<polyline clip-path=\"url(#clip582)\" style=\"stroke:#000000; stroke-linecap:butt; stroke-linejoin:round; stroke-width:2; stroke-opacity:0.1; fill:none\" points=\"\n  148.057,1006.71 2352.76,1006.71 \n  \"/>\n<polyline clip-path=\"url(#clip582)\" style=\"stroke:#000000; stroke-linecap:butt; stroke-linejoin:round; stroke-width:2; stroke-opacity:0.1; fill:none\" points=\"\n  148.057,766.846 2352.76,766.846 \n  \"/>\n<polyline clip-path=\"url(#clip582)\" style=\"stroke:#000000; stroke-linecap:butt; stroke-linejoin:round; stroke-width:2; stroke-opacity:0.1; fill:none\" points=\"\n  148.057,526.979 2352.76,526.979 \n  \"/>\n<polyline clip-path=\"url(#clip582)\" style=\"stroke:#000000; stroke-linecap:butt; stroke-linejoin:round; stroke-width:2; stroke-opacity:0.1; fill:none\" points=\"\n  148.057,287.111 2352.76,287.111 \n  \"/>\n<polyline clip-path=\"url(#clip582)\" style=\"stroke:#000000; stroke-linecap:butt; stroke-linejoin:round; stroke-width:2; stroke-opacity:0.1; fill:none\" points=\"\n  148.057,47.2441 2352.76,47.2441 \n  \"/>\n<polyline clip-path=\"url(#clip580)\" style=\"stroke:#000000; stroke-linecap:butt; stroke-linejoin:round; stroke-width:4; stroke-opacity:1; fill:none\" points=\"\n  148.057,1486.45 148.057,47.2441 \n  \"/>\n<polyline clip-path=\"url(#clip580)\" style=\"stroke:#000000; stroke-linecap:butt; stroke-linejoin:round; stroke-width:4; stroke-opacity:1; fill:none\" points=\"\n  148.057,1486.45 166.954,1486.45 \n  \"/>\n<polyline clip-path=\"url(#clip580)\" style=\"stroke:#000000; stroke-linecap:butt; stroke-linejoin:round; stroke-width:4; stroke-opacity:1; fill:none\" points=\"\n  148.057,1246.58 166.954,1246.58 \n  \"/>\n<polyline clip-path=\"url(#clip580)\" style=\"stroke:#000000; stroke-linecap:butt; stroke-linejoin:round; stroke-width:4; stroke-opacity:1; fill:none\" points=\"\n  148.057,1006.71 166.954,1006.71 \n  \"/>\n<polyline clip-path=\"url(#clip580)\" style=\"stroke:#000000; stroke-linecap:butt; stroke-linejoin:round; stroke-width:4; stroke-opacity:1; fill:none\" points=\"\n  148.057,766.846 166.954,766.846 \n  \"/>\n<polyline clip-path=\"url(#clip580)\" style=\"stroke:#000000; stroke-linecap:butt; stroke-linejoin:round; stroke-width:4; stroke-opacity:1; fill:none\" points=\"\n  148.057,526.979 166.954,526.979 \n  \"/>\n<polyline clip-path=\"url(#clip580)\" style=\"stroke:#000000; stroke-linecap:butt; stroke-linejoin:round; stroke-width:4; stroke-opacity:1; fill:none\" points=\"\n  148.057,287.111 166.954,287.111 \n  \"/>\n<polyline clip-path=\"url(#clip580)\" style=\"stroke:#000000; stroke-linecap:butt; stroke-linejoin:round; stroke-width:4; stroke-opacity:1; fill:none\" points=\"\n  148.057,47.2441 166.954,47.2441 \n  \"/>\n<path clip-path=\"url(#clip580)\" d=\"M50.9921 1486.9 L80.6679 1486.9 L80.6679 1490.83 L50.9921 1490.83 L50.9921 1486.9 Z\" fill=\"#000000\" fill-rule=\"evenodd\" fill-opacity=\"1\" /><path clip-path=\"url(#clip580)\" d=\"M104.927 1485.09 Q108.283 1485.81 110.158 1488.08 Q112.057 1490.35 112.057 1493.68 Q112.057 1498.8 108.538 1501.6 Q105.02 1504.4 98.5382 1504.4 Q96.3623 1504.4 94.0475 1503.96 Q91.7558 1503.54 89.3021 1502.69 L89.3021 1498.17 Q91.2465 1499.31 93.5613 1499.89 Q95.8761 1500.46 98.3993 1500.46 Q102.797 1500.46 105.089 1498.73 Q107.404 1496.99 107.404 1493.68 Q107.404 1490.63 105.251 1488.91 Q103.121 1487.18 99.3021 1487.18 L95.2743 1487.18 L95.2743 1483.33 L99.4872 1483.33 Q102.936 1483.33 104.765 1481.97 Q106.594 1480.58 106.594 1477.99 Q106.594 1475.33 104.696 1473.91 Q102.821 1472.48 99.3021 1472.48 Q97.3808 1472.48 95.1817 1472.89 Q92.9826 1473.31 90.3438 1474.19 L90.3438 1470.02 Q93.0058 1469.28 95.3206 1468.91 Q97.6585 1468.54 99.7187 1468.54 Q105.043 1468.54 108.145 1470.97 Q111.246 1473.38 111.246 1477.5 Q111.246 1480.37 109.603 1482.36 Q107.959 1484.33 104.927 1485.09 Z\" fill=\"#000000\" fill-rule=\"evenodd\" fill-opacity=\"1\" /><path clip-path=\"url(#clip580)\" d=\"M51.9412 1247.03 L81.617 1247.03 L81.617 1250.97 L51.9412 1250.97 L51.9412 1247.03 Z\" fill=\"#000000\" fill-rule=\"evenodd\" fill-opacity=\"1\" /><path clip-path=\"url(#clip580)\" d=\"M95.7373 1259.93 L112.057 1259.93 L112.057 1263.86 L90.1123 1263.86 L90.1123 1259.93 Q92.7743 1257.17 97.3576 1252.54 Q101.964 1247.89 103.145 1246.55 Q105.39 1244.02 106.27 1242.29 Q107.172 1240.53 107.172 1238.84 Q107.172 1236.08 105.228 1234.35 Q103.307 1232.61 100.205 1232.61 Q98.0058 1232.61 95.5521 1233.37 Q93.1215 1234.14 90.3438 1235.69 L90.3438 1230.97 Q93.1678 1229.83 95.6215 1229.25 Q98.0752 1228.68 100.112 1228.68 Q105.483 1228.68 108.677 1231.36 Q111.871 1234.05 111.871 1238.54 Q111.871 1240.67 111.061 1242.59 Q110.274 1244.49 108.168 1247.08 Q107.589 1247.75 104.487 1250.97 Q101.385 1254.16 95.7373 1259.93 Z\" fill=\"#000000\" fill-rule=\"evenodd\" fill-opacity=\"1\" /><path clip-path=\"url(#clip580)\" d=\"M51.5708 1007.16 L81.2466 1007.16 L81.2466 1011.1 L51.5708 1011.1 L51.5708 1007.16 Z\" fill=\"#000000\" fill-rule=\"evenodd\" fill-opacity=\"1\" /><path clip-path=\"url(#clip580)\" d=\"M92.1493 1020.06 L99.7882 1020.06 L99.7882 993.693 L91.478 995.359 L91.478 991.1 L99.7419 989.433 L104.418 989.433 L104.418 1020.06 L112.057 1020.06 L112.057 1023.99 L92.1493 1023.99 L92.1493 1020.06 Z\" fill=\"#000000\" fill-rule=\"evenodd\" fill-opacity=\"1\" /><path clip-path=\"url(#clip580)\" d=\"M100.112 752.645 Q96.5011 752.645 94.6724 756.209 Q92.8669 759.751 92.8669 766.881 Q92.8669 773.987 94.6724 777.552 Q96.5011 781.094 100.112 781.094 Q103.746 781.094 105.552 777.552 Q107.381 773.987 107.381 766.881 Q107.381 759.751 105.552 756.209 Q103.746 752.645 100.112 752.645 M100.112 748.941 Q105.922 748.941 108.978 753.547 Q112.057 758.131 112.057 766.881 Q112.057 775.608 108.978 780.214 Q105.922 784.797 100.112 784.797 Q94.3021 784.797 91.2234 780.214 Q88.1679 775.608 88.1679 766.881 Q88.1679 758.131 91.2234 753.547 Q94.3021 748.941 100.112 748.941 Z\" fill=\"#000000\" fill-rule=\"evenodd\" fill-opacity=\"1\" /><path clip-path=\"url(#clip580)\" d=\"M92.1493 540.324 L99.7882 540.324 L99.7882 513.958 L91.478 515.625 L91.478 511.365 L99.7419 509.699 L104.418 509.699 L104.418 540.324 L112.057 540.324 L112.057 544.259 L92.1493 544.259 L92.1493 540.324 Z\" fill=\"#000000\" fill-rule=\"evenodd\" fill-opacity=\"1\" /><path clip-path=\"url(#clip580)\" d=\"M95.7373 300.456 L112.057 300.456 L112.057 304.391 L90.1123 304.391 L90.1123 300.456 Q92.7743 297.702 97.3576 293.072 Q101.964 288.419 103.145 287.077 Q105.39 284.554 106.27 282.817 Q107.172 281.058 107.172 279.368 Q107.172 276.614 105.228 274.878 Q103.307 273.142 100.205 273.142 Q98.0058 273.142 95.5521 273.905 Q93.1215 274.669 90.3438 276.22 L90.3438 271.498 Q93.1678 270.364 95.6215 269.785 Q98.0752 269.206 100.112 269.206 Q105.483 269.206 108.677 271.892 Q111.871 274.577 111.871 279.067 Q111.871 281.197 111.061 283.118 Q110.274 285.016 108.168 287.609 Q107.589 288.28 104.487 291.498 Q101.385 294.692 95.7373 300.456 Z\" fill=\"#000000\" fill-rule=\"evenodd\" fill-opacity=\"1\" /><path clip-path=\"url(#clip580)\" d=\"M104.927 45.8899 Q108.283 46.6075 110.158 48.876 Q112.057 51.1445 112.057 54.4779 Q112.057 59.5936 108.538 62.3945 Q105.02 65.1954 98.5382 65.1954 Q96.3623 65.1954 94.0475 64.7556 Q91.7558 64.3389 89.3021 63.4824 L89.3021 58.9686 Q91.2465 60.1028 93.5613 60.6815 Q95.8761 61.2602 98.3993 61.2602 Q102.797 61.2602 105.089 59.5241 Q107.404 57.788 107.404 54.4779 Q107.404 51.4223 105.251 49.7094 Q103.121 47.9733 99.3021 47.9733 L95.2743 47.9733 L95.2743 44.1307 L99.4872 44.1307 Q102.936 44.1307 104.765 42.765 Q106.594 41.3761 106.594 38.7835 Q106.594 36.1215 104.696 34.7094 Q102.821 33.2743 99.3021 33.2743 Q97.3808 33.2743 95.1817 33.6909 Q92.9826 34.1076 90.3438 34.9872 L90.3438 30.8206 Q93.0058 30.0798 95.3206 29.7095 Q97.6585 29.3391 99.7187 29.3391 Q105.043 29.3391 108.145 31.7696 Q111.246 34.177 111.246 38.2974 Q111.246 41.1677 109.603 43.1585 Q107.959 45.1261 104.927 45.8899 Z\" fill=\"#000000\" fill-rule=\"evenodd\" fill-opacity=\"1\" /><polyline clip-path=\"url(#clip582)\" style=\"stroke:#009af9; stroke-linecap:butt; stroke-linejoin:round; stroke-width:4; stroke-opacity:1; fill:none\" points=\"\n  1250.41,766.846 1617.86,766.846 \n  \"/>\n<polyline clip-path=\"url(#clip582)\" style=\"stroke:#009af9; stroke-linecap:butt; stroke-linejoin:round; stroke-width:4; stroke-opacity:1; fill:none\" points=\"\n  1581.86,748.846 1617.86,766.846 1581.86,784.846 \n  \"/>\n<polyline clip-path=\"url(#clip582)\" style=\"stroke:#009af9; stroke-linecap:butt; stroke-linejoin:round; stroke-width:4; stroke-opacity:1; fill:none\" points=\"\n  1617.86,766.846 1250.41,766.846 \n  \"/>\n<polyline clip-path=\"url(#clip582)\" style=\"stroke:#e26f46; stroke-linecap:butt; stroke-linejoin:round; stroke-width:4; stroke-opacity:1; fill:none\" points=\"\n  1250.41,766.846 1250.41,526.979 \n  \"/>\n<polyline clip-path=\"url(#clip582)\" style=\"stroke:#e26f46; stroke-linecap:butt; stroke-linejoin:round; stroke-width:4; stroke-opacity:1; fill:none\" points=\"\n  1232.41,562.979 1250.41,526.979 1268.41,562.979 \n  \"/>\n<polyline clip-path=\"url(#clip582)\" style=\"stroke:#e26f46; stroke-linecap:butt; stroke-linejoin:round; stroke-width:4; stroke-opacity:1; fill:none\" points=\"\n  1250.41,526.979 1250.41,766.846 \n  \"/>\n<polyline clip-path=\"url(#clip582)\" style=\"stroke:#3da44d; stroke-linecap:butt; stroke-linejoin:round; stroke-width:4; stroke-opacity:1; fill:none\" points=\"\n  1250.41,766.846 1985.31,526.979 \n  \"/>\n<polyline clip-path=\"url(#clip582)\" style=\"stroke:#3da44d; stroke-linecap:butt; stroke-linejoin:round; stroke-width:4; stroke-opacity:1; fill:none\" points=\"\n  1945.5,521.037 1985.31,526.979 1956.67,555.261 \n  \"/>\n<polyline clip-path=\"url(#clip582)\" style=\"stroke:#3da44d; stroke-linecap:butt; stroke-linejoin:round; stroke-width:4; stroke-opacity:1; fill:none\" points=\"\n  1985.31,526.979 1250.41,766.846 \n  \"/>\n<polyline clip-path=\"url(#clip582)\" style=\"stroke:#c271d2; stroke-linecap:butt; stroke-linejoin:round; stroke-width:4; stroke-opacity:1; fill:none\" points=\"\n  1250.41,766.846 1617.86,526.979 \n  \"/>\n<polyline clip-path=\"url(#clip582)\" style=\"stroke:#c271d2; stroke-linecap:butt; stroke-linejoin:round; stroke-width:4; stroke-opacity:1; fill:none\" points=\"\n  1577.87,531.585 1617.86,526.979 1597.55,561.73 \n  \"/>\n<polyline clip-path=\"url(#clip582)\" style=\"stroke:#c271d2; stroke-linecap:butt; stroke-linejoin:round; stroke-width:4; stroke-opacity:1; fill:none\" points=\"\n  1617.86,526.979 1250.41,766.846 \n  \"/>\n<polyline clip-path=\"url(#clip582)\" style=\"stroke:#ac8d18; stroke-linecap:butt; stroke-linejoin:round; stroke-width:4; stroke-opacity:1; fill:none\" points=\"\n  1250.41,766.846 1250.41,287.111 \n  \"/>\n<polyline clip-path=\"url(#clip582)\" style=\"stroke:#ac8d18; stroke-linecap:butt; stroke-linejoin:round; stroke-width:4; stroke-opacity:1; fill:none\" points=\"\n  1232.41,323.111 1250.41,287.111 1268.41,323.111 \n  \"/>\n<polyline clip-path=\"url(#clip582)\" style=\"stroke:#ac8d18; stroke-linecap:butt; stroke-linejoin:round; stroke-width:4; stroke-opacity:1; fill:none\" points=\"\n  1250.41,287.111 1250.41,766.846 \n  \"/>\n<polyline clip-path=\"url(#clip582)\" style=\"stroke:#00a9ad; stroke-linecap:butt; stroke-linejoin:round; stroke-width:4; stroke-opacity:1; fill:none\" points=\"\n  1250.41,766.846 1985.31,886.78 \n  \"/>\n<polyline clip-path=\"url(#clip582)\" style=\"stroke:#00a9ad; stroke-linecap:butt; stroke-linejoin:round; stroke-width:4; stroke-opacity:1; fill:none\" points=\"\n  1952.68,863.216 1985.31,886.78 1946.88,898.746 \n  \"/>\n<polyline clip-path=\"url(#clip582)\" style=\"stroke:#00a9ad; stroke-linecap:butt; stroke-linejoin:round; stroke-width:4; stroke-opacity:1; fill:none\" points=\"\n  1985.31,886.78 1250.41,766.846 \n  \"/>\n<path clip-path=\"url(#clip580)\" d=\"\nM1974.21 458.098 L2279.27 458.098 L2279.27 95.2176 L1974.21 95.2176  Z\n  \" fill=\"#ffffff\" fill-rule=\"evenodd\" fill-opacity=\"1\"/>\n<polyline clip-path=\"url(#clip580)\" style=\"stroke:#000000; stroke-linecap:butt; stroke-linejoin:round; stroke-width:4; stroke-opacity:1; fill:none\" points=\"\n  1974.21,458.098 2279.27,458.098 2279.27,95.2176 1974.21,95.2176 1974.21,458.098 \n  \"/>\n<polyline clip-path=\"url(#clip580)\" style=\"stroke:#009af9; stroke-linecap:butt; stroke-linejoin:round; stroke-width:4; stroke-opacity:1; fill:none\" points=\"\n  1998.7,147.058 2145.68,147.058 \n  \"/>\n<path clip-path=\"url(#clip580)\" d=\"M2186.57 148.134 Q2188.07 148.643 2189.49 150.31 Q2190.92 151.977 2192.36 154.893 L2197.1 164.338 L2192.08 164.338 L2187.66 155.472 Q2185.94 152 2184.32 150.865 Q2182.73 149.731 2179.95 149.731 L2174.86 149.731 L2174.86 164.338 L2170.18 164.338 L2170.18 129.778 L2180.74 129.778 Q2186.66 129.778 2189.58 132.254 Q2192.5 134.731 2192.5 139.731 Q2192.5 142.995 2190.97 145.148 Q2189.46 147.301 2186.57 148.134 M2174.86 133.62 L2174.86 145.889 L2180.74 145.889 Q2184.12 145.889 2185.83 144.338 Q2187.56 142.764 2187.56 139.731 Q2187.56 136.699 2185.83 135.171 Q2184.12 133.62 2180.74 133.62 L2174.86 133.62 Z\" fill=\"#000000\" fill-rule=\"evenodd\" fill-opacity=\"1\" /><path clip-path=\"url(#clip580)\" d=\"M2201.45 129.778 L2206.48 129.778 L2215.06 142.625 L2223.7 129.778 L2228.72 129.778 L2217.61 146.375 L2229.46 164.338 L2224.44 164.338 L2214.72 149.639 L2204.93 164.338 L2199.88 164.338 L2212.22 145.889 L2201.45 129.778 Z\" fill=\"#000000\" fill-rule=\"evenodd\" fill-opacity=\"1\" /><polyline clip-path=\"url(#clip580)\" style=\"stroke:#e26f46; stroke-linecap:butt; stroke-linejoin:round; stroke-width:4; stroke-opacity:1; fill:none\" points=\"\n  1998.7,198.898 2145.68,198.898 \n  \"/>\n<path clip-path=\"url(#clip580)\" d=\"M2186.57 199.974 Q2188.07 200.483 2189.49 202.15 Q2190.92 203.817 2192.36 206.733 L2197.1 216.178 L2192.08 216.178 L2187.66 207.312 Q2185.94 203.84 2184.32 202.705 Q2182.73 201.571 2179.95 201.571 L2174.86 201.571 L2174.86 216.178 L2170.18 216.178 L2170.18 181.618 L2180.74 181.618 Q2186.66 181.618 2189.58 184.094 Q2192.5 186.571 2192.5 191.571 Q2192.5 194.835 2190.97 196.988 Q2189.46 199.141 2186.57 199.974 M2174.86 185.46 L2174.86 197.729 L2180.74 197.729 Q2184.12 197.729 2185.83 196.178 Q2187.56 194.604 2187.56 191.571 Q2187.56 188.539 2185.83 187.011 Q2184.12 185.46 2180.74 185.46 L2174.86 185.46 Z\" fill=\"#000000\" fill-rule=\"evenodd\" fill-opacity=\"1\" /><path clip-path=\"url(#clip580)\" d=\"M2195.34 181.618 L2200.37 181.618 L2209.95 195.83 L2219.46 181.618 L2224.49 181.618 L2212.26 199.719 L2212.26 216.178 L2207.56 216.178 L2207.56 199.719 L2195.34 181.618 Z\" fill=\"#000000\" fill-rule=\"evenodd\" fill-opacity=\"1\" /><polyline clip-path=\"url(#clip580)\" style=\"stroke:#3da44d; stroke-linecap:butt; stroke-linejoin:round; stroke-width:4; stroke-opacity:1; fill:none\" points=\"\n  1998.7,250.738 2145.68,250.738 \n  \"/>\n<path clip-path=\"url(#clip580)\" d=\"M2174.86 237.3 L2174.86 250.286 L2180.74 250.286 Q2184 250.286 2185.78 248.596 Q2187.56 246.907 2187.56 243.782 Q2187.56 240.68 2185.78 238.99 Q2184 237.3 2180.74 237.3 L2174.86 237.3 M2170.18 233.458 L2180.74 233.458 Q2186.55 233.458 2189.51 236.096 Q2192.5 238.712 2192.5 243.782 Q2192.5 248.897 2189.51 251.513 Q2186.55 254.129 2180.74 254.129 L2174.86 254.129 L2174.86 268.018 L2170.18 268.018 L2170.18 233.458 Z\" fill=\"#000000\" fill-rule=\"evenodd\" fill-opacity=\"1\" /><polyline clip-path=\"url(#clip580)\" style=\"stroke:#c271d2; stroke-linecap:butt; stroke-linejoin:round; stroke-width:4; stroke-opacity:1; fill:none\" points=\"\n  1998.7,302.578 2145.68,302.578 \n  \"/>\n<path clip-path=\"url(#clip580)\" d=\"M2170.18 285.298 L2199.42 285.298 L2199.42 289.233 L2187.15 289.233 L2187.15 319.858 L2182.45 319.858 L2182.45 289.233 L2170.18 289.233 L2170.18 285.298 Z\" fill=\"#000000\" fill-rule=\"evenodd\" fill-opacity=\"1\" /><path clip-path=\"url(#clip580)\" d=\"M2202.26 285.298 L2207.29 285.298 L2215.87 298.145 L2224.51 285.298 L2229.53 285.298 L2218.42 301.895 L2230.27 319.858 L2225.25 319.858 L2215.53 305.159 L2205.74 319.858 L2200.69 319.858 L2213.03 301.409 L2202.26 285.298 Z\" fill=\"#000000\" fill-rule=\"evenodd\" fill-opacity=\"1\" /><polyline clip-path=\"url(#clip580)\" style=\"stroke:#ac8d18; stroke-linecap:butt; stroke-linejoin:round; stroke-width:4; stroke-opacity:1; fill:none\" points=\"\n  1998.7,354.418 2145.68,354.418 \n  \"/>\n<path clip-path=\"url(#clip580)\" d=\"M2170.18 337.138 L2199.42 337.138 L2199.42 341.073 L2187.15 341.073 L2187.15 371.698 L2182.45 371.698 L2182.45 341.073 L2170.18 341.073 L2170.18 337.138 Z\" fill=\"#000000\" fill-rule=\"evenodd\" fill-opacity=\"1\" /><path clip-path=\"url(#clip580)\" d=\"M2199.18 337.138 L2204.21 337.138 L2213.79 351.35 L2223.31 337.138 L2228.33 337.138 L2216.11 355.239 L2216.11 371.698 L2211.41 371.698 L2211.41 355.239 L2199.18 337.138 Z\" fill=\"#000000\" fill-rule=\"evenodd\" fill-opacity=\"1\" /><polyline clip-path=\"url(#clip580)\" style=\"stroke:#00a9ad; stroke-linecap:butt; stroke-linejoin:round; stroke-width:4; stroke-opacity:1; fill:none\" points=\"\n  1998.7,406.258 2145.68,406.258 \n  \"/>\n<path clip-path=\"url(#clip580)\" d=\"M2177.59 390.251 L2177.59 397.612 L2186.36 397.612 L2186.36 400.922 L2177.59 400.922 L2177.59 414.996 Q2177.59 418.167 2178.44 419.07 Q2179.32 419.973 2181.99 419.973 L2186.36 419.973 L2186.36 423.538 L2181.99 423.538 Q2177.06 423.538 2175.18 421.709 Q2173.31 419.857 2173.31 414.996 L2173.31 400.922 L2170.18 400.922 L2170.18 397.612 L2173.31 397.612 L2173.31 390.251 L2177.59 390.251 Z\" fill=\"#000000\" fill-rule=\"evenodd\" fill-opacity=\"1\" /></svg>\n",
      "text/html": [
       "<?xml version=\"1.0\" encoding=\"utf-8\"?>\n",
       "<svg xmlns=\"http://www.w3.org/2000/svg\" xmlns:xlink=\"http://www.w3.org/1999/xlink\" width=\"600\" height=\"400\" viewBox=\"0 0 2400 1600\">\n",
       "<defs>\n",
       "  <clipPath id=\"clip630\">\n",
       "    <rect x=\"0\" y=\"0\" width=\"2400\" height=\"1600\"/>\n",
       "  </clipPath>\n",
       "</defs>\n",
       "<path clip-path=\"url(#clip630)\" d=\"\n",
       "M0 1600 L2400 1600 L2400 0 L0 0  Z\n",
       "  \" fill=\"#ffffff\" fill-rule=\"evenodd\" fill-opacity=\"1\"/>\n",
       "<defs>\n",
       "  <clipPath id=\"clip631\">\n",
       "    <rect x=\"480\" y=\"0\" width=\"1681\" height=\"1600\"/>\n",
       "  </clipPath>\n",
       "</defs>\n",
       "<path clip-path=\"url(#clip630)\" d=\"\n",
       "M148.057 1486.45 L2352.76 1486.45 L2352.76 47.2441 L148.057 47.2441  Z\n",
       "  \" fill=\"#ffffff\" fill-rule=\"evenodd\" fill-opacity=\"1\"/>\n",
       "<defs>\n",
       "  <clipPath id=\"clip632\">\n",
       "    <rect x=\"148\" y=\"47\" width=\"2206\" height=\"1440\"/>\n",
       "  </clipPath>\n",
       "</defs>\n",
       "<polyline clip-path=\"url(#clip632)\" style=\"stroke:#000000; stroke-linecap:butt; stroke-linejoin:round; stroke-width:2; stroke-opacity:0.1; fill:none\" points=\"\n",
       "  148.057,1486.45 148.057,47.2441 \n",
       "  \"/>\n",
       "<polyline clip-path=\"url(#clip632)\" style=\"stroke:#000000; stroke-linecap:butt; stroke-linejoin:round; stroke-width:2; stroke-opacity:0.1; fill:none\" points=\"\n",
       "  515.506,1486.45 515.506,47.2441 \n",
       "  \"/>\n",
       "<polyline clip-path=\"url(#clip632)\" style=\"stroke:#000000; stroke-linecap:butt; stroke-linejoin:round; stroke-width:2; stroke-opacity:0.1; fill:none\" points=\"\n",
       "  882.956,1486.45 882.956,47.2441 \n",
       "  \"/>\n",
       "<polyline clip-path=\"url(#clip632)\" style=\"stroke:#000000; stroke-linecap:butt; stroke-linejoin:round; stroke-width:2; stroke-opacity:0.1; fill:none\" points=\"\n",
       "  1250.41,1486.45 1250.41,47.2441 \n",
       "  \"/>\n",
       "<polyline clip-path=\"url(#clip632)\" style=\"stroke:#000000; stroke-linecap:butt; stroke-linejoin:round; stroke-width:2; stroke-opacity:0.1; fill:none\" points=\"\n",
       "  1617.86,1486.45 1617.86,47.2441 \n",
       "  \"/>\n",
       "<polyline clip-path=\"url(#clip632)\" style=\"stroke:#000000; stroke-linecap:butt; stroke-linejoin:round; stroke-width:2; stroke-opacity:0.1; fill:none\" points=\"\n",
       "  1985.31,1486.45 1985.31,47.2441 \n",
       "  \"/>\n",
       "<polyline clip-path=\"url(#clip632)\" style=\"stroke:#000000; stroke-linecap:butt; stroke-linejoin:round; stroke-width:2; stroke-opacity:0.1; fill:none\" points=\"\n",
       "  2352.76,1486.45 2352.76,47.2441 \n",
       "  \"/>\n",
       "<polyline clip-path=\"url(#clip630)\" style=\"stroke:#000000; stroke-linecap:butt; stroke-linejoin:round; stroke-width:4; stroke-opacity:1; fill:none\" points=\"\n",
       "  148.057,1486.45 2352.76,1486.45 \n",
       "  \"/>\n",
       "<polyline clip-path=\"url(#clip630)\" style=\"stroke:#000000; stroke-linecap:butt; stroke-linejoin:round; stroke-width:4; stroke-opacity:1; fill:none\" points=\"\n",
       "  148.057,1486.45 148.057,1467.55 \n",
       "  \"/>\n",
       "<polyline clip-path=\"url(#clip630)\" style=\"stroke:#000000; stroke-linecap:butt; stroke-linejoin:round; stroke-width:4; stroke-opacity:1; fill:none\" points=\"\n",
       "  515.506,1486.45 515.506,1467.55 \n",
       "  \"/>\n",
       "<polyline clip-path=\"url(#clip630)\" style=\"stroke:#000000; stroke-linecap:butt; stroke-linejoin:round; stroke-width:4; stroke-opacity:1; fill:none\" points=\"\n",
       "  882.956,1486.45 882.956,1467.55 \n",
       "  \"/>\n",
       "<polyline clip-path=\"url(#clip630)\" style=\"stroke:#000000; stroke-linecap:butt; stroke-linejoin:round; stroke-width:4; stroke-opacity:1; fill:none\" points=\"\n",
       "  1250.41,1486.45 1250.41,1467.55 \n",
       "  \"/>\n",
       "<polyline clip-path=\"url(#clip630)\" style=\"stroke:#000000; stroke-linecap:butt; stroke-linejoin:round; stroke-width:4; stroke-opacity:1; fill:none\" points=\"\n",
       "  1617.86,1486.45 1617.86,1467.55 \n",
       "  \"/>\n",
       "<polyline clip-path=\"url(#clip630)\" style=\"stroke:#000000; stroke-linecap:butt; stroke-linejoin:round; stroke-width:4; stroke-opacity:1; fill:none\" points=\"\n",
       "  1985.31,1486.45 1985.31,1467.55 \n",
       "  \"/>\n",
       "<polyline clip-path=\"url(#clip630)\" style=\"stroke:#000000; stroke-linecap:butt; stroke-linejoin:round; stroke-width:4; stroke-opacity:1; fill:none\" points=\"\n",
       "  2352.76,1486.45 2352.76,1467.55 \n",
       "  \"/>\n",
       "<path clip-path=\"url(#clip630)\" d=\"M117.524 1532.02 L147.2 1532.02 L147.2 1535.95 L117.524 1535.95 L117.524 1532.02 Z\" fill=\"#000000\" fill-rule=\"evenodd\" fill-opacity=\"1\" /><path clip-path=\"url(#clip630)\" d=\"M171.459 1530.21 Q174.816 1530.93 176.691 1533.2 Q178.589 1535.47 178.589 1538.8 Q178.589 1543.92 175.07 1546.72 Q171.552 1549.52 165.07 1549.52 Q162.894 1549.52 160.58 1549.08 Q158.288 1548.66 155.834 1547.81 L155.834 1543.29 Q157.779 1544.43 160.094 1545.01 Q162.408 1545.58 164.932 1545.58 Q169.33 1545.58 171.621 1543.85 Q173.936 1542.11 173.936 1538.8 Q173.936 1535.75 171.783 1534.03 Q169.654 1532.3 165.834 1532.3 L161.807 1532.3 L161.807 1528.45 L166.019 1528.45 Q169.469 1528.45 171.297 1527.09 Q173.126 1525.7 173.126 1523.11 Q173.126 1520.45 171.228 1519.03 Q169.353 1517.6 165.834 1517.6 Q163.913 1517.6 161.714 1518.01 Q159.515 1518.43 156.876 1519.31 L156.876 1515.14 Q159.538 1514.4 161.853 1514.03 Q164.191 1513.66 166.251 1513.66 Q171.575 1513.66 174.677 1516.09 Q177.779 1518.5 177.779 1522.62 Q177.779 1525.49 176.135 1527.48 Q174.492 1529.45 171.459 1530.21 Z\" fill=\"#000000\" fill-rule=\"evenodd\" fill-opacity=\"1\" /><path clip-path=\"url(#clip630)\" d=\"M485.449 1532.02 L515.125 1532.02 L515.125 1535.95 L485.449 1535.95 L485.449 1532.02 Z\" fill=\"#000000\" fill-rule=\"evenodd\" fill-opacity=\"1\" /><path clip-path=\"url(#clip630)\" d=\"M529.245 1544.91 L545.564 1544.91 L545.564 1548.85 L523.62 1548.85 L523.62 1544.91 Q526.282 1542.16 530.865 1537.53 Q535.472 1532.88 536.652 1531.53 Q538.898 1529.01 539.777 1527.27 Q540.68 1525.51 540.68 1523.82 Q540.68 1521.07 538.736 1519.33 Q536.814 1517.6 533.712 1517.6 Q531.513 1517.6 529.06 1518.36 Q526.629 1519.13 523.851 1520.68 L523.851 1515.95 Q526.675 1514.82 529.129 1514.24 Q531.583 1513.66 533.62 1513.66 Q538.99 1513.66 542.185 1516.35 Q545.379 1519.03 545.379 1523.52 Q545.379 1525.65 544.569 1527.57 Q543.782 1529.47 541.675 1532.07 Q541.097 1532.74 537.995 1535.95 Q534.893 1539.15 529.245 1544.91 Z\" fill=\"#000000\" fill-rule=\"evenodd\" fill-opacity=\"1\" /><path clip-path=\"url(#clip630)\" d=\"M852.713 1532.02 L882.389 1532.02 L882.389 1535.95 L852.713 1535.95 L852.713 1532.02 Z\" fill=\"#000000\" fill-rule=\"evenodd\" fill-opacity=\"1\" /><path clip-path=\"url(#clip630)\" d=\"M893.292 1544.91 L900.931 1544.91 L900.931 1518.55 L892.621 1520.21 L892.621 1515.95 L900.885 1514.29 L905.56 1514.29 L905.56 1544.91 L913.199 1544.91 L913.199 1548.85 L893.292 1548.85 L893.292 1544.91 Z\" fill=\"#000000\" fill-rule=\"evenodd\" fill-opacity=\"1\" /><path clip-path=\"url(#clip630)\" d=\"M1250.41 1517.37 Q1246.8 1517.37 1244.97 1520.93 Q1243.16 1524.47 1243.16 1531.6 Q1243.16 1538.71 1244.97 1542.27 Q1246.8 1545.82 1250.41 1545.82 Q1254.04 1545.82 1255.85 1542.27 Q1257.67 1538.71 1257.67 1531.6 Q1257.67 1524.47 1255.85 1520.93 Q1254.04 1517.37 1250.41 1517.37 M1250.41 1513.66 Q1256.22 1513.66 1259.27 1518.27 Q1262.35 1522.85 1262.35 1531.6 Q1262.35 1540.33 1259.27 1544.94 Q1256.22 1549.52 1250.41 1549.52 Q1244.6 1549.52 1241.52 1544.94 Q1238.46 1540.33 1238.46 1531.6 Q1238.46 1522.85 1241.52 1518.27 Q1244.6 1513.66 1250.41 1513.66 Z\" fill=\"#000000\" fill-rule=\"evenodd\" fill-opacity=\"1\" /><path clip-path=\"url(#clip630)\" d=\"M1608.24 1544.91 L1615.88 1544.91 L1615.88 1518.55 L1607.57 1520.21 L1607.57 1515.95 L1615.83 1514.29 L1620.51 1514.29 L1620.51 1544.91 L1628.15 1544.91 L1628.15 1548.85 L1608.24 1548.85 L1608.24 1544.91 Z\" fill=\"#000000\" fill-rule=\"evenodd\" fill-opacity=\"1\" /><path clip-path=\"url(#clip630)\" d=\"M1979.96 1544.91 L1996.28 1544.91 L1996.28 1548.85 L1974.33 1548.85 L1974.33 1544.91 Q1977 1542.16 1981.58 1537.53 Q1986.19 1532.88 1987.37 1531.53 Q1989.61 1529.01 1990.49 1527.27 Q1991.39 1525.51 1991.39 1523.82 Q1991.39 1521.07 1989.45 1519.33 Q1987.53 1517.6 1984.43 1517.6 Q1982.23 1517.6 1979.77 1518.36 Q1977.34 1519.13 1974.57 1520.68 L1974.57 1515.95 Q1977.39 1514.82 1979.84 1514.24 Q1982.3 1513.66 1984.33 1513.66 Q1989.7 1513.66 1992.9 1516.35 Q1996.09 1519.03 1996.09 1523.52 Q1996.09 1525.65 1995.28 1527.57 Q1994.5 1529.47 1992.39 1532.07 Q1991.81 1532.74 1988.71 1535.95 Q1985.61 1539.15 1979.96 1544.91 Z\" fill=\"#000000\" fill-rule=\"evenodd\" fill-opacity=\"1\" /><path clip-path=\"url(#clip630)\" d=\"M2357 1530.21 Q2360.36 1530.93 2362.24 1533.2 Q2364.13 1535.47 2364.13 1538.8 Q2364.13 1543.92 2360.61 1546.72 Q2357.1 1549.52 2350.61 1549.52 Q2348.44 1549.52 2346.12 1549.08 Q2343.83 1548.66 2341.38 1547.81 L2341.38 1543.29 Q2343.32 1544.43 2345.64 1545.01 Q2347.95 1545.58 2350.48 1545.58 Q2354.87 1545.58 2357.17 1543.85 Q2359.48 1542.11 2359.48 1538.8 Q2359.48 1535.75 2357.33 1534.03 Q2355.2 1532.3 2351.38 1532.3 L2347.35 1532.3 L2347.35 1528.45 L2351.56 1528.45 Q2355.01 1528.45 2356.84 1527.09 Q2358.67 1525.7 2358.67 1523.11 Q2358.67 1520.45 2356.77 1519.03 Q2354.9 1517.6 2351.38 1517.6 Q2349.46 1517.6 2347.26 1518.01 Q2345.06 1518.43 2342.42 1519.31 L2342.42 1515.14 Q2345.08 1514.4 2347.4 1514.03 Q2349.74 1513.66 2351.8 1513.66 Q2357.12 1513.66 2360.22 1516.09 Q2363.32 1518.5 2363.32 1522.62 Q2363.32 1525.49 2361.68 1527.48 Q2360.04 1529.45 2357 1530.21 Z\" fill=\"#000000\" fill-rule=\"evenodd\" fill-opacity=\"1\" /><polyline clip-path=\"url(#clip632)\" style=\"stroke:#000000; stroke-linecap:butt; stroke-linejoin:round; stroke-width:2; stroke-opacity:0.1; fill:none\" points=\"\n",
       "  148.057,1486.45 2352.76,1486.45 \n",
       "  \"/>\n",
       "<polyline clip-path=\"url(#clip632)\" style=\"stroke:#000000; stroke-linecap:butt; stroke-linejoin:round; stroke-width:2; stroke-opacity:0.1; fill:none\" points=\"\n",
       "  148.057,1246.58 2352.76,1246.58 \n",
       "  \"/>\n",
       "<polyline clip-path=\"url(#clip632)\" style=\"stroke:#000000; stroke-linecap:butt; stroke-linejoin:round; stroke-width:2; stroke-opacity:0.1; fill:none\" points=\"\n",
       "  148.057,1006.71 2352.76,1006.71 \n",
       "  \"/>\n",
       "<polyline clip-path=\"url(#clip632)\" style=\"stroke:#000000; stroke-linecap:butt; stroke-linejoin:round; stroke-width:2; stroke-opacity:0.1; fill:none\" points=\"\n",
       "  148.057,766.846 2352.76,766.846 \n",
       "  \"/>\n",
       "<polyline clip-path=\"url(#clip632)\" style=\"stroke:#000000; stroke-linecap:butt; stroke-linejoin:round; stroke-width:2; stroke-opacity:0.1; fill:none\" points=\"\n",
       "  148.057,526.979 2352.76,526.979 \n",
       "  \"/>\n",
       "<polyline clip-path=\"url(#clip632)\" style=\"stroke:#000000; stroke-linecap:butt; stroke-linejoin:round; stroke-width:2; stroke-opacity:0.1; fill:none\" points=\"\n",
       "  148.057,287.111 2352.76,287.111 \n",
       "  \"/>\n",
       "<polyline clip-path=\"url(#clip632)\" style=\"stroke:#000000; stroke-linecap:butt; stroke-linejoin:round; stroke-width:2; stroke-opacity:0.1; fill:none\" points=\"\n",
       "  148.057,47.2441 2352.76,47.2441 \n",
       "  \"/>\n",
       "<polyline clip-path=\"url(#clip630)\" style=\"stroke:#000000; stroke-linecap:butt; stroke-linejoin:round; stroke-width:4; stroke-opacity:1; fill:none\" points=\"\n",
       "  148.057,1486.45 148.057,47.2441 \n",
       "  \"/>\n",
       "<polyline clip-path=\"url(#clip630)\" style=\"stroke:#000000; stroke-linecap:butt; stroke-linejoin:round; stroke-width:4; stroke-opacity:1; fill:none\" points=\"\n",
       "  148.057,1486.45 166.954,1486.45 \n",
       "  \"/>\n",
       "<polyline clip-path=\"url(#clip630)\" style=\"stroke:#000000; stroke-linecap:butt; stroke-linejoin:round; stroke-width:4; stroke-opacity:1; fill:none\" points=\"\n",
       "  148.057,1246.58 166.954,1246.58 \n",
       "  \"/>\n",
       "<polyline clip-path=\"url(#clip630)\" style=\"stroke:#000000; stroke-linecap:butt; stroke-linejoin:round; stroke-width:4; stroke-opacity:1; fill:none\" points=\"\n",
       "  148.057,1006.71 166.954,1006.71 \n",
       "  \"/>\n",
       "<polyline clip-path=\"url(#clip630)\" style=\"stroke:#000000; stroke-linecap:butt; stroke-linejoin:round; stroke-width:4; stroke-opacity:1; fill:none\" points=\"\n",
       "  148.057,766.846 166.954,766.846 \n",
       "  \"/>\n",
       "<polyline clip-path=\"url(#clip630)\" style=\"stroke:#000000; stroke-linecap:butt; stroke-linejoin:round; stroke-width:4; stroke-opacity:1; fill:none\" points=\"\n",
       "  148.057,526.979 166.954,526.979 \n",
       "  \"/>\n",
       "<polyline clip-path=\"url(#clip630)\" style=\"stroke:#000000; stroke-linecap:butt; stroke-linejoin:round; stroke-width:4; stroke-opacity:1; fill:none\" points=\"\n",
       "  148.057,287.111 166.954,287.111 \n",
       "  \"/>\n",
       "<polyline clip-path=\"url(#clip630)\" style=\"stroke:#000000; stroke-linecap:butt; stroke-linejoin:round; stroke-width:4; stroke-opacity:1; fill:none\" points=\"\n",
       "  148.057,47.2441 166.954,47.2441 \n",
       "  \"/>\n",
       "<path clip-path=\"url(#clip630)\" d=\"M50.9921 1486.9 L80.6679 1486.9 L80.6679 1490.83 L50.9921 1490.83 L50.9921 1486.9 Z\" fill=\"#000000\" fill-rule=\"evenodd\" fill-opacity=\"1\" /><path clip-path=\"url(#clip630)\" d=\"M104.927 1485.09 Q108.283 1485.81 110.158 1488.08 Q112.057 1490.35 112.057 1493.68 Q112.057 1498.8 108.538 1501.6 Q105.02 1504.4 98.5382 1504.4 Q96.3623 1504.4 94.0475 1503.96 Q91.7558 1503.54 89.3021 1502.69 L89.3021 1498.17 Q91.2465 1499.31 93.5613 1499.89 Q95.8761 1500.46 98.3993 1500.46 Q102.797 1500.46 105.089 1498.73 Q107.404 1496.99 107.404 1493.68 Q107.404 1490.63 105.251 1488.91 Q103.121 1487.18 99.3021 1487.18 L95.2743 1487.18 L95.2743 1483.33 L99.4872 1483.33 Q102.936 1483.33 104.765 1481.97 Q106.594 1480.58 106.594 1477.99 Q106.594 1475.33 104.696 1473.91 Q102.821 1472.48 99.3021 1472.48 Q97.3808 1472.48 95.1817 1472.89 Q92.9826 1473.31 90.3438 1474.19 L90.3438 1470.02 Q93.0058 1469.28 95.3206 1468.91 Q97.6585 1468.54 99.7187 1468.54 Q105.043 1468.54 108.145 1470.97 Q111.246 1473.38 111.246 1477.5 Q111.246 1480.37 109.603 1482.36 Q107.959 1484.33 104.927 1485.09 Z\" fill=\"#000000\" fill-rule=\"evenodd\" fill-opacity=\"1\" /><path clip-path=\"url(#clip630)\" d=\"M51.9412 1247.03 L81.617 1247.03 L81.617 1250.97 L51.9412 1250.97 L51.9412 1247.03 Z\" fill=\"#000000\" fill-rule=\"evenodd\" fill-opacity=\"1\" /><path clip-path=\"url(#clip630)\" d=\"M95.7373 1259.93 L112.057 1259.93 L112.057 1263.86 L90.1123 1263.86 L90.1123 1259.93 Q92.7743 1257.17 97.3576 1252.54 Q101.964 1247.89 103.145 1246.55 Q105.39 1244.02 106.27 1242.29 Q107.172 1240.53 107.172 1238.84 Q107.172 1236.08 105.228 1234.35 Q103.307 1232.61 100.205 1232.61 Q98.0058 1232.61 95.5521 1233.37 Q93.1215 1234.14 90.3438 1235.69 L90.3438 1230.97 Q93.1678 1229.83 95.6215 1229.25 Q98.0752 1228.68 100.112 1228.68 Q105.483 1228.68 108.677 1231.36 Q111.871 1234.05 111.871 1238.54 Q111.871 1240.67 111.061 1242.59 Q110.274 1244.49 108.168 1247.08 Q107.589 1247.75 104.487 1250.97 Q101.385 1254.16 95.7373 1259.93 Z\" fill=\"#000000\" fill-rule=\"evenodd\" fill-opacity=\"1\" /><path clip-path=\"url(#clip630)\" d=\"M51.5708 1007.16 L81.2466 1007.16 L81.2466 1011.1 L51.5708 1011.1 L51.5708 1007.16 Z\" fill=\"#000000\" fill-rule=\"evenodd\" fill-opacity=\"1\" /><path clip-path=\"url(#clip630)\" d=\"M92.1493 1020.06 L99.7882 1020.06 L99.7882 993.693 L91.478 995.359 L91.478 991.1 L99.7419 989.433 L104.418 989.433 L104.418 1020.06 L112.057 1020.06 L112.057 1023.99 L92.1493 1023.99 L92.1493 1020.06 Z\" fill=\"#000000\" fill-rule=\"evenodd\" fill-opacity=\"1\" /><path clip-path=\"url(#clip630)\" d=\"M100.112 752.645 Q96.5011 752.645 94.6724 756.209 Q92.8669 759.751 92.8669 766.881 Q92.8669 773.987 94.6724 777.552 Q96.5011 781.094 100.112 781.094 Q103.746 781.094 105.552 777.552 Q107.381 773.987 107.381 766.881 Q107.381 759.751 105.552 756.209 Q103.746 752.645 100.112 752.645 M100.112 748.941 Q105.922 748.941 108.978 753.547 Q112.057 758.131 112.057 766.881 Q112.057 775.608 108.978 780.214 Q105.922 784.797 100.112 784.797 Q94.3021 784.797 91.2234 780.214 Q88.1679 775.608 88.1679 766.881 Q88.1679 758.131 91.2234 753.547 Q94.3021 748.941 100.112 748.941 Z\" fill=\"#000000\" fill-rule=\"evenodd\" fill-opacity=\"1\" /><path clip-path=\"url(#clip630)\" d=\"M92.1493 540.324 L99.7882 540.324 L99.7882 513.958 L91.478 515.625 L91.478 511.365 L99.7419 509.699 L104.418 509.699 L104.418 540.324 L112.057 540.324 L112.057 544.259 L92.1493 544.259 L92.1493 540.324 Z\" fill=\"#000000\" fill-rule=\"evenodd\" fill-opacity=\"1\" /><path clip-path=\"url(#clip630)\" d=\"M95.7373 300.456 L112.057 300.456 L112.057 304.391 L90.1123 304.391 L90.1123 300.456 Q92.7743 297.702 97.3576 293.072 Q101.964 288.419 103.145 287.077 Q105.39 284.554 106.27 282.817 Q107.172 281.058 107.172 279.368 Q107.172 276.614 105.228 274.878 Q103.307 273.142 100.205 273.142 Q98.0058 273.142 95.5521 273.905 Q93.1215 274.669 90.3438 276.22 L90.3438 271.498 Q93.1678 270.364 95.6215 269.785 Q98.0752 269.206 100.112 269.206 Q105.483 269.206 108.677 271.892 Q111.871 274.577 111.871 279.067 Q111.871 281.197 111.061 283.118 Q110.274 285.016 108.168 287.609 Q107.589 288.28 104.487 291.498 Q101.385 294.692 95.7373 300.456 Z\" fill=\"#000000\" fill-rule=\"evenodd\" fill-opacity=\"1\" /><path clip-path=\"url(#clip630)\" d=\"M104.927 45.8899 Q108.283 46.6075 110.158 48.876 Q112.057 51.1445 112.057 54.4779 Q112.057 59.5936 108.538 62.3945 Q105.02 65.1954 98.5382 65.1954 Q96.3623 65.1954 94.0475 64.7556 Q91.7558 64.3389 89.3021 63.4824 L89.3021 58.9686 Q91.2465 60.1028 93.5613 60.6815 Q95.8761 61.2602 98.3993 61.2602 Q102.797 61.2602 105.089 59.5241 Q107.404 57.788 107.404 54.4779 Q107.404 51.4223 105.251 49.7094 Q103.121 47.9733 99.3021 47.9733 L95.2743 47.9733 L95.2743 44.1307 L99.4872 44.1307 Q102.936 44.1307 104.765 42.765 Q106.594 41.3761 106.594 38.7835 Q106.594 36.1215 104.696 34.7094 Q102.821 33.2743 99.3021 33.2743 Q97.3808 33.2743 95.1817 33.6909 Q92.9826 34.1076 90.3438 34.9872 L90.3438 30.8206 Q93.0058 30.0798 95.3206 29.7095 Q97.6585 29.3391 99.7187 29.3391 Q105.043 29.3391 108.145 31.7696 Q111.246 34.177 111.246 38.2974 Q111.246 41.1677 109.603 43.1585 Q107.959 45.1261 104.927 45.8899 Z\" fill=\"#000000\" fill-rule=\"evenodd\" fill-opacity=\"1\" /><polyline clip-path=\"url(#clip632)\" style=\"stroke:#009af9; stroke-linecap:butt; stroke-linejoin:round; stroke-width:4; stroke-opacity:1; fill:none\" points=\"\n",
       "  1250.41,766.846 1617.86,766.846 \n",
       "  \"/>\n",
       "<polyline clip-path=\"url(#clip632)\" style=\"stroke:#009af9; stroke-linecap:butt; stroke-linejoin:round; stroke-width:4; stroke-opacity:1; fill:none\" points=\"\n",
       "  1581.86,748.846 1617.86,766.846 1581.86,784.846 \n",
       "  \"/>\n",
       "<polyline clip-path=\"url(#clip632)\" style=\"stroke:#009af9; stroke-linecap:butt; stroke-linejoin:round; stroke-width:4; stroke-opacity:1; fill:none\" points=\"\n",
       "  1617.86,766.846 1250.41,766.846 \n",
       "  \"/>\n",
       "<polyline clip-path=\"url(#clip632)\" style=\"stroke:#e26f46; stroke-linecap:butt; stroke-linejoin:round; stroke-width:4; stroke-opacity:1; fill:none\" points=\"\n",
       "  1250.41,766.846 1250.41,526.979 \n",
       "  \"/>\n",
       "<polyline clip-path=\"url(#clip632)\" style=\"stroke:#e26f46; stroke-linecap:butt; stroke-linejoin:round; stroke-width:4; stroke-opacity:1; fill:none\" points=\"\n",
       "  1232.41,562.979 1250.41,526.979 1268.41,562.979 \n",
       "  \"/>\n",
       "<polyline clip-path=\"url(#clip632)\" style=\"stroke:#e26f46; stroke-linecap:butt; stroke-linejoin:round; stroke-width:4; stroke-opacity:1; fill:none\" points=\"\n",
       "  1250.41,526.979 1250.41,766.846 \n",
       "  \"/>\n",
       "<polyline clip-path=\"url(#clip632)\" style=\"stroke:#3da44d; stroke-linecap:butt; stroke-linejoin:round; stroke-width:4; stroke-opacity:1; fill:none\" points=\"\n",
       "  1250.41,766.846 1985.31,526.979 \n",
       "  \"/>\n",
       "<polyline clip-path=\"url(#clip632)\" style=\"stroke:#3da44d; stroke-linecap:butt; stroke-linejoin:round; stroke-width:4; stroke-opacity:1; fill:none\" points=\"\n",
       "  1945.5,521.037 1985.31,526.979 1956.67,555.261 \n",
       "  \"/>\n",
       "<polyline clip-path=\"url(#clip632)\" style=\"stroke:#3da44d; stroke-linecap:butt; stroke-linejoin:round; stroke-width:4; stroke-opacity:1; fill:none\" points=\"\n",
       "  1985.31,526.979 1250.41,766.846 \n",
       "  \"/>\n",
       "<polyline clip-path=\"url(#clip632)\" style=\"stroke:#c271d2; stroke-linecap:butt; stroke-linejoin:round; stroke-width:4; stroke-opacity:1; fill:none\" points=\"\n",
       "  1250.41,766.846 1617.86,526.979 \n",
       "  \"/>\n",
       "<polyline clip-path=\"url(#clip632)\" style=\"stroke:#c271d2; stroke-linecap:butt; stroke-linejoin:round; stroke-width:4; stroke-opacity:1; fill:none\" points=\"\n",
       "  1577.87,531.585 1617.86,526.979 1597.55,561.73 \n",
       "  \"/>\n",
       "<polyline clip-path=\"url(#clip632)\" style=\"stroke:#c271d2; stroke-linecap:butt; stroke-linejoin:round; stroke-width:4; stroke-opacity:1; fill:none\" points=\"\n",
       "  1617.86,526.979 1250.41,766.846 \n",
       "  \"/>\n",
       "<polyline clip-path=\"url(#clip632)\" style=\"stroke:#ac8d18; stroke-linecap:butt; stroke-linejoin:round; stroke-width:4; stroke-opacity:1; fill:none\" points=\"\n",
       "  1250.41,766.846 1250.41,287.111 \n",
       "  \"/>\n",
       "<polyline clip-path=\"url(#clip632)\" style=\"stroke:#ac8d18; stroke-linecap:butt; stroke-linejoin:round; stroke-width:4; stroke-opacity:1; fill:none\" points=\"\n",
       "  1232.41,323.111 1250.41,287.111 1268.41,323.111 \n",
       "  \"/>\n",
       "<polyline clip-path=\"url(#clip632)\" style=\"stroke:#ac8d18; stroke-linecap:butt; stroke-linejoin:round; stroke-width:4; stroke-opacity:1; fill:none\" points=\"\n",
       "  1250.41,287.111 1250.41,766.846 \n",
       "  \"/>\n",
       "<polyline clip-path=\"url(#clip632)\" style=\"stroke:#00a9ad; stroke-linecap:butt; stroke-linejoin:round; stroke-width:4; stroke-opacity:1; fill:none\" points=\"\n",
       "  1250.41,766.846 1985.31,886.78 \n",
       "  \"/>\n",
       "<polyline clip-path=\"url(#clip632)\" style=\"stroke:#00a9ad; stroke-linecap:butt; stroke-linejoin:round; stroke-width:4; stroke-opacity:1; fill:none\" points=\"\n",
       "  1952.68,863.216 1985.31,886.78 1946.88,898.746 \n",
       "  \"/>\n",
       "<polyline clip-path=\"url(#clip632)\" style=\"stroke:#00a9ad; stroke-linecap:butt; stroke-linejoin:round; stroke-width:4; stroke-opacity:1; fill:none\" points=\"\n",
       "  1985.31,886.78 1250.41,766.846 \n",
       "  \"/>\n",
       "<path clip-path=\"url(#clip630)\" d=\"\n",
       "M1974.21 458.098 L2279.27 458.098 L2279.27 95.2176 L1974.21 95.2176  Z\n",
       "  \" fill=\"#ffffff\" fill-rule=\"evenodd\" fill-opacity=\"1\"/>\n",
       "<polyline clip-path=\"url(#clip630)\" style=\"stroke:#000000; stroke-linecap:butt; stroke-linejoin:round; stroke-width:4; stroke-opacity:1; fill:none\" points=\"\n",
       "  1974.21,458.098 2279.27,458.098 2279.27,95.2176 1974.21,95.2176 1974.21,458.098 \n",
       "  \"/>\n",
       "<polyline clip-path=\"url(#clip630)\" style=\"stroke:#009af9; stroke-linecap:butt; stroke-linejoin:round; stroke-width:4; stroke-opacity:1; fill:none\" points=\"\n",
       "  1998.7,147.058 2145.68,147.058 \n",
       "  \"/>\n",
       "<path clip-path=\"url(#clip630)\" d=\"M2186.57 148.134 Q2188.07 148.643 2189.49 150.31 Q2190.92 151.977 2192.36 154.893 L2197.1 164.338 L2192.08 164.338 L2187.66 155.472 Q2185.94 152 2184.32 150.865 Q2182.73 149.731 2179.95 149.731 L2174.86 149.731 L2174.86 164.338 L2170.18 164.338 L2170.18 129.778 L2180.74 129.778 Q2186.66 129.778 2189.58 132.254 Q2192.5 134.731 2192.5 139.731 Q2192.5 142.995 2190.97 145.148 Q2189.46 147.301 2186.57 148.134 M2174.86 133.62 L2174.86 145.889 L2180.74 145.889 Q2184.12 145.889 2185.83 144.338 Q2187.56 142.764 2187.56 139.731 Q2187.56 136.699 2185.83 135.171 Q2184.12 133.62 2180.74 133.62 L2174.86 133.62 Z\" fill=\"#000000\" fill-rule=\"evenodd\" fill-opacity=\"1\" /><path clip-path=\"url(#clip630)\" d=\"M2201.45 129.778 L2206.48 129.778 L2215.06 142.625 L2223.7 129.778 L2228.72 129.778 L2217.61 146.375 L2229.46 164.338 L2224.44 164.338 L2214.72 149.639 L2204.93 164.338 L2199.88 164.338 L2212.22 145.889 L2201.45 129.778 Z\" fill=\"#000000\" fill-rule=\"evenodd\" fill-opacity=\"1\" /><polyline clip-path=\"url(#clip630)\" style=\"stroke:#e26f46; stroke-linecap:butt; stroke-linejoin:round; stroke-width:4; stroke-opacity:1; fill:none\" points=\"\n",
       "  1998.7,198.898 2145.68,198.898 \n",
       "  \"/>\n",
       "<path clip-path=\"url(#clip630)\" d=\"M2186.57 199.974 Q2188.07 200.483 2189.49 202.15 Q2190.92 203.817 2192.36 206.733 L2197.1 216.178 L2192.08 216.178 L2187.66 207.312 Q2185.94 203.84 2184.32 202.705 Q2182.73 201.571 2179.95 201.571 L2174.86 201.571 L2174.86 216.178 L2170.18 216.178 L2170.18 181.618 L2180.74 181.618 Q2186.66 181.618 2189.58 184.094 Q2192.5 186.571 2192.5 191.571 Q2192.5 194.835 2190.97 196.988 Q2189.46 199.141 2186.57 199.974 M2174.86 185.46 L2174.86 197.729 L2180.74 197.729 Q2184.12 197.729 2185.83 196.178 Q2187.56 194.604 2187.56 191.571 Q2187.56 188.539 2185.83 187.011 Q2184.12 185.46 2180.74 185.46 L2174.86 185.46 Z\" fill=\"#000000\" fill-rule=\"evenodd\" fill-opacity=\"1\" /><path clip-path=\"url(#clip630)\" d=\"M2195.34 181.618 L2200.37 181.618 L2209.95 195.83 L2219.46 181.618 L2224.49 181.618 L2212.26 199.719 L2212.26 216.178 L2207.56 216.178 L2207.56 199.719 L2195.34 181.618 Z\" fill=\"#000000\" fill-rule=\"evenodd\" fill-opacity=\"1\" /><polyline clip-path=\"url(#clip630)\" style=\"stroke:#3da44d; stroke-linecap:butt; stroke-linejoin:round; stroke-width:4; stroke-opacity:1; fill:none\" points=\"\n",
       "  1998.7,250.738 2145.68,250.738 \n",
       "  \"/>\n",
       "<path clip-path=\"url(#clip630)\" d=\"M2174.86 237.3 L2174.86 250.286 L2180.74 250.286 Q2184 250.286 2185.78 248.596 Q2187.56 246.907 2187.56 243.782 Q2187.56 240.68 2185.78 238.99 Q2184 237.3 2180.74 237.3 L2174.86 237.3 M2170.18 233.458 L2180.74 233.458 Q2186.55 233.458 2189.51 236.096 Q2192.5 238.712 2192.5 243.782 Q2192.5 248.897 2189.51 251.513 Q2186.55 254.129 2180.74 254.129 L2174.86 254.129 L2174.86 268.018 L2170.18 268.018 L2170.18 233.458 Z\" fill=\"#000000\" fill-rule=\"evenodd\" fill-opacity=\"1\" /><polyline clip-path=\"url(#clip630)\" style=\"stroke:#c271d2; stroke-linecap:butt; stroke-linejoin:round; stroke-width:4; stroke-opacity:1; fill:none\" points=\"\n",
       "  1998.7,302.578 2145.68,302.578 \n",
       "  \"/>\n",
       "<path clip-path=\"url(#clip630)\" d=\"M2170.18 285.298 L2199.42 285.298 L2199.42 289.233 L2187.15 289.233 L2187.15 319.858 L2182.45 319.858 L2182.45 289.233 L2170.18 289.233 L2170.18 285.298 Z\" fill=\"#000000\" fill-rule=\"evenodd\" fill-opacity=\"1\" /><path clip-path=\"url(#clip630)\" d=\"M2202.26 285.298 L2207.29 285.298 L2215.87 298.145 L2224.51 285.298 L2229.53 285.298 L2218.42 301.895 L2230.27 319.858 L2225.25 319.858 L2215.53 305.159 L2205.74 319.858 L2200.69 319.858 L2213.03 301.409 L2202.26 285.298 Z\" fill=\"#000000\" fill-rule=\"evenodd\" fill-opacity=\"1\" /><polyline clip-path=\"url(#clip630)\" style=\"stroke:#ac8d18; stroke-linecap:butt; stroke-linejoin:round; stroke-width:4; stroke-opacity:1; fill:none\" points=\"\n",
       "  1998.7,354.418 2145.68,354.418 \n",
       "  \"/>\n",
       "<path clip-path=\"url(#clip630)\" d=\"M2170.18 337.138 L2199.42 337.138 L2199.42 341.073 L2187.15 341.073 L2187.15 371.698 L2182.45 371.698 L2182.45 341.073 L2170.18 341.073 L2170.18 337.138 Z\" fill=\"#000000\" fill-rule=\"evenodd\" fill-opacity=\"1\" /><path clip-path=\"url(#clip630)\" d=\"M2199.18 337.138 L2204.21 337.138 L2213.79 351.35 L2223.31 337.138 L2228.33 337.138 L2216.11 355.239 L2216.11 371.698 L2211.41 371.698 L2211.41 355.239 L2199.18 337.138 Z\" fill=\"#000000\" fill-rule=\"evenodd\" fill-opacity=\"1\" /><polyline clip-path=\"url(#clip630)\" style=\"stroke:#00a9ad; stroke-linecap:butt; stroke-linejoin:round; stroke-width:4; stroke-opacity:1; fill:none\" points=\"\n",
       "  1998.7,406.258 2145.68,406.258 \n",
       "  \"/>\n",
       "<path clip-path=\"url(#clip630)\" d=\"M2177.59 390.251 L2177.59 397.612 L2186.36 397.612 L2186.36 400.922 L2177.59 400.922 L2177.59 414.996 Q2177.59 418.167 2178.44 419.07 Q2179.32 419.973 2181.99 419.973 L2186.36 419.973 L2186.36 423.538 L2181.99 423.538 Q2177.06 423.538 2175.18 421.709 Q2173.31 419.857 2173.31 414.996 L2173.31 400.922 L2170.18 400.922 L2170.18 397.612 L2173.31 397.612 L2173.31 390.251 L2177.59 390.251 Z\" fill=\"#000000\" fill-rule=\"evenodd\" fill-opacity=\"1\" /></svg>\n"
      ]
     },
     "metadata": {},
     "output_type": "display_data"
    }
   ],
   "source": [
    "drawVector(plot!, TX, [0,0], (-3,3), (-3,3), \"\", \"TX\")\n",
    "drawVector(plot!, TY, [0,0], (-3,3), (-3,3), \"\", \"TY\")\n",
    "drawVector(plot!, t, [0,0], (-3,3), (-3,3), \"\", \"t\")\n",
    "\n"
   ]
  },
  {
   "cell_type": "markdown",
   "metadata": {},
   "source": [
    "# BASIS T"
   ]
  },
  {
   "cell_type": "code",
   "execution_count": 5,
   "metadata": {},
   "outputs": [
    {
     "data": {
      "text/plain": [
       "2-element Vector{Int64}:\n",
       " 0\n",
       " 2"
      ]
     },
     "metadata": {},
     "output_type": "display_data"
    }
   ],
   "source": [
    "TX = [1,1]\n",
    "TY=[0,2]\n",
    "\n"
   ]
  },
  {
   "cell_type": "code",
   "execution_count": 6,
   "metadata": {},
   "outputs": [
    {
     "data": {
      "text/plain": [
       "2-element Vector{Float64}:\n",
       "  2.0\n",
       " -0.5"
      ]
     },
     "metadata": {},
     "output_type": "display_data"
    }
   ],
   "source": [
    "t = transformVectorBasis2D(P, TX, TY)"
   ]
  },
  {
   "cell_type": "code",
   "execution_count": 7,
   "metadata": {},
   "outputs": [
    {
     "data": {
      "text/plain": [
       "2×2 Matrix{Int64}:\n",
       " 1  0\n",
       " 1  2"
      ]
     },
     "metadata": {},
     "output_type": "display_data"
    }
   ],
   "source": [
    "M2 = hcat(TX, TY)"
   ]
  },
  {
   "cell_type": "code",
   "execution_count": 8,
   "metadata": {},
   "outputs": [
    {
     "data": {
      "text/plain": [
       "plot (generic function with 4 methods)"
      ]
     },
     "metadata": {},
     "output_type": "display_data"
    }
   ],
   "source": [
    "f = plot"
   ]
  },
  {
   "cell_type": "code",
   "execution_count": 9,
   "metadata": {},
   "outputs": [
    {
     "data": {
      "text/plain": [
       "plot (generic function with 4 methods)"
      ]
     },
     "metadata": {},
     "output_type": "display_data"
    }
   ],
   "source": [
    "plot "
   ]
  },
  {
   "cell_type": "code",
   "execution_count": 10,
   "metadata": {},
   "outputs": [
    {
     "data": {
      "text/plain": [
       "2×2 Matrix{Int64}:\n",
       " 1  0\n",
       " 1  2"
      ]
     },
     "metadata": {},
     "output_type": "display_data"
    }
   ],
   "source": [
    "#solve  system of linear equations\n",
    "A=[1 0;1 2]"
   ]
  },
  {
   "cell_type": "code",
   "execution_count": 11,
   "metadata": {},
   "outputs": [
    {
     "data": {
      "text/plain": [
       "2-element Vector{Int64}:\n",
       " 2\n",
       " 1"
      ]
     },
     "metadata": {},
     "output_type": "display_data"
    }
   ],
   "source": [
    "b=[2,1]"
   ]
  },
  {
   "cell_type": "code",
   "execution_count": 12,
   "metadata": {},
   "outputs": [
    {
     "data": {
      "text/plain": [
       "2-element Vector{Float64}:\n",
       "  2.0\n",
       " -0.5"
      ]
     },
     "metadata": {},
     "output_type": "display_data"
    }
   ],
   "source": [
    "A\\b"
   ]
  },
  {
   "cell_type": "code",
   "execution_count": 13,
   "metadata": {},
   "outputs": [
    {
     "data": {
      "text/plain": [
       "2×2 Matrix{Int64}:\n",
       " 1  0\n",
       " 1  2"
      ]
     },
     "metadata": {},
     "output_type": "display_data"
    }
   ],
   "source": [
    "A =[TX TY]"
   ]
  },
  {
   "cell_type": "markdown",
   "metadata": {},
   "source": [
    "# Find dot product"
   ]
  },
  {
   "cell_type": "code",
   "execution_count": 14,
   "metadata": {},
   "outputs": [
    {
     "data": {
      "text/plain": [
       "4-element Vector{Float64}:\n",
       " 0.5\n",
       " 0.5\n",
       " 0.5\n",
       " 0.5"
      ]
     },
     "metadata": {},
     "output_type": "display_data"
    }
   ],
   "source": [
    "v₀ = [1/2, 1/2, 1/2, 1/2]"
   ]
  },
  {
   "cell_type": "code",
   "execution_count": 15,
   "metadata": {},
   "outputs": [
    {
     "data": {
      "text/plain": [
       "4-element Vector{Float64}:\n",
       "  0.5\n",
       "  0.5\n",
       " -0.5\n",
       " -0.5"
      ]
     },
     "metadata": {},
     "output_type": "display_data"
    }
   ],
   "source": [
    "v₁ = [1/2, 1/2, -1/2, -1/2]"
   ]
  },
  {
   "cell_type": "code",
   "execution_count": 16,
   "metadata": {},
   "outputs": [
    {
     "data": {
      "text/plain": [
       "0.0"
      ]
     },
     "metadata": {},
     "output_type": "display_data"
    }
   ],
   "source": [
    "dot(v₀, v₁)"
   ]
  },
  {
   "cell_type": "markdown",
   "metadata": {},
   "source": [
    "# How many different vectors $\\mathbf{v}^{(3)}v $\n",
    "could we find such that $\\{\\mathbf{v}^{(0)}$ ,$\\mathbf{v}^{(1)}$,$ \\mathbf{v}^{(2)}$,$\\mathbf{v}^{(3)} $\n",
    "\n",
    "${v (0), v (1), v (2), v (3)}$ is a full orthogonal basis in $\\mathbb R^4R \n",
    "4$\n",
    " ?\n",
    "\n"
   ]
  },
  {
   "cell_type": "code",
   "execution_count": 17,
   "metadata": {},
   "outputs": [],
   "source": [
    "v₀ = [1/2, 1/2, 1/2, 1/2];\n",
    "v₁ = [ 1/2, 1/2, -1/2, -1/2];\n",
    "v₂ = [1/2, -1/2, 1/2, -1/2];"
   ]
  },
  {
   "cell_type": "code",
   "execution_count": 18,
   "metadata": {},
   "outputs": [
    {
     "data": {
      "text/plain": [
       "true"
      ]
     },
     "metadata": {},
     "output_type": "display_data"
    }
   ],
   "source": [
    "size(v₀) == size(v₁) == size(v₂)"
   ]
  },
  {
   "cell_type": "markdown",
   "metadata": {},
   "source": [
    "Inner product. The inner product of n-vectors x and y is denoted as x\n",
    "T y. In\n",
    "Julia, the inner product of x and y is denoted as x'*y."
   ]
  },
  {
   "cell_type": "code",
   "execution_count": 19,
   "metadata": {},
   "outputs": [
    {
     "data": {
      "text/plain": [
       "1×4 adjoint(::Vector{Float64}) with eltype Float64:\n",
       " 0.0  0.0  0.0  0.0"
      ]
     },
     "metadata": {},
     "output_type": "display_data"
    }
   ],
   "source": [
    "v₀'* (v₁'*v₂)"
   ]
  },
  {
   "cell_type": "markdown",
   "metadata": {},
   "source": [
    "checking for unit norm:"
   ]
  },
  {
   "cell_type": "code",
   "execution_count": 20,
   "metadata": {},
   "outputs": [
    {
     "data": {
      "text/plain": [
       "true"
      ]
     },
     "metadata": {},
     "output_type": "display_data"
    }
   ],
   "source": [
    "norm(v₀) == norm(v₁) == norm(v₂)"
   ]
  },
  {
   "cell_type": "code",
   "execution_count": 21,
   "metadata": {},
   "outputs": [],
   "source": [
    "using Symbolics\n",
    "using SymbolicUtils"
   ]
  },
  {
   "cell_type": "code",
   "execution_count": 22,
   "metadata": {},
   "outputs": [
    {
     "data": {
      "text/latex": [
       "\\begin{equation}\n",
       "\\left[\n",
       "\\begin{array}{c}\n",
       "v_3 \\\\\n",
       "\\end{array}\n",
       "\\right]\n",
       "\\end{equation}\n"
      ],
      "text/plain": [
       "1-element Vector{Num}:\n",
       " v₃"
      ]
     },
     "metadata": {},
     "output_type": "display_data"
    }
   ],
   "source": [
    "@variables a₁ a₂ a₃ a₄\n",
    "@variables v₃\n",
    "@variables y\n",
    "\n",
    "@variables  v₃ = [a₁ , a₂, a₃, a₄]"
   ]
  },
  {
   "cell_type": "code",
   "execution_count": 23,
   "metadata": {},
   "outputs": [
    {
     "data": {
      "text/latex": [
       "\\begin{equation}\n",
       "\\left[\n",
       "\\begin{array}{cccc}\n",
       "0.5 v_3 & 0.5 v_3 & 0.5 v_3 & 0.5 v_3 \\\\\n",
       "\\end{array}\n",
       "\\right]\n",
       "\\end{equation}\n"
      ],
      "text/plain": [
       "1×4 adjoint(::Vector{Num}) with eltype Num:\n",
       " 0.5v₃  0.5v₃  0.5v₃  0.5v₃"
      ]
     },
     "metadata": {},
     "output_type": "display_data"
    }
   ],
   "source": [
    "v₀'*v₃ "
   ]
  },
  {
   "cell_type": "code",
   "execution_count": 24,
   "metadata": {},
   "outputs": [
    {
     "data": {
      "text/latex": [
       "\\begin{equation}\n",
       "\\left[\n",
       "\\begin{array}{cccc}\n",
       "0.5 v_3 & 0.5 v_3 &  - 0.5 v_3 &  - 0.5 v_3 \\\\\n",
       "\\end{array}\n",
       "\\right]\n",
       "\\end{equation}\n"
      ],
      "text/plain": [
       "1×4 adjoint(::Vector{Num}) with eltype Num:\n",
       " 0.5v₃  0.5v₃  -0.5v₃  -0.5v₃"
      ]
     },
     "metadata": {},
     "output_type": "display_data"
    }
   ],
   "source": [
    "v₁'*v₃"
   ]
  },
  {
   "cell_type": "code",
   "execution_count": 25,
   "metadata": {},
   "outputs": [
    {
     "data": {
      "text/latex": [
       "\\begin{equation}\n",
       "\\left[\n",
       "\\begin{array}{cccc}\n",
       "0.5 v_3 &  - 0.5 v_3 & 0.5 v_3 &  - 0.5 v_3 \\\\\n",
       "\\end{array}\n",
       "\\right]\n",
       "\\end{equation}\n"
      ],
      "text/plain": [
       "1×4 adjoint(::Vector{Num}) with eltype Num:\n",
       " 0.5v₃  -0.5v₃  0.5v₃  -0.5v₃"
      ]
     },
     "metadata": {},
     "output_type": "display_data"
    }
   ],
   "source": [
    "v₂'*v₃"
   ]
  },
  {
   "cell_type": "code",
   "execution_count": 26,
   "metadata": {},
   "outputs": [
    {
     "data": {
      "text/plain": [
       "0.0"
      ]
     },
     "metadata": {},
     "output_type": "display_data"
    }
   ],
   "source": [
    "v₀' * v₁"
   ]
  },
  {
   "cell_type": "code",
   "execution_count": 27,
   "metadata": {},
   "outputs": [
    {
     "data": {
      "text/latex": [
       "\\begin{equation}\n",
       "\\left[\n",
       "\\begin{array}{cccc}\n",
       "0.5 v_3 & 0.5 v_3 & 0.5 v_3 & 0.5 v_3 \\\\\n",
       "0.5 v_3 & 0.5 v_3 &  - 0.5 v_3 &  - 0.5 v_3 \\\\\n",
       "0.5 v_3 &  - 0.5 v_3 & 0.5 v_3 &  - 0.5 v_3 \\\\\n",
       "\\end{array}\n",
       "\\right]\n",
       "\\end{equation}\n"
      ],
      "text/plain": [
       "3×4 Matrix{Num}:\n",
       " 0.5v₃   0.5v₃   0.5v₃   0.5v₃\n",
       " 0.5v₃   0.5v₃  -0.5v₃  -0.5v₃\n",
       " 0.5v₃  -0.5v₃   0.5v₃  -0.5v₃"
      ]
     },
     "metadata": {},
     "output_type": "display_data"
    }
   ],
   "source": [
    "#find out how different vectors v₃ could we find such that {v₀, v₁, v₂, v₃} are independant\n",
    "\n",
    "A = [v₀'*v₃; \n",
    "    v₁'*v₃;\n",
    "    v₂'*v₃]"
   ]
  },
  {
   "cell_type": "code",
   "execution_count": 28,
   "metadata": {},
   "outputs": [
    {
     "data": {
      "text/plain": [
       "3-element Vector{Int64}:\n",
       " 0\n",
       " 0\n",
       " 0"
      ]
     },
     "metadata": {},
     "output_type": "display_data"
    }
   ],
   "source": [
    "b = [0,0,0]"
   ]
  },
  {
   "cell_type": "code",
   "execution_count": 29,
   "metadata": {},
   "outputs": [
    {
     "ename": "MethodError",
     "evalue": "MethodError: no method matching +(::Num, ::Vector{Float64})\nFor element-wise addition, use broadcasting with dot syntax: scalar .+ array\nClosest candidates are:\n  +(::Any, ::Any, !Matched::Any, !Matched::Any...) at C:\\Users\\gilju\\AppData\\Local\\Programs\\Julia-1.7.3\\share\\julia\\base\\operators.jl:655\n  +(!Matched::Union{InitialValues.NonspecificInitialValue, InitialValues.SpecificInitialValue{typeof(+)}}, ::Any) at C:\\Users\\gilju\\.julia\\packages\\InitialValues\\OWP8V\\src\\InitialValues.jl:154\n  +(!Matched::StaticArrays.StaticArray, ::AbstractArray) at C:\\Users\\gilju\\.julia\\packages\\StaticArrays\\G7IlJ\\src\\linalg.jl:14\n  ...",
     "output_type": "error",
     "traceback": [
      "MethodError: no method matching +(::Num, ::Vector{Float64})\n",
      "For element-wise addition, use broadcasting with dot syntax: scalar .+ array\n",
      "Closest candidates are:\n",
      "  +(::Any, ::Any, !Matched::Any, !Matched::Any...) at C:\\Users\\gilju\\AppData\\Local\\Programs\\Julia-1.7.3\\share\\julia\\base\\operators.jl:655\n",
      "  +(!Matched::Union{InitialValues.NonspecificInitialValue, InitialValues.SpecificInitialValue{typeof(+)}}, ::Any) at C:\\Users\\gilju\\.julia\\packages\\InitialValues\\OWP8V\\src\\InitialValues.jl:154\n",
      "  +(!Matched::StaticArrays.StaticArray, ::AbstractArray) at C:\\Users\\gilju\\.julia\\packages\\StaticArrays\\G7IlJ\\src\\linalg.jl:14\n",
      "  ...\n",
      "\n",
      "Stacktrace:\n",
      "  [1] +(a::Num, b::Vector{Float64}, c::Vector{Float64}, xs::Vector{Float64})\n",
      "    @ Base .\\operators.jl:655\n",
      "  [2] top-level scope\n",
      "    @ c:\\Users\\gilju\\OneDrive\\Documents\\Dev\\Projects\\LinearAlgebraStudy.jl\\test\\scratcpad.ipynb:1\n",
      "  [3] eval\n",
      "    @ .\\boot.jl:373 [inlined]\n",
      "  [4] include_string(mapexpr::typeof(REPL.softscope), mod::Module, code::String, filename::String)\n",
      "    @ Base .\\loading.jl:1196\n",
      "  [5] #invokelatest#2\n",
      "    @ .\\essentials.jl:716 [inlined]\n",
      "  [6] invokelatest\n",
      "    @ .\\essentials.jl:714 [inlined]\n",
      "  [7] (::VSCodeServer.var\"#164#165\"{VSCodeServer.NotebookRunCellArguments, String})()\n",
      "    @ VSCodeServer c:\\Users\\gilju\\.vscode\\extensions\\julialang.language-julia-1.6.17\\scripts\\packages\\VSCodeServer\\src\\serve_notebook.jl:19\n",
      "  [8] withpath(f::VSCodeServer.var\"#164#165\"{VSCodeServer.NotebookRunCellArguments, String}, path::String)\n",
      "    @ VSCodeServer c:\\Users\\gilju\\.vscode\\extensions\\julialang.language-julia-1.6.17\\scripts\\packages\\VSCodeServer\\src\\repl.jl:184\n",
      "  [9] notebook_runcell_request(conn::VSCodeServer.JSONRPC.JSONRPCEndpoint{Base.PipeEndpoint, Base.PipeEndpoint}, params::VSCodeServer.NotebookRunCellArguments)\n",
      "    @ VSCodeServer c:\\Users\\gilju\\.vscode\\extensions\\julialang.language-julia-1.6.17\\scripts\\packages\\VSCodeServer\\src\\serve_notebook.jl:13\n",
      " [10] dispatch_msg(x::VSCodeServer.JSONRPC.JSONRPCEndpoint{Base.PipeEndpoint, Base.PipeEndpoint}, dispatcher::VSCodeServer.JSONRPC.MsgDispatcher, msg::Dict{String, Any})\n",
      "    @ VSCodeServer.JSONRPC c:\\Users\\gilju\\.vscode\\extensions\\julialang.language-julia-1.6.17\\scripts\\packages\\JSONRPC\\src\\typed.jl:67\n",
      " [11] serve_notebook(pipename::String, outputchannel_logger::Base.CoreLogging.SimpleLogger; crashreporting_pipename::String)\n",
      "    @ VSCodeServer c:\\Users\\gilju\\.vscode\\extensions\\julialang.language-julia-1.6.17\\scripts\\packages\\VSCodeServer\\src\\serve_notebook.jl:136\n",
      " [12] top-level scope\n",
      "    @ c:\\Users\\gilju\\.vscode\\extensions\\julialang.language-julia-1.6.17\\scripts\\notebook\\notebook.jl:32\n",
      " [13] include(mod::Module, _path::String)\n",
      "    @ Base .\\Base.jl:418\n",
      " [14] exec_options(opts::Base.JLOptions)\n",
      "    @ Base .\\client.jl:292\n",
      " [15] _start()\n",
      "    @ Base .\\client.jl:495"
     ]
    }
   ],
   "source": [
    "eq = y ~ 0.5*v₃ + 0.5*v₀ + 0.5*v₁ + 0.5*v₂"
   ]
  },
  {
   "cell_type": "code",
   "execution_count": 30,
   "metadata": {},
   "outputs": [
    {
     "ename": "UndefVarError",
     "evalue": "UndefVarError: eq not defined",
     "output_type": "error",
     "traceback": [
      "UndefVarError: eq not defined\n",
      "\n",
      "Stacktrace:\n",
      "  [1] top-level scope\n",
      "    @ c:\\Users\\gilju\\OneDrive\\Documents\\Dev\\Projects\\LinearAlgebraStudy.jl\\test\\scratcpad.ipynb:1\n",
      "  [2] eval\n",
      "    @ .\\boot.jl:373 [inlined]\n",
      "  [3] include_string(mapexpr::typeof(REPL.softscope), mod::Module, code::String, filename::String)\n",
      "    @ Base .\\loading.jl:1196\n",
      "  [4] #invokelatest#2\n",
      "    @ .\\essentials.jl:716 [inlined]\n",
      "  [5] invokelatest\n",
      "    @ .\\essentials.jl:714 [inlined]\n",
      "  [6] (::VSCodeServer.var\"#164#165\"{VSCodeServer.NotebookRunCellArguments, String})()\n",
      "    @ VSCodeServer c:\\Users\\gilju\\.vscode\\extensions\\julialang.language-julia-1.6.17\\scripts\\packages\\VSCodeServer\\src\\serve_notebook.jl:19\n",
      "  [7] withpath(f::VSCodeServer.var\"#164#165\"{VSCodeServer.NotebookRunCellArguments, String}, path::String)\n",
      "    @ VSCodeServer c:\\Users\\gilju\\.vscode\\extensions\\julialang.language-julia-1.6.17\\scripts\\packages\\VSCodeServer\\src\\repl.jl:184\n",
      "  [8] notebook_runcell_request(conn::VSCodeServer.JSONRPC.JSONRPCEndpoint{Base.PipeEndpoint, Base.PipeEndpoint}, params::VSCodeServer.NotebookRunCellArguments)\n",
      "    @ VSCodeServer c:\\Users\\gilju\\.vscode\\extensions\\julialang.language-julia-1.6.17\\scripts\\packages\\VSCodeServer\\src\\serve_notebook.jl:13\n",
      "  [9] dispatch_msg(x::VSCodeServer.JSONRPC.JSONRPCEndpoint{Base.PipeEndpoint, Base.PipeEndpoint}, dispatcher::VSCodeServer.JSONRPC.MsgDispatcher, msg::Dict{String, Any})\n",
      "    @ VSCodeServer.JSONRPC c:\\Users\\gilju\\.vscode\\extensions\\julialang.language-julia-1.6.17\\scripts\\packages\\JSONRPC\\src\\typed.jl:67\n",
      " [10] serve_notebook(pipename::String, outputchannel_logger::Base.CoreLogging.SimpleLogger; crashreporting_pipename::String)\n",
      "    @ VSCodeServer c:\\Users\\gilju\\.vscode\\extensions\\julialang.language-julia-1.6.17\\scripts\\packages\\VSCodeServer\\src\\serve_notebook.jl:136\n",
      " [11] top-level scope\n",
      "    @ c:\\Users\\gilju\\.vscode\\extensions\\julialang.language-julia-1.6.17\\scripts\\notebook\\notebook.jl:32\n",
      " [12] include(mod::Module, _path::String)\n",
      "    @ Base .\\Base.jl:418\n",
      " [13] exec_options(opts::Base.JLOptions)\n",
      "    @ Base .\\client.jl:292\n",
      " [14] _start()\n",
      "    @ Base .\\client.jl:495"
     ]
    }
   ],
   "source": [
    "Symbolics.solve_for(eq, y)"
   ]
  },
  {
   "cell_type": "markdown",
   "metadata": {},
   "source": [
    "# expansion coefficients on new Basis"
   ]
  },
  {
   "cell_type": "code",
   "execution_count": 31,
   "metadata": {},
   "outputs": [
    {
     "data": {
      "text/plain": [
       "4-element Vector{Float64}:\n",
       " 2.0\n",
       " 2.0\n",
       " 2.0\n",
       " 0.0"
      ]
     },
     "metadata": {},
     "output_type": "display_data"
    }
   ],
   "source": [
    "v₀ = [1/2, 1/2, 1/2, 1/2];\n",
    "v₁ = [ 1/2, 1/2, -1/2, -1/2];\n",
    "v₂ = [1/2, -1/2, 1/2, -1/2];\n",
    "v₃ = [1/2, -1/2, -1/2, 1/2];\n",
    "y = [3.0, 1.0, 1.0, -1.0] #original basis\n",
    "\n",
    "transformVectorBasis4D(y, v₀, v₁, v₂, v₃) # vector on orignial basis is first parameter"
   ]
  },
  {
   "cell_type": "markdown",
   "metadata": {},
   "source": [
    "Which of the following sets form a basis of \\mathbb R^4R \n",
    "4\n",
    " ?"
   ]
  },
  {
   "cell_type": "code",
   "execution_count": 39,
   "metadata": {},
   "outputs": [
    {
     "data": {
      "text/plain": [
       "true"
      ]
     },
     "metadata": {},
     "output_type": "display_data"
    }
   ],
   "source": [
    "testVectorsIndependance(y, v₁ +  v₂, v₂, v₃)"
   ]
  },
  {
   "cell_type": "code",
   "execution_count": 40,
   "metadata": {},
   "outputs": [
    {
     "data": {
      "text/plain": [
       "true"
      ]
     },
     "metadata": {},
     "output_type": "display_data"
    }
   ],
   "source": [
    "testVectorsIndependance(y, v₀, v₁, v₃)"
   ]
  },
  {
   "cell_type": "code",
   "execution_count": 41,
   "metadata": {},
   "outputs": [
    {
     "data": {
      "text/plain": [
       "true"
      ]
     },
     "metadata": {},
     "output_type": "display_data"
    }
   ],
   "source": [
    "testVectorsIndependance(y, v₁, v₂, v₃)"
   ]
  },
  {
   "cell_type": "code",
   "execution_count": 42,
   "metadata": {},
   "outputs": [
    {
     "data": {
      "text/plain": [
       "false"
      ]
     },
     "metadata": {},
     "output_type": "display_data"
    }
   ],
   "source": [
    "testVectorsIndependance(y, v₀, v₁, v₂)\n"
   ]
  },
  {
   "cell_type": "code",
   "execution_count": 36,
   "metadata": {},
   "outputs": [
    {
     "data": {
      "text/plain": [
       "4×4 Matrix{Int64}:\n",
       " 0  0  0  1\n",
       " 1  0  0  0\n",
       " 0  1  0  0\n",
       " 0  0  1  0"
      ]
     },
     "metadata": {},
     "output_type": "display_data"
    }
   ],
   "source": [
    "A = [0 0 0 1\n",
    "1 0 0 0\n",
    "0 1 0 0\n",
    "0 0 1 0]"
   ]
  },
  {
   "cell_type": "code",
   "execution_count": 37,
   "metadata": {},
   "outputs": [
    {
     "data": {
      "text/plain": [
       "4×4 Matrix{Int64}:\n",
       " 1  0  0  0\n",
       " 0  1  0  0\n",
       " 0  0  1  0\n",
       " 0  0  0  1"
      ]
     },
     "metadata": {},
     "output_type": "display_data"
    }
   ],
   "source": [
    "A ^ 4"
   ]
  },
  {
   "cell_type": "code",
   "execution_count": null,
   "metadata": {},
   "outputs": [],
   "source": []
  }
 ],
 "metadata": {
  "kernelspec": {
   "display_name": "Julia 1.7.3",
   "language": "julia",
   "name": "julia-1.7"
  },
  "language_info": {
   "file_extension": ".jl",
   "mimetype": "application/julia",
   "name": "julia",
   "version": "1.7.3"
  },
  "orig_nbformat": 4
 },
 "nbformat": 4,
 "nbformat_minor": 2
}
