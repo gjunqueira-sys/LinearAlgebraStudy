{
 "cells": [
  {
   "cell_type": "code",
   "execution_count": 67,
   "metadata": {},
   "outputs": [],
   "source": [
    "using LinearAlgebraStudy\n",
    "using LinearAlgebra\n",
    "using Plots"
   ]
  },
  {
   "cell_type": "code",
   "execution_count": 64,
   "metadata": {},
   "outputs": [
    {
     "data": {
      "image/png": "[encoded data removed]",
      "image/svg+xml": "<?xml version=\"1.0\" encoding=\"utf-8\"?>\n<svg xmlns=\"http://www.w3.org/2000/svg\" xmlns:xlink=\"http://www.w3.org/1999/xlink\" width=\"600\" height=\"400\" viewBox=\"0 0 2400 1600\">\n<defs>\n  <clipPath id=\"clip490\">\n    <rect x=\"0\" y=\"0\" width=\"2400\" height=\"1600\"/>\n  </clipPath>\n</defs>\n<path clip-path=\"url(#clip490)\" d=\"\nM0 1600 L2400 1600 L2400 0 L0 0  Z\n  \" fill=\"#ffffff\" fill-rule=\"evenodd\" fill-opacity=\"1\"/>\n<defs>\n  <clipPath id=\"clip491\">\n    <rect x=\"480\" y=\"0\" width=\"1681\" height=\"1600\"/>\n  </clipPath>\n</defs>\n<path clip-path=\"url(#clip490)\" d=\"\nM112.177 1486.45 L2352.76 1486.45 L2352.76 47.2441 L112.177 47.2441  Z\n  \" fill=\"#ffffff\" fill-rule=\"evenodd\" fill-opacity=\"1\"/>\n<defs>\n  <clipPath id=\"clip492\">\n    <rect x=\"112\" y=\"47\" width=\"2242\" height=\"1440\"/>\n  </clipPath>\n</defs>\n<polyline clip-path=\"url(#clip492)\" style=\"stroke:#000000; stroke-linecap:butt; stroke-linejoin:round; stroke-width:2; stroke-opacity:0.1; fill:none\" points=\"\n  175.59,1486.45 175.59,47.2441 \n  \"/>\n<polyline clip-path=\"url(#clip492)\" style=\"stroke:#000000; stroke-linecap:butt; stroke-linejoin:round; stroke-width:2; stroke-opacity:0.1; fill:none\" points=\"\n  598.34,1486.45 598.34,47.2441 \n  \"/>\n<polyline clip-path=\"url(#clip492)\" style=\"stroke:#000000; stroke-linecap:butt; stroke-linejoin:round; stroke-width:2; stroke-opacity:0.1; fill:none\" points=\"\n  1021.09,1486.45 1021.09,47.2441 \n  \"/>\n<polyline clip-path=\"url(#clip492)\" style=\"stroke:#000000; stroke-linecap:butt; stroke-linejoin:round; stroke-width:2; stroke-opacity:0.1; fill:none\" points=\"\n  1443.84,1486.45 1443.84,47.2441 \n  \"/>\n<polyline clip-path=\"url(#clip492)\" style=\"stroke:#000000; stroke-linecap:butt; stroke-linejoin:round; stroke-width:2; stroke-opacity:0.1; fill:none\" points=\"\n  1866.59,1486.45 1866.59,47.2441 \n  \"/>\n<polyline clip-path=\"url(#clip492)\" style=\"stroke:#000000; stroke-linecap:butt; stroke-linejoin:round; stroke-width:2; stroke-opacity:0.1; fill:none\" points=\"\n  2289.34,1486.45 2289.34,47.2441 \n  \"/>\n<polyline clip-path=\"url(#clip490)\" style=\"stroke:#000000; stroke-linecap:butt; stroke-linejoin:round; stroke-width:4; stroke-opacity:1; fill:none\" points=\"\n  112.177,1486.45 2352.76,1486.45 \n  \"/>\n<polyline clip-path=\"url(#clip490)\" style=\"stroke:#000000; stroke-linecap:butt; stroke-linejoin:round; stroke-width:4; stroke-opacity:1; fill:none\" points=\"\n  175.59,1486.45 175.59,1467.55 \n  \"/>\n<polyline clip-path=\"url(#clip490)\" style=\"stroke:#000000; stroke-linecap:butt; stroke-linejoin:round; stroke-width:4; stroke-opacity:1; fill:none\" points=\"\n  598.34,1486.45 598.34,1467.55 \n  \"/>\n<polyline clip-path=\"url(#clip490)\" style=\"stroke:#000000; stroke-linecap:butt; stroke-linejoin:round; stroke-width:4; stroke-opacity:1; fill:none\" points=\"\n  1021.09,1486.45 1021.09,1467.55 \n  \"/>\n<polyline clip-path=\"url(#clip490)\" style=\"stroke:#000000; stroke-linecap:butt; stroke-linejoin:round; stroke-width:4; stroke-opacity:1; fill:none\" points=\"\n  1443.84,1486.45 1443.84,1467.55 \n  \"/>\n<polyline clip-path=\"url(#clip490)\" style=\"stroke:#000000; stroke-linecap:butt; stroke-linejoin:round; stroke-width:4; stroke-opacity:1; fill:none\" points=\"\n  1866.59,1486.45 1866.59,1467.55 \n  \"/>\n<polyline clip-path=\"url(#clip490)\" style=\"stroke:#000000; stroke-linecap:butt; stroke-linejoin:round; stroke-width:4; stroke-opacity:1; fill:none\" points=\"\n  2289.34,1486.45 2289.34,1467.55 \n  \"/>\n<path clip-path=\"url(#clip490)\" d=\"M175.59 1517.37 Q171.979 1517.37 170.15 1520.93 Q168.344 1524.47 168.344 1531.6 Q168.344 1538.71 170.15 1542.27 Q171.979 1545.82 175.59 1545.82 Q179.224 1545.82 181.03 1542.27 Q182.858 1538.71 182.858 1531.6 Q182.858 1524.47 181.03 1520.93 Q179.224 1517.37 175.59 1517.37 M175.59 1513.66 Q181.4 1513.66 184.455 1518.27 Q187.534 1522.85 187.534 1531.6 Q187.534 1540.33 184.455 1544.94 Q181.4 1549.52 175.59 1549.52 Q169.78 1549.52 166.701 1544.94 Q163.645 1540.33 163.645 1531.6 Q163.645 1522.85 166.701 1518.27 Q169.78 1513.66 175.59 1513.66 Z\" fill=\"#000000\" fill-rule=\"evenodd\" fill-opacity=\"1\" /><path clip-path=\"url(#clip490)\" d=\"M588.722 1544.91 L596.361 1544.91 L596.361 1518.55 L588.051 1520.21 L588.051 1515.95 L596.315 1514.29 L600.991 1514.29 L600.991 1544.91 L608.63 1544.91 L608.63 1548.85 L588.722 1548.85 L588.722 1544.91 Z\" fill=\"#000000\" fill-rule=\"evenodd\" fill-opacity=\"1\" /><path clip-path=\"url(#clip490)\" d=\"M1015.74 1544.91 L1032.06 1544.91 L1032.06 1548.85 L1010.12 1548.85 L1010.12 1544.91 Q1012.78 1542.16 1017.36 1537.53 Q1021.97 1532.88 1023.15 1531.53 Q1025.4 1529.01 1026.28 1527.27 Q1027.18 1525.51 1027.18 1523.82 Q1027.18 1521.07 1025.23 1519.33 Q1023.31 1517.6 1020.21 1517.6 Q1018.01 1517.6 1015.56 1518.36 Q1013.13 1519.13 1010.35 1520.68 L1010.35 1515.95 Q1013.17 1514.82 1015.63 1514.24 Q1018.08 1513.66 1020.12 1513.66 Q1025.49 1513.66 1028.68 1516.35 Q1031.88 1519.03 1031.88 1523.52 Q1031.88 1525.65 1031.07 1527.57 Q1030.28 1529.47 1028.17 1532.07 Q1027.6 1532.74 1024.49 1535.95 Q1021.39 1539.15 1015.74 1544.91 Z\" fill=\"#000000\" fill-rule=\"evenodd\" fill-opacity=\"1\" /><path clip-path=\"url(#clip490)\" d=\"M1448.09 1530.21 Q1451.45 1530.93 1453.32 1533.2 Q1455.22 1535.47 1455.22 1538.8 Q1455.22 1543.92 1451.7 1546.72 Q1448.18 1549.52 1441.7 1549.52 Q1439.52 1549.52 1437.21 1549.08 Q1434.92 1548.66 1432.46 1547.81 L1432.46 1543.29 Q1434.41 1544.43 1436.72 1545.01 Q1439.04 1545.58 1441.56 1545.58 Q1445.96 1545.58 1448.25 1543.85 Q1450.57 1542.11 1450.57 1538.8 Q1450.57 1535.75 1448.41 1534.03 Q1446.28 1532.3 1442.46 1532.3 L1438.44 1532.3 L1438.44 1528.45 L1442.65 1528.45 Q1446.1 1528.45 1447.93 1527.09 Q1449.76 1525.7 1449.76 1523.11 Q1449.76 1520.45 1447.86 1519.03 Q1445.98 1517.6 1442.46 1517.6 Q1440.54 1517.6 1438.34 1518.01 Q1436.15 1518.43 1433.51 1519.31 L1433.51 1515.14 Q1436.17 1514.4 1438.48 1514.03 Q1440.82 1513.66 1442.88 1513.66 Q1448.21 1513.66 1451.31 1516.09 Q1454.41 1518.5 1454.41 1522.62 Q1454.41 1525.49 1452.77 1527.48 Q1451.12 1529.45 1448.09 1530.21 Z\" fill=\"#000000\" fill-rule=\"evenodd\" fill-opacity=\"1\" /><path clip-path=\"url(#clip490)\" d=\"M1869.6 1518.36 L1857.8 1536.81 L1869.6 1536.81 L1869.6 1518.36 M1868.37 1514.29 L1874.25 1514.29 L1874.25 1536.81 L1879.19 1536.81 L1879.19 1540.7 L1874.25 1540.7 L1874.25 1548.85 L1869.6 1548.85 L1869.6 1540.7 L1854 1540.7 L1854 1536.19 L1868.37 1514.29 Z\" fill=\"#000000\" fill-rule=\"evenodd\" fill-opacity=\"1\" /><path clip-path=\"url(#clip490)\" d=\"M2279.62 1514.29 L2297.98 1514.29 L2297.98 1518.22 L2283.9 1518.22 L2283.9 1526.7 Q2284.92 1526.35 2285.94 1526.19 Q2286.96 1526 2287.98 1526 Q2293.76 1526 2297.14 1529.17 Q2300.52 1532.34 2300.52 1537.76 Q2300.52 1543.34 2297.05 1546.44 Q2293.58 1549.52 2287.26 1549.52 Q2285.08 1549.52 2282.82 1549.15 Q2280.57 1548.78 2278.16 1548.04 L2278.16 1543.34 Q2280.25 1544.47 2282.47 1545.03 Q2284.69 1545.58 2287.17 1545.58 Q2291.17 1545.58 2293.51 1543.48 Q2295.85 1541.37 2295.85 1537.76 Q2295.85 1534.15 2293.51 1532.04 Q2291.17 1529.94 2287.17 1529.94 Q2285.29 1529.94 2283.42 1530.35 Q2281.57 1530.77 2279.62 1531.65 L2279.62 1514.29 Z\" fill=\"#000000\" fill-rule=\"evenodd\" fill-opacity=\"1\" /><polyline clip-path=\"url(#clip492)\" style=\"stroke:#000000; stroke-linecap:butt; stroke-linejoin:round; stroke-width:2; stroke-opacity:0.1; fill:none\" points=\"\n  112.177,1445.72 2352.76,1445.72 \n  \"/>\n<polyline clip-path=\"url(#clip492)\" style=\"stroke:#000000; stroke-linecap:butt; stroke-linejoin:round; stroke-width:2; stroke-opacity:0.1; fill:none\" points=\"\n  112.177,1174.17 2352.76,1174.17 \n  \"/>\n<polyline clip-path=\"url(#clip492)\" style=\"stroke:#000000; stroke-linecap:butt; stroke-linejoin:round; stroke-width:2; stroke-opacity:0.1; fill:none\" points=\"\n  112.177,902.62 2352.76,902.62 \n  \"/>\n<polyline clip-path=\"url(#clip492)\" style=\"stroke:#000000; stroke-linecap:butt; stroke-linejoin:round; stroke-width:2; stroke-opacity:0.1; fill:none\" points=\"\n  112.177,631.072 2352.76,631.072 \n  \"/>\n<polyline clip-path=\"url(#clip492)\" style=\"stroke:#000000; stroke-linecap:butt; stroke-linejoin:round; stroke-width:2; stroke-opacity:0.1; fill:none\" points=\"\n  112.177,359.524 2352.76,359.524 \n  \"/>\n<polyline clip-path=\"url(#clip492)\" style=\"stroke:#000000; stroke-linecap:butt; stroke-linejoin:round; stroke-width:2; stroke-opacity:0.1; fill:none\" points=\"\n  112.177,87.9763 2352.76,87.9763 \n  \"/>\n<polyline clip-path=\"url(#clip490)\" style=\"stroke:#000000; stroke-linecap:butt; stroke-linejoin:round; stroke-width:4; stroke-opacity:1; fill:none\" points=\"\n  112.177,1486.45 112.177,47.2441 \n  \"/>\n<polyline clip-path=\"url(#clip490)\" style=\"stroke:#000000; stroke-linecap:butt; stroke-linejoin:round; stroke-width:4; stroke-opacity:1; fill:none\" points=\"\n  112.177,1445.72 131.075,1445.72 \n  \"/>\n<polyline clip-path=\"url(#clip490)\" style=\"stroke:#000000; stroke-linecap:butt; stroke-linejoin:round; stroke-width:4; stroke-opacity:1; fill:none\" points=\"\n  112.177,1174.17 131.075,1174.17 \n  \"/>\n<polyline clip-path=\"url(#clip490)\" style=\"stroke:#000000; stroke-linecap:butt; stroke-linejoin:round; stroke-width:4; stroke-opacity:1; fill:none\" points=\"\n  112.177,902.62 131.075,902.62 \n  \"/>\n<polyline clip-path=\"url(#clip490)\" style=\"stroke:#000000; stroke-linecap:butt; stroke-linejoin:round; stroke-width:4; stroke-opacity:1; fill:none\" points=\"\n  112.177,631.072 131.075,631.072 \n  \"/>\n<polyline clip-path=\"url(#clip490)\" style=\"stroke:#000000; stroke-linecap:butt; stroke-linejoin:round; stroke-width:4; stroke-opacity:1; fill:none\" points=\"\n  112.177,359.524 131.075,359.524 \n  \"/>\n<polyline clip-path=\"url(#clip490)\" style=\"stroke:#000000; stroke-linecap:butt; stroke-linejoin:round; stroke-width:4; stroke-opacity:1; fill:none\" points=\"\n  112.177,87.9763 131.075,87.9763 \n  \"/>\n<path clip-path=\"url(#clip490)\" d=\"M64.2328 1431.51 Q60.6217 1431.51 58.793 1435.08 Q56.9875 1438.62 56.9875 1445.75 Q56.9875 1452.86 58.793 1456.42 Q60.6217 1459.96 64.2328 1459.96 Q67.867 1459.96 69.6726 1456.42 Q71.5013 1452.86 71.5013 1445.75 Q71.5013 1438.62 69.6726 1435.08 Q67.867 1431.51 64.2328 1431.51 M64.2328 1427.81 Q70.0429 1427.81 73.0985 1432.42 Q76.1772 1437 76.1772 1445.75 Q76.1772 1454.48 73.0985 1459.08 Q70.0429 1463.67 64.2328 1463.67 Q58.4226 1463.67 55.344 1459.08 Q52.2884 1454.48 52.2884 1445.75 Q52.2884 1437 55.344 1432.42 Q58.4226 1427.81 64.2328 1427.81 Z\" fill=\"#000000\" fill-rule=\"evenodd\" fill-opacity=\"1\" /><path clip-path=\"url(#clip490)\" d=\"M56.2699 1187.51 L63.9087 1187.51 L63.9087 1161.15 L55.5986 1162.81 L55.5986 1158.55 L63.8624 1156.89 L68.5383 1156.89 L68.5383 1187.51 L76.1772 1187.51 L76.1772 1191.45 L56.2699 1191.45 L56.2699 1187.51 Z\" fill=\"#000000\" fill-rule=\"evenodd\" fill-opacity=\"1\" /><path clip-path=\"url(#clip490)\" d=\"M59.8578 915.965 L76.1772 915.965 L76.1772 919.9 L54.2328 919.9 L54.2328 915.965 Q56.8949 913.21 61.4782 908.581 Q66.0846 903.928 67.2652 902.585 Q69.5105 900.062 70.3902 898.326 Q71.2929 896.567 71.2929 894.877 Q71.2929 892.122 69.3485 890.386 Q67.4272 888.65 64.3254 888.65 Q62.1263 888.65 59.6726 889.414 Q57.2421 890.178 54.4643 891.729 L54.4643 887.007 Q57.2884 885.872 59.7421 885.294 Q62.1958 884.715 64.2328 884.715 Q69.6031 884.715 72.7976 887.4 Q75.992 890.085 75.992 894.576 Q75.992 896.706 75.1818 898.627 Q74.3948 900.525 72.2883 903.118 Q71.7096 903.789 68.6078 907.006 Q65.5059 910.201 59.8578 915.965 Z\" fill=\"#000000\" fill-rule=\"evenodd\" fill-opacity=\"1\" /><path clip-path=\"url(#clip490)\" d=\"M69.0476 629.718 Q72.404 630.435 74.279 632.704 Q76.1772 634.972 76.1772 638.306 Q76.1772 643.422 72.6587 646.222 Q69.1402 649.023 62.6587 649.023 Q60.4828 649.023 58.168 648.584 Q55.8764 648.167 53.4227 647.31 L53.4227 642.797 Q55.3671 643.931 57.6819 644.509 Q59.9967 645.088 62.5198 645.088 Q66.918 645.088 69.2096 643.352 Q71.5244 641.616 71.5244 638.306 Q71.5244 635.25 69.3717 633.537 Q67.242 631.801 63.4226 631.801 L59.3949 631.801 L59.3949 627.959 L63.6078 627.959 Q67.0569 627.959 68.8855 626.593 Q70.7142 625.204 70.7142 622.611 Q70.7142 619.949 68.8161 618.537 Q66.9411 617.102 63.4226 617.102 Q61.5013 617.102 59.3023 617.519 Q57.1032 617.936 54.4643 618.815 L54.4643 614.649 Q57.1264 613.908 59.4412 613.537 Q61.7791 613.167 63.8393 613.167 Q69.1633 613.167 72.2652 615.598 Q75.367 618.005 75.367 622.125 Q75.367 624.996 73.7235 626.986 Q72.08 628.954 69.0476 629.718 Z\" fill=\"#000000\" fill-rule=\"evenodd\" fill-opacity=\"1\" /><path clip-path=\"url(#clip490)\" d=\"M66.5939 346.318 L54.7884 364.767 L66.5939 364.767 L66.5939 346.318 M65.367 342.244 L71.2466 342.244 L71.2466 364.767 L76.1772 364.767 L76.1772 368.656 L71.2466 368.656 L71.2466 376.804 L66.5939 376.804 L66.5939 368.656 L50.9921 368.656 L50.9921 364.142 L65.367 342.244 Z\" fill=\"#000000\" fill-rule=\"evenodd\" fill-opacity=\"1\" /><path clip-path=\"url(#clip490)\" d=\"M55.2745 70.6963 L73.6309 70.6963 L73.6309 74.6314 L59.5569 74.6314 L59.5569 83.1036 Q60.5754 82.7564 61.5939 82.5944 Q62.6124 82.4092 63.6309 82.4092 Q69.418 82.4092 72.7976 85.5805 Q76.1772 88.7517 76.1772 94.1684 Q76.1772 99.747 72.705 102.849 Q69.2328 105.928 62.9134 105.928 Q60.7374 105.928 58.4689 105.557 Q56.2236 105.187 53.8162 104.446 L53.8162 99.747 Q55.8995 100.881 58.1217 101.437 Q60.3439 101.992 62.8208 101.992 Q66.8254 101.992 69.1633 99.8859 Q71.5013 97.7795 71.5013 94.1684 Q71.5013 90.5573 69.1633 88.4508 Q66.8254 86.3443 62.8208 86.3443 Q60.9458 86.3443 59.0708 86.761 Q57.2189 87.1777 55.2745 88.0573 L55.2745 70.6963 Z\" fill=\"#000000\" fill-rule=\"evenodd\" fill-opacity=\"1\" /><polyline clip-path=\"url(#clip492)\" style=\"stroke:#009af9; stroke-linecap:butt; stroke-linejoin:round; stroke-width:4; stroke-opacity:1; fill:none\" points=\"\n  175.59,1445.72 598.34,1445.72 \n  \"/>\n<polyline clip-path=\"url(#clip492)\" style=\"stroke:#009af9; stroke-linecap:butt; stroke-linejoin:round; stroke-width:4; stroke-opacity:1; fill:none\" points=\"\n  562.34,1427.72 598.34,1445.72 562.34,1463.72 \n  \"/>\n<polyline clip-path=\"url(#clip492)\" style=\"stroke:#009af9; stroke-linecap:butt; stroke-linejoin:round; stroke-width:4; stroke-opacity:1; fill:none\" points=\"\n  598.34,1445.72 175.59,1445.72 \n  \"/>\n<polyline clip-path=\"url(#clip492)\" style=\"stroke:#e26f46; stroke-linecap:butt; stroke-linejoin:round; stroke-width:4; stroke-opacity:1; fill:none\" points=\"\n  175.59,1445.72 175.59,1174.17 \n  \"/>\n<polyline clip-path=\"url(#clip492)\" style=\"stroke:#e26f46; stroke-linecap:butt; stroke-linejoin:round; stroke-width:4; stroke-opacity:1; fill:none\" points=\"\n  157.59,1210.17 175.59,1174.17 193.59,1210.17 \n  \"/>\n<polyline clip-path=\"url(#clip492)\" style=\"stroke:#e26f46; stroke-linecap:butt; stroke-linejoin:round; stroke-width:4; stroke-opacity:1; fill:none\" points=\"\n  175.59,1174.17 175.59,1445.72 \n  \"/>\n<polyline clip-path=\"url(#clip492)\" style=\"stroke:#3da44d; stroke-linecap:butt; stroke-linejoin:round; stroke-width:4; stroke-opacity:1; fill:none\" points=\"\n  175.59,1445.72 1021.09,1174.17 \n  \"/>\n<polyline clip-path=\"url(#clip492)\" style=\"stroke:#3da44d; stroke-linecap:butt; stroke-linejoin:round; stroke-width:4; stroke-opacity:1; fill:none\" points=\"\n  981.311,1168.04 1021.09,1174.17 992.32,1202.31 \n  \"/>\n<polyline clip-path=\"url(#clip492)\" style=\"stroke:#3da44d; stroke-linecap:butt; stroke-linejoin:round; stroke-width:4; stroke-opacity:1; fill:none\" points=\"\n  1021.09,1174.17 175.59,1445.72 \n  \"/>\n<path clip-path=\"url(#clip490)\" d=\"\nM1976.11 302.578 L2278.07 302.578 L2278.07 95.2176 L1976.11 95.2176  Z\n  \" fill=\"#ffffff\" fill-rule=\"evenodd\" fill-opacity=\"1\"/>\n<polyline clip-path=\"url(#clip490)\" style=\"stroke:#000000; stroke-linecap:butt; stroke-linejoin:round; stroke-width:4; stroke-opacity:1; fill:none\" points=\"\n  1976.11,302.578 2278.07,302.578 2278.07,95.2176 1976.11,95.2176 1976.11,302.578 \n  \"/>\n<polyline clip-path=\"url(#clip490)\" style=\"stroke:#009af9; stroke-linecap:butt; stroke-linejoin:round; stroke-width:4; stroke-opacity:1; fill:none\" points=\"\n  2001,147.058 2150.38,147.058 \n  \"/>\n<path clip-path=\"url(#clip490)\" d=\"M2189.11 166.745 Q2187.31 171.375 2185.59 172.787 Q2183.88 174.199 2181.01 174.199 L2177.61 174.199 L2177.61 170.634 L2180.11 170.634 Q2181.87 170.634 2182.84 169.8 Q2183.81 168.967 2184.99 165.865 L2185.76 163.921 L2175.27 138.412 L2179.78 138.412 L2187.89 158.689 L2195.99 138.412 L2200.5 138.412 L2189.11 166.745 Z\" fill=\"#000000\" fill-rule=\"evenodd\" fill-opacity=\"1\" /><path clip-path=\"url(#clip490)\" d=\"M2207.79 160.402 L2215.43 160.402 L2215.43 134.037 L2207.12 135.703 L2207.12 131.444 L2215.39 129.778 L2220.06 129.778 L2220.06 160.402 L2227.7 160.402 L2227.7 164.338 L2207.79 164.338 L2207.79 160.402 Z\" fill=\"#000000\" fill-rule=\"evenodd\" fill-opacity=\"1\" /><polyline clip-path=\"url(#clip490)\" style=\"stroke:#e26f46; stroke-linecap:butt; stroke-linejoin:round; stroke-width:4; stroke-opacity:1; fill:none\" points=\"\n  2001,198.898 2150.38,198.898 \n  \"/>\n<path clip-path=\"url(#clip490)\" d=\"M2189.11 218.585 Q2187.31 223.215 2185.59 224.627 Q2183.88 226.039 2181.01 226.039 L2177.61 226.039 L2177.61 222.474 L2180.11 222.474 Q2181.87 222.474 2182.84 221.64 Q2183.81 220.807 2184.99 217.705 L2185.76 215.761 L2175.27 190.252 L2179.78 190.252 L2187.89 210.529 L2195.99 190.252 L2200.5 190.252 L2189.11 218.585 Z\" fill=\"#000000\" fill-rule=\"evenodd\" fill-opacity=\"1\" /><path clip-path=\"url(#clip490)\" d=\"M2211.01 212.242 L2227.33 212.242 L2227.33 216.178 L2205.39 216.178 L2205.39 212.242 Q2208.05 209.488 2212.63 204.858 Q2217.24 200.205 2218.42 198.863 Q2220.66 196.34 2221.54 194.604 Q2222.45 192.844 2222.45 191.155 Q2222.45 188.4 2220.5 186.664 Q2218.58 184.928 2215.48 184.928 Q2213.28 184.928 2210.83 185.692 Q2208.4 186.455 2205.62 188.006 L2205.62 183.284 Q2208.44 182.15 2210.9 181.571 Q2213.35 180.993 2215.39 180.993 Q2220.76 180.993 2223.95 183.678 Q2227.15 186.363 2227.15 190.854 Q2227.15 192.983 2226.33 194.905 Q2225.55 196.803 2223.44 199.395 Q2222.86 200.067 2219.76 203.284 Q2216.66 206.479 2211.01 212.242 Z\" fill=\"#000000\" fill-rule=\"evenodd\" fill-opacity=\"1\" /><polyline clip-path=\"url(#clip490)\" style=\"stroke:#3da44d; stroke-linecap:butt; stroke-linejoin:round; stroke-width:4; stroke-opacity:1; fill:none\" points=\"\n  2001,250.738 2150.38,250.738 \n  \"/>\n<path clip-path=\"url(#clip490)\" d=\"M2189.11 270.425 Q2187.31 275.055 2185.59 276.467 Q2183.88 277.879 2181.01 277.879 L2177.61 277.879 L2177.61 274.314 L2180.11 274.314 Q2181.87 274.314 2182.84 273.48 Q2183.81 272.647 2184.99 269.545 L2185.76 267.601 L2175.27 242.092 L2179.78 242.092 L2187.89 262.369 L2195.99 242.092 L2200.5 242.092 L2189.11 270.425 Z\" fill=\"#000000\" fill-rule=\"evenodd\" fill-opacity=\"1\" /><path clip-path=\"url(#clip490)\" d=\"M2221.15 249.383 Q2224.51 250.101 2226.38 252.369 Q2228.28 254.638 2228.28 257.971 Q2228.28 263.087 2224.76 265.888 Q2221.24 268.689 2214.76 268.689 Q2212.58 268.689 2210.27 268.249 Q2207.98 267.832 2205.52 266.976 L2205.52 262.462 Q2207.47 263.596 2209.78 264.175 Q2212.1 264.754 2214.62 264.754 Q2219.02 264.754 2221.31 263.018 Q2223.63 261.281 2223.63 257.971 Q2223.63 254.916 2221.47 253.203 Q2219.34 251.467 2215.52 251.467 L2211.5 251.467 L2211.5 247.624 L2215.71 247.624 Q2219.16 247.624 2220.99 246.258 Q2222.82 244.87 2222.82 242.277 Q2222.82 239.615 2220.92 238.203 Q2219.04 236.768 2215.52 236.768 Q2213.6 236.768 2211.4 237.184 Q2209.21 237.601 2206.57 238.481 L2206.57 234.314 Q2209.23 233.573 2211.54 233.203 Q2213.88 232.833 2215.94 232.833 Q2221.27 232.833 2224.37 235.263 Q2227.47 237.67 2227.47 241.791 Q2227.47 244.661 2225.83 246.652 Q2224.18 248.62 2221.15 249.383 Z\" fill=\"#000000\" fill-rule=\"evenodd\" fill-opacity=\"1\" /></svg>\n",
      "text/html": [
       "<?xml version=\"1.0\" encoding=\"utf-8\"?>\n",
       "<svg xmlns=\"http://www.w3.org/2000/svg\" xmlns:xlink=\"http://www.w3.org/1999/xlink\" width=\"600\" height=\"400\" viewBox=\"0 0 2400 1600\">\n",
       "<defs>\n",
       "  <clipPath id=\"clip540\">\n",
       "    <rect x=\"0\" y=\"0\" width=\"2400\" height=\"1600\"/>\n",
       "  </clipPath>\n",
       "</defs>\n",
       "<path clip-path=\"url(#clip540)\" d=\"\n",
       "M0 1600 L2400 1600 L2400 0 L0 0  Z\n",
       "  \" fill=\"#ffffff\" fill-rule=\"evenodd\" fill-opacity=\"1\"/>\n",
       "<defs>\n",
       "  <clipPath id=\"clip541\">\n",
       "    <rect x=\"480\" y=\"0\" width=\"1681\" height=\"1600\"/>\n",
       "  </clipPath>\n",
       "</defs>\n",
       "<path clip-path=\"url(#clip540)\" d=\"\n",
       "M112.177 1486.45 L2352.76 1486.45 L2352.76 47.2441 L112.177 47.2441  Z\n",
       "  \" fill=\"#ffffff\" fill-rule=\"evenodd\" fill-opacity=\"1\"/>\n",
       "<defs>\n",
       "  <clipPath id=\"clip542\">\n",
       "    <rect x=\"112\" y=\"47\" width=\"2242\" height=\"1440\"/>\n",
       "  </clipPath>\n",
       "</defs>\n",
       "<polyline clip-path=\"url(#clip542)\" style=\"stroke:#000000; stroke-linecap:butt; stroke-linejoin:round; stroke-width:2; stroke-opacity:0.1; fill:none\" points=\"\n",
       "  175.59,1486.45 175.59,47.2441 \n",
       "  \"/>\n",
       "<polyline clip-path=\"url(#clip542)\" style=\"stroke:#000000; stroke-linecap:butt; stroke-linejoin:round; stroke-width:2; stroke-opacity:0.1; fill:none\" points=\"\n",
       "  598.34,1486.45 598.34,47.2441 \n",
       "  \"/>\n",
       "<polyline clip-path=\"url(#clip542)\" style=\"stroke:#000000; stroke-linecap:butt; stroke-linejoin:round; stroke-width:2; stroke-opacity:0.1; fill:none\" points=\"\n",
       "  1021.09,1486.45 1021.09,47.2441 \n",
       "  \"/>\n",
       "<polyline clip-path=\"url(#clip542)\" style=\"stroke:#000000; stroke-linecap:butt; stroke-linejoin:round; stroke-width:2; stroke-opacity:0.1; fill:none\" points=\"\n",
       "  1443.84,1486.45 1443.84,47.2441 \n",
       "  \"/>\n",
       "<polyline clip-path=\"url(#clip542)\" style=\"stroke:#000000; stroke-linecap:butt; stroke-linejoin:round; stroke-width:2; stroke-opacity:0.1; fill:none\" points=\"\n",
       "  1866.59,1486.45 1866.59,47.2441 \n",
       "  \"/>\n",
       "<polyline clip-path=\"url(#clip542)\" style=\"stroke:#000000; stroke-linecap:butt; stroke-linejoin:round; stroke-width:2; stroke-opacity:0.1; fill:none\" points=\"\n",
       "  2289.34,1486.45 2289.34,47.2441 \n",
       "  \"/>\n",
       "<polyline clip-path=\"url(#clip540)\" style=\"stroke:#000000; stroke-linecap:butt; stroke-linejoin:round; stroke-width:4; stroke-opacity:1; fill:none\" points=\"\n",
       "  112.177,1486.45 2352.76,1486.45 \n",
       "  \"/>\n",
       "<polyline clip-path=\"url(#clip540)\" style=\"stroke:#000000; stroke-linecap:butt; stroke-linejoin:round; stroke-width:4; stroke-opacity:1; fill:none\" points=\"\n",
       "  175.59,1486.45 175.59,1467.55 \n",
       "  \"/>\n",
       "<polyline clip-path=\"url(#clip540)\" style=\"stroke:#000000; stroke-linecap:butt; stroke-linejoin:round; stroke-width:4; stroke-opacity:1; fill:none\" points=\"\n",
       "  598.34,1486.45 598.34,1467.55 \n",
       "  \"/>\n",
       "<polyline clip-path=\"url(#clip540)\" style=\"stroke:#000000; stroke-linecap:butt; stroke-linejoin:round; stroke-width:4; stroke-opacity:1; fill:none\" points=\"\n",
       "  1021.09,1486.45 1021.09,1467.55 \n",
       "  \"/>\n",
       "<polyline clip-path=\"url(#clip540)\" style=\"stroke:#000000; stroke-linecap:butt; stroke-linejoin:round; stroke-width:4; stroke-opacity:1; fill:none\" points=\"\n",
       "  1443.84,1486.45 1443.84,1467.55 \n",
       "  \"/>\n",
       "<polyline clip-path=\"url(#clip540)\" style=\"stroke:#000000; stroke-linecap:butt; stroke-linejoin:round; stroke-width:4; stroke-opacity:1; fill:none\" points=\"\n",
       "  1866.59,1486.45 1866.59,1467.55 \n",
       "  \"/>\n",
       "<polyline clip-path=\"url(#clip540)\" style=\"stroke:#000000; stroke-linecap:butt; stroke-linejoin:round; stroke-width:4; stroke-opacity:1; fill:none\" points=\"\n",
       "  2289.34,1486.45 2289.34,1467.55 \n",
       "  \"/>\n",
       "<path clip-path=\"url(#clip540)\" d=\"M175.59 1517.37 Q171.979 1517.37 170.15 1520.93 Q168.344 1524.47 168.344 1531.6 Q168.344 1538.71 170.15 1542.27 Q171.979 1545.82 175.59 1545.82 Q179.224 1545.82 181.03 1542.27 Q182.858 1538.71 182.858 1531.6 Q182.858 1524.47 181.03 1520.93 Q179.224 1517.37 175.59 1517.37 M175.59 1513.66 Q181.4 1513.66 184.455 1518.27 Q187.534 1522.85 187.534 1531.6 Q187.534 1540.33 184.455 1544.94 Q181.4 1549.52 175.59 1549.52 Q169.78 1549.52 166.701 1544.94 Q163.645 1540.33 163.645 1531.6 Q163.645 1522.85 166.701 1518.27 Q169.78 1513.66 175.59 1513.66 Z\" fill=\"#000000\" fill-rule=\"evenodd\" fill-opacity=\"1\" /><path clip-path=\"url(#clip540)\" d=\"M588.722 1544.91 L596.361 1544.91 L596.361 1518.55 L588.051 1520.21 L588.051 1515.95 L596.315 1514.29 L600.991 1514.29 L600.991 1544.91 L608.63 1544.91 L608.63 1548.85 L588.722 1548.85 L588.722 1544.91 Z\" fill=\"#000000\" fill-rule=\"evenodd\" fill-opacity=\"1\" /><path clip-path=\"url(#clip540)\" d=\"M1015.74 1544.91 L1032.06 1544.91 L1032.06 1548.85 L1010.12 1548.85 L1010.12 1544.91 Q1012.78 1542.16 1017.36 1537.53 Q1021.97 1532.88 1023.15 1531.53 Q1025.4 1529.01 1026.28 1527.27 Q1027.18 1525.51 1027.18 1523.82 Q1027.18 1521.07 1025.23 1519.33 Q1023.31 1517.6 1020.21 1517.6 Q1018.01 1517.6 1015.56 1518.36 Q1013.13 1519.13 1010.35 1520.68 L1010.35 1515.95 Q1013.17 1514.82 1015.63 1514.24 Q1018.08 1513.66 1020.12 1513.66 Q1025.49 1513.66 1028.68 1516.35 Q1031.88 1519.03 1031.88 1523.52 Q1031.88 1525.65 1031.07 1527.57 Q1030.28 1529.47 1028.17 1532.07 Q1027.6 1532.74 1024.49 1535.95 Q1021.39 1539.15 1015.74 1544.91 Z\" fill=\"#000000\" fill-rule=\"evenodd\" fill-opacity=\"1\" /><path clip-path=\"url(#clip540)\" d=\"M1448.09 1530.21 Q1451.45 1530.93 1453.32 1533.2 Q1455.22 1535.47 1455.22 1538.8 Q1455.22 1543.92 1451.7 1546.72 Q1448.18 1549.52 1441.7 1549.52 Q1439.52 1549.52 1437.21 1549.08 Q1434.92 1548.66 1432.46 1547.81 L1432.46 1543.29 Q1434.41 1544.43 1436.72 1545.01 Q1439.04 1545.58 1441.56 1545.58 Q1445.96 1545.58 1448.25 1543.85 Q1450.57 1542.11 1450.57 1538.8 Q1450.57 1535.75 1448.41 1534.03 Q1446.28 1532.3 1442.46 1532.3 L1438.44 1532.3 L1438.44 1528.45 L1442.65 1528.45 Q1446.1 1528.45 1447.93 1527.09 Q1449.76 1525.7 1449.76 1523.11 Q1449.76 1520.45 1447.86 1519.03 Q1445.98 1517.6 1442.46 1517.6 Q1440.54 1517.6 1438.34 1518.01 Q1436.15 1518.43 1433.51 1519.31 L1433.51 1515.14 Q1436.17 1514.4 1438.48 1514.03 Q1440.82 1513.66 1442.88 1513.66 Q1448.21 1513.66 1451.31 1516.09 Q1454.41 1518.5 1454.41 1522.62 Q1454.41 1525.49 1452.77 1527.48 Q1451.12 1529.45 1448.09 1530.21 Z\" fill=\"#000000\" fill-rule=\"evenodd\" fill-opacity=\"1\" /><path clip-path=\"url(#clip540)\" d=\"M1869.6 1518.36 L1857.8 1536.81 L1869.6 1536.81 L1869.6 1518.36 M1868.37 1514.29 L1874.25 1514.29 L1874.25 1536.81 L1879.19 1536.81 L1879.19 1540.7 L1874.25 1540.7 L1874.25 1548.85 L1869.6 1548.85 L1869.6 1540.7 L1854 1540.7 L1854 1536.19 L1868.37 1514.29 Z\" fill=\"#000000\" fill-rule=\"evenodd\" fill-opacity=\"1\" /><path clip-path=\"url(#clip540)\" d=\"M2279.62 1514.29 L2297.98 1514.29 L2297.98 1518.22 L2283.9 1518.22 L2283.9 1526.7 Q2284.92 1526.35 2285.94 1526.19 Q2286.96 1526 2287.98 1526 Q2293.76 1526 2297.14 1529.17 Q2300.52 1532.34 2300.52 1537.76 Q2300.52 1543.34 2297.05 1546.44 Q2293.58 1549.52 2287.26 1549.52 Q2285.08 1549.52 2282.82 1549.15 Q2280.57 1548.78 2278.16 1548.04 L2278.16 1543.34 Q2280.25 1544.47 2282.47 1545.03 Q2284.69 1545.58 2287.17 1545.58 Q2291.17 1545.58 2293.51 1543.48 Q2295.85 1541.37 2295.85 1537.76 Q2295.85 1534.15 2293.51 1532.04 Q2291.17 1529.94 2287.17 1529.94 Q2285.29 1529.94 2283.42 1530.35 Q2281.57 1530.77 2279.62 1531.65 L2279.62 1514.29 Z\" fill=\"#000000\" fill-rule=\"evenodd\" fill-opacity=\"1\" /><polyline clip-path=\"url(#clip542)\" style=\"stroke:#000000; stroke-linecap:butt; stroke-linejoin:round; stroke-width:2; stroke-opacity:0.1; fill:none\" points=\"\n",
       "  112.177,1445.72 2352.76,1445.72 \n",
       "  \"/>\n",
       "<polyline clip-path=\"url(#clip542)\" style=\"stroke:#000000; stroke-linecap:butt; stroke-linejoin:round; stroke-width:2; stroke-opacity:0.1; fill:none\" points=\"\n",
       "  112.177,1174.17 2352.76,1174.17 \n",
       "  \"/>\n",
       "<polyline clip-path=\"url(#clip542)\" style=\"stroke:#000000; stroke-linecap:butt; stroke-linejoin:round; stroke-width:2; stroke-opacity:0.1; fill:none\" points=\"\n",
       "  112.177,902.62 2352.76,902.62 \n",
       "  \"/>\n",
       "<polyline clip-path=\"url(#clip542)\" style=\"stroke:#000000; stroke-linecap:butt; stroke-linejoin:round; stroke-width:2; stroke-opacity:0.1; fill:none\" points=\"\n",
       "  112.177,631.072 2352.76,631.072 \n",
       "  \"/>\n",
       "<polyline clip-path=\"url(#clip542)\" style=\"stroke:#000000; stroke-linecap:butt; stroke-linejoin:round; stroke-width:2; stroke-opacity:0.1; fill:none\" points=\"\n",
       "  112.177,359.524 2352.76,359.524 \n",
       "  \"/>\n",
       "<polyline clip-path=\"url(#clip542)\" style=\"stroke:#000000; stroke-linecap:butt; stroke-linejoin:round; stroke-width:2; stroke-opacity:0.1; fill:none\" points=\"\n",
       "  112.177,87.9763 2352.76,87.9763 \n",
       "  \"/>\n",
       "<polyline clip-path=\"url(#clip540)\" style=\"stroke:#000000; stroke-linecap:butt; stroke-linejoin:round; stroke-width:4; stroke-opacity:1; fill:none\" points=\"\n",
       "  112.177,1486.45 112.177,47.2441 \n",
       "  \"/>\n",
       "<polyline clip-path=\"url(#clip540)\" style=\"stroke:#000000; stroke-linecap:butt; stroke-linejoin:round; stroke-width:4; stroke-opacity:1; fill:none\" points=\"\n",
       "  112.177,1445.72 131.075,1445.72 \n",
       "  \"/>\n",
       "<polyline clip-path=\"url(#clip540)\" style=\"stroke:#000000; stroke-linecap:butt; stroke-linejoin:round; stroke-width:4; stroke-opacity:1; fill:none\" points=\"\n",
       "  112.177,1174.17 131.075,1174.17 \n",
       "  \"/>\n",
       "<polyline clip-path=\"url(#clip540)\" style=\"stroke:#000000; stroke-linecap:butt; stroke-linejoin:round; stroke-width:4; stroke-opacity:1; fill:none\" points=\"\n",
       "  112.177,902.62 131.075,902.62 \n",
       "  \"/>\n",
       "<polyline clip-path=\"url(#clip540)\" style=\"stroke:#000000; stroke-linecap:butt; stroke-linejoin:round; stroke-width:4; stroke-opacity:1; fill:none\" points=\"\n",
       "  112.177,631.072 131.075,631.072 \n",
       "  \"/>\n",
       "<polyline clip-path=\"url(#clip540)\" style=\"stroke:#000000; stroke-linecap:butt; stroke-linejoin:round; stroke-width:4; stroke-opacity:1; fill:none\" points=\"\n",
       "  112.177,359.524 131.075,359.524 \n",
       "  \"/>\n",
       "<polyline clip-path=\"url(#clip540)\" style=\"stroke:#000000; stroke-linecap:butt; stroke-linejoin:round; stroke-width:4; stroke-opacity:1; fill:none\" points=\"\n",
       "  112.177,87.9763 131.075,87.9763 \n",
       "  \"/>\n",
       "<path clip-path=\"url(#clip540)\" d=\"M64.2328 1431.51 Q60.6217 1431.51 58.793 1435.08 Q56.9875 1438.62 56.9875 1445.75 Q56.9875 1452.86 58.793 1456.42 Q60.6217 1459.96 64.2328 1459.96 Q67.867 1459.96 69.6726 1456.42 Q71.5013 1452.86 71.5013 1445.75 Q71.5013 1438.62 69.6726 1435.08 Q67.867 1431.51 64.2328 1431.51 M64.2328 1427.81 Q70.0429 1427.81 73.0985 1432.42 Q76.1772 1437 76.1772 1445.75 Q76.1772 1454.48 73.0985 1459.08 Q70.0429 1463.67 64.2328 1463.67 Q58.4226 1463.67 55.344 1459.08 Q52.2884 1454.48 52.2884 1445.75 Q52.2884 1437 55.344 1432.42 Q58.4226 1427.81 64.2328 1427.81 Z\" fill=\"#000000\" fill-rule=\"evenodd\" fill-opacity=\"1\" /><path clip-path=\"url(#clip540)\" d=\"M56.2699 1187.51 L63.9087 1187.51 L63.9087 1161.15 L55.5986 1162.81 L55.5986 1158.55 L63.8624 1156.89 L68.5383 1156.89 L68.5383 1187.51 L76.1772 1187.51 L76.1772 1191.45 L56.2699 1191.45 L56.2699 1187.51 Z\" fill=\"#000000\" fill-rule=\"evenodd\" fill-opacity=\"1\" /><path clip-path=\"url(#clip540)\" d=\"M59.8578 915.965 L76.1772 915.965 L76.1772 919.9 L54.2328 919.9 L54.2328 915.965 Q56.8949 913.21 61.4782 908.581 Q66.0846 903.928 67.2652 902.585 Q69.5105 900.062 70.3902 898.326 Q71.2929 896.567 71.2929 894.877 Q71.2929 892.122 69.3485 890.386 Q67.4272 888.65 64.3254 888.65 Q62.1263 888.65 59.6726 889.414 Q57.2421 890.178 54.4643 891.729 L54.4643 887.007 Q57.2884 885.872 59.7421 885.294 Q62.1958 884.715 64.2328 884.715 Q69.6031 884.715 72.7976 887.4 Q75.992 890.085 75.992 894.576 Q75.992 896.706 75.1818 898.627 Q74.3948 900.525 72.2883 903.118 Q71.7096 903.789 68.6078 907.006 Q65.5059 910.201 59.8578 915.965 Z\" fill=\"#000000\" fill-rule=\"evenodd\" fill-opacity=\"1\" /><path clip-path=\"url(#clip540)\" d=\"M69.0476 629.718 Q72.404 630.435 74.279 632.704 Q76.1772 634.972 76.1772 638.306 Q76.1772 643.422 72.6587 646.222 Q69.1402 649.023 62.6587 649.023 Q60.4828 649.023 58.168 648.584 Q55.8764 648.167 53.4227 647.31 L53.4227 642.797 Q55.3671 643.931 57.6819 644.509 Q59.9967 645.088 62.5198 645.088 Q66.918 645.088 69.2096 643.352 Q71.5244 641.616 71.5244 638.306 Q71.5244 635.25 69.3717 633.537 Q67.242 631.801 63.4226 631.801 L59.3949 631.801 L59.3949 627.959 L63.6078 627.959 Q67.0569 627.959 68.8855 626.593 Q70.7142 625.204 70.7142 622.611 Q70.7142 619.949 68.8161 618.537 Q66.9411 617.102 63.4226 617.102 Q61.5013 617.102 59.3023 617.519 Q57.1032 617.936 54.4643 618.815 L54.4643 614.649 Q57.1264 613.908 59.4412 613.537 Q61.7791 613.167 63.8393 613.167 Q69.1633 613.167 72.2652 615.598 Q75.367 618.005 75.367 622.125 Q75.367 624.996 73.7235 626.986 Q72.08 628.954 69.0476 629.718 Z\" fill=\"#000000\" fill-rule=\"evenodd\" fill-opacity=\"1\" /><path clip-path=\"url(#clip540)\" d=\"M66.5939 346.318 L54.7884 364.767 L66.5939 364.767 L66.5939 346.318 M65.367 342.244 L71.2466 342.244 L71.2466 364.767 L76.1772 364.767 L76.1772 368.656 L71.2466 368.656 L71.2466 376.804 L66.5939 376.804 L66.5939 368.656 L50.9921 368.656 L50.9921 364.142 L65.367 342.244 Z\" fill=\"#000000\" fill-rule=\"evenodd\" fill-opacity=\"1\" /><path clip-path=\"url(#clip540)\" d=\"M55.2745 70.6963 L73.6309 70.6963 L73.6309 74.6314 L59.5569 74.6314 L59.5569 83.1036 Q60.5754 82.7564 61.5939 82.5944 Q62.6124 82.4092 63.6309 82.4092 Q69.418 82.4092 72.7976 85.5805 Q76.1772 88.7517 76.1772 94.1684 Q76.1772 99.747 72.705 102.849 Q69.2328 105.928 62.9134 105.928 Q60.7374 105.928 58.4689 105.557 Q56.2236 105.187 53.8162 104.446 L53.8162 99.747 Q55.8995 100.881 58.1217 101.437 Q60.3439 101.992 62.8208 101.992 Q66.8254 101.992 69.1633 99.8859 Q71.5013 97.7795 71.5013 94.1684 Q71.5013 90.5573 69.1633 88.4508 Q66.8254 86.3443 62.8208 86.3443 Q60.9458 86.3443 59.0708 86.761 Q57.2189 87.1777 55.2745 88.0573 L55.2745 70.6963 Z\" fill=\"#000000\" fill-rule=\"evenodd\" fill-opacity=\"1\" /><polyline clip-path=\"url(#clip542)\" style=\"stroke:#009af9; stroke-linecap:butt; stroke-linejoin:round; stroke-width:4; stroke-opacity:1; fill:none\" points=\"\n",
       "  175.59,1445.72 598.34,1445.72 \n",
       "  \"/>\n",
       "<polyline clip-path=\"url(#clip542)\" style=\"stroke:#009af9; stroke-linecap:butt; stroke-linejoin:round; stroke-width:4; stroke-opacity:1; fill:none\" points=\"\n",
       "  562.34,1427.72 598.34,1445.72 562.34,1463.72 \n",
       "  \"/>\n",
       "<polyline clip-path=\"url(#clip542)\" style=\"stroke:#009af9; stroke-linecap:butt; stroke-linejoin:round; stroke-width:4; stroke-opacity:1; fill:none\" points=\"\n",
       "  598.34,1445.72 175.59,1445.72 \n",
       "  \"/>\n",
       "<polyline clip-path=\"url(#clip542)\" style=\"stroke:#e26f46; stroke-linecap:butt; stroke-linejoin:round; stroke-width:4; stroke-opacity:1; fill:none\" points=\"\n",
       "  175.59,1445.72 175.59,1174.17 \n",
       "  \"/>\n",
       "<polyline clip-path=\"url(#clip542)\" style=\"stroke:#e26f46; stroke-linecap:butt; stroke-linejoin:round; stroke-width:4; stroke-opacity:1; fill:none\" points=\"\n",
       "  157.59,1210.17 175.59,1174.17 193.59,1210.17 \n",
       "  \"/>\n",
       "<polyline clip-path=\"url(#clip542)\" style=\"stroke:#e26f46; stroke-linecap:butt; stroke-linejoin:round; stroke-width:4; stroke-opacity:1; fill:none\" points=\"\n",
       "  175.59,1174.17 175.59,1445.72 \n",
       "  \"/>\n",
       "<polyline clip-path=\"url(#clip542)\" style=\"stroke:#3da44d; stroke-linecap:butt; stroke-linejoin:round; stroke-width:4; stroke-opacity:1; fill:none\" points=\"\n",
       "  175.59,1445.72 1021.09,1174.17 \n",
       "  \"/>\n",
       "<polyline clip-path=\"url(#clip542)\" style=\"stroke:#3da44d; stroke-linecap:butt; stroke-linejoin:round; stroke-width:4; stroke-opacity:1; fill:none\" points=\"\n",
       "  981.311,1168.04 1021.09,1174.17 992.32,1202.31 \n",
       "  \"/>\n",
       "<polyline clip-path=\"url(#clip542)\" style=\"stroke:#3da44d; stroke-linecap:butt; stroke-linejoin:round; stroke-width:4; stroke-opacity:1; fill:none\" points=\"\n",
       "  1021.09,1174.17 175.59,1445.72 \n",
       "  \"/>\n",
       "<path clip-path=\"url(#clip540)\" d=\"\n",
       "M1976.11 302.578 L2278.07 302.578 L2278.07 95.2176 L1976.11 95.2176  Z\n",
       "  \" fill=\"#ffffff\" fill-rule=\"evenodd\" fill-opacity=\"1\"/>\n",
       "<polyline clip-path=\"url(#clip540)\" style=\"stroke:#000000; stroke-linecap:butt; stroke-linejoin:round; stroke-width:4; stroke-opacity:1; fill:none\" points=\"\n",
       "  1976.11,302.578 2278.07,302.578 2278.07,95.2176 1976.11,95.2176 1976.11,302.578 \n",
       "  \"/>\n",
       "<polyline clip-path=\"url(#clip540)\" style=\"stroke:#009af9; stroke-linecap:butt; stroke-linejoin:round; stroke-width:4; stroke-opacity:1; fill:none\" points=\"\n",
       "  2001,147.058 2150.38,147.058 \n",
       "  \"/>\n",
       "<path clip-path=\"url(#clip540)\" d=\"M2189.11 166.745 Q2187.31 171.375 2185.59 172.787 Q2183.88 174.199 2181.01 174.199 L2177.61 174.199 L2177.61 170.634 L2180.11 170.634 Q2181.87 170.634 2182.84 169.8 Q2183.81 168.967 2184.99 165.865 L2185.76 163.921 L2175.27 138.412 L2179.78 138.412 L2187.89 158.689 L2195.99 138.412 L2200.5 138.412 L2189.11 166.745 Z\" fill=\"#000000\" fill-rule=\"evenodd\" fill-opacity=\"1\" /><path clip-path=\"url(#clip540)\" d=\"M2207.79 160.402 L2215.43 160.402 L2215.43 134.037 L2207.12 135.703 L2207.12 131.444 L2215.39 129.778 L2220.06 129.778 L2220.06 160.402 L2227.7 160.402 L2227.7 164.338 L2207.79 164.338 L2207.79 160.402 Z\" fill=\"#000000\" fill-rule=\"evenodd\" fill-opacity=\"1\" /><polyline clip-path=\"url(#clip540)\" style=\"stroke:#e26f46; stroke-linecap:butt; stroke-linejoin:round; stroke-width:4; stroke-opacity:1; fill:none\" points=\"\n",
       "  2001,198.898 2150.38,198.898 \n",
       "  \"/>\n",
       "<path clip-path=\"url(#clip540)\" d=\"M2189.11 218.585 Q2187.31 223.215 2185.59 224.627 Q2183.88 226.039 2181.01 226.039 L2177.61 226.039 L2177.61 222.474 L2180.11 222.474 Q2181.87 222.474 2182.84 221.64 Q2183.81 220.807 2184.99 217.705 L2185.76 215.761 L2175.27 190.252 L2179.78 190.252 L2187.89 210.529 L2195.99 190.252 L2200.5 190.252 L2189.11 218.585 Z\" fill=\"#000000\" fill-rule=\"evenodd\" fill-opacity=\"1\" /><path clip-path=\"url(#clip540)\" d=\"M2211.01 212.242 L2227.33 212.242 L2227.33 216.178 L2205.39 216.178 L2205.39 212.242 Q2208.05 209.488 2212.63 204.858 Q2217.24 200.205 2218.42 198.863 Q2220.66 196.34 2221.54 194.604 Q2222.45 192.844 2222.45 191.155 Q2222.45 188.4 2220.5 186.664 Q2218.58 184.928 2215.48 184.928 Q2213.28 184.928 2210.83 185.692 Q2208.4 186.455 2205.62 188.006 L2205.62 183.284 Q2208.44 182.15 2210.9 181.571 Q2213.35 180.993 2215.39 180.993 Q2220.76 180.993 2223.95 183.678 Q2227.15 186.363 2227.15 190.854 Q2227.15 192.983 2226.33 194.905 Q2225.55 196.803 2223.44 199.395 Q2222.86 200.067 2219.76 203.284 Q2216.66 206.479 2211.01 212.242 Z\" fill=\"#000000\" fill-rule=\"evenodd\" fill-opacity=\"1\" /><polyline clip-path=\"url(#clip540)\" style=\"stroke:#3da44d; stroke-linecap:butt; stroke-linejoin:round; stroke-width:4; stroke-opacity:1; fill:none\" points=\"\n",
       "  2001,250.738 2150.38,250.738 \n",
       "  \"/>\n",
       "<path clip-path=\"url(#clip540)\" d=\"M2189.11 270.425 Q2187.31 275.055 2185.59 276.467 Q2183.88 277.879 2181.01 277.879 L2177.61 277.879 L2177.61 274.314 L2180.11 274.314 Q2181.87 274.314 2182.84 273.48 Q2183.81 272.647 2184.99 269.545 L2185.76 267.601 L2175.27 242.092 L2179.78 242.092 L2187.89 262.369 L2195.99 242.092 L2200.5 242.092 L2189.11 270.425 Z\" fill=\"#000000\" fill-rule=\"evenodd\" fill-opacity=\"1\" /><path clip-path=\"url(#clip540)\" d=\"M2221.15 249.383 Q2224.51 250.101 2226.38 252.369 Q2228.28 254.638 2228.28 257.971 Q2228.28 263.087 2224.76 265.888 Q2221.24 268.689 2214.76 268.689 Q2212.58 268.689 2210.27 268.249 Q2207.98 267.832 2205.52 266.976 L2205.52 262.462 Q2207.47 263.596 2209.78 264.175 Q2212.1 264.754 2214.62 264.754 Q2219.02 264.754 2221.31 263.018 Q2223.63 261.281 2223.63 257.971 Q2223.63 254.916 2221.47 253.203 Q2219.34 251.467 2215.52 251.467 L2211.5 251.467 L2211.5 247.624 L2215.71 247.624 Q2219.16 247.624 2220.99 246.258 Q2222.82 244.87 2222.82 242.277 Q2222.82 239.615 2220.92 238.203 Q2219.04 236.768 2215.52 236.768 Q2213.6 236.768 2211.4 237.184 Q2209.21 237.601 2206.57 238.481 L2206.57 234.314 Q2209.23 233.573 2211.54 233.203 Q2213.88 232.833 2215.94 232.833 Q2221.27 232.833 2224.37 235.263 Q2227.47 237.67 2227.47 241.791 Q2227.47 244.661 2225.83 246.652 Q2224.18 248.62 2221.15 249.383 Z\" fill=\"#000000\" fill-rule=\"evenodd\" fill-opacity=\"1\" /></svg>\n"
      ]
     },
     "metadata": {},
     "output_type": "display_data"
    }
   ],
   "source": [
    "RX=[1,0]\n",
    "RY=[0,1]\n",
    "plot()\n",
    "drawVector(RX,[0,0])\n",
    "drawVector(RY,[0,0])\n",
    "\n",
    "P=[2,1]\n",
    "drawVector(P,[0,0])\n"
   ]
  },
  {
   "cell_type": "markdown",
   "metadata": {},
   "source": [
    "# Vector can be written as linear combination of scalar coefficients and basis"
   ]
  },
  {
   "cell_type": "code",
   "execution_count": 68,
   "metadata": {},
   "outputs": [
    {
     "data": {
      "text/plain": [
       "2-element Vector{Int64}:\n",
       " 2\n",
       " 1"
      ]
     },
     "metadata": {},
     "output_type": "display_data"
    }
   ],
   "source": [
    "2*RX+1*RY"
   ]
  },
  {
   "cell_type": "markdown",
   "metadata": {},
   "source": [
    "# BASIS T"
   ]
  },
  {
   "cell_type": "code",
   "execution_count": 72,
   "metadata": {},
   "outputs": [
    {
     "data": {
      "image/png": "[encoded data removed]",
      "image/svg+xml": "<?xml version=\"1.0\" encoding=\"utf-8\"?>\n<svg xmlns=\"http://www.w3.org/2000/svg\" xmlns:xlink=\"http://www.w3.org/1999/xlink\" width=\"600\" height=\"400\" viewBox=\"0 0 2400 1600\">\n<defs>\n  <clipPath id=\"clip760\">\n    <rect x=\"0\" y=\"0\" width=\"2400\" height=\"1600\"/>\n  </clipPath>\n</defs>\n<path clip-path=\"url(#clip760)\" d=\"\nM0 1600 L2400 1600 L2400 0 L0 0  Z\n  \" fill=\"#ffffff\" fill-rule=\"evenodd\" fill-opacity=\"1\"/>\n<defs>\n  <clipPath id=\"clip761\">\n    <rect x=\"480\" y=\"0\" width=\"1681\" height=\"1600\"/>\n  </clipPath>\n</defs>\n<path clip-path=\"url(#clip760)\" d=\"\nM112.177 1486.45 L2352.76 1486.45 L2352.76 47.2441 L112.177 47.2441  Z\n  \" fill=\"#ffffff\" fill-rule=\"evenodd\" fill-opacity=\"1\"/>\n<defs>\n  <clipPath id=\"clip762\">\n    <rect x=\"112\" y=\"47\" width=\"2242\" height=\"1440\"/>\n  </clipPath>\n</defs>\n<polyline clip-path=\"url(#clip762)\" style=\"stroke:#000000; stroke-linecap:butt; stroke-linejoin:round; stroke-width:2; stroke-opacity:0.1; fill:none\" points=\"\n  175.59,1486.45 175.59,47.2441 \n  \"/>\n<polyline clip-path=\"url(#clip762)\" style=\"stroke:#000000; stroke-linecap:butt; stroke-linejoin:round; stroke-width:2; stroke-opacity:0.1; fill:none\" points=\"\n  598.34,1486.45 598.34,47.2441 \n  \"/>\n<polyline clip-path=\"url(#clip762)\" style=\"stroke:#000000; stroke-linecap:butt; stroke-linejoin:round; stroke-width:2; stroke-opacity:0.1; fill:none\" points=\"\n  1021.09,1486.45 1021.09,47.2441 \n  \"/>\n<polyline clip-path=\"url(#clip762)\" style=\"stroke:#000000; stroke-linecap:butt; stroke-linejoin:round; stroke-width:2; stroke-opacity:0.1; fill:none\" points=\"\n  1443.84,1486.45 1443.84,47.2441 \n  \"/>\n<polyline clip-path=\"url(#clip762)\" style=\"stroke:#000000; stroke-linecap:butt; stroke-linejoin:round; stroke-width:2; stroke-opacity:0.1; fill:none\" points=\"\n  1866.59,1486.45 1866.59,47.2441 \n  \"/>\n<polyline clip-path=\"url(#clip762)\" style=\"stroke:#000000; stroke-linecap:butt; stroke-linejoin:round; stroke-width:2; stroke-opacity:0.1; fill:none\" points=\"\n  2289.34,1486.45 2289.34,47.2441 \n  \"/>\n<polyline clip-path=\"url(#clip760)\" style=\"stroke:#000000; stroke-linecap:butt; stroke-linejoin:round; stroke-width:4; stroke-opacity:1; fill:none\" points=\"\n  112.177,1486.45 2352.76,1486.45 \n  \"/>\n<polyline clip-path=\"url(#clip760)\" style=\"stroke:#000000; stroke-linecap:butt; stroke-linejoin:round; stroke-width:4; stroke-opacity:1; fill:none\" points=\"\n  175.59,1486.45 175.59,1467.55 \n  \"/>\n<polyline clip-path=\"url(#clip760)\" style=\"stroke:#000000; stroke-linecap:butt; stroke-linejoin:round; stroke-width:4; stroke-opacity:1; fill:none\" points=\"\n  598.34,1486.45 598.34,1467.55 \n  \"/>\n<polyline clip-path=\"url(#clip760)\" style=\"stroke:#000000; stroke-linecap:butt; stroke-linejoin:round; stroke-width:4; stroke-opacity:1; fill:none\" points=\"\n  1021.09,1486.45 1021.09,1467.55 \n  \"/>\n<polyline clip-path=\"url(#clip760)\" style=\"stroke:#000000; stroke-linecap:butt; stroke-linejoin:round; stroke-width:4; stroke-opacity:1; fill:none\" points=\"\n  1443.84,1486.45 1443.84,1467.55 \n  \"/>\n<polyline clip-path=\"url(#clip760)\" style=\"stroke:#000000; stroke-linecap:butt; stroke-linejoin:round; stroke-width:4; stroke-opacity:1; fill:none\" points=\"\n  1866.59,1486.45 1866.59,1467.55 \n  \"/>\n<polyline clip-path=\"url(#clip760)\" style=\"stroke:#000000; stroke-linecap:butt; stroke-linejoin:round; stroke-width:4; stroke-opacity:1; fill:none\" points=\"\n  2289.34,1486.45 2289.34,1467.55 \n  \"/>\n<path clip-path=\"url(#clip760)\" d=\"M175.59 1517.37 Q171.979 1517.37 170.15 1520.93 Q168.344 1524.47 168.344 1531.6 Q168.344 1538.71 170.15 1542.27 Q171.979 1545.82 175.59 1545.82 Q179.224 1545.82 181.03 1542.27 Q182.858 1538.71 182.858 1531.6 Q182.858 1524.47 181.03 1520.93 Q179.224 1517.37 175.59 1517.37 M175.59 1513.66 Q181.4 1513.66 184.455 1518.27 Q187.534 1522.85 187.534 1531.6 Q187.534 1540.33 184.455 1544.94 Q181.4 1549.52 175.59 1549.52 Q169.78 1549.52 166.701 1544.94 Q163.645 1540.33 163.645 1531.6 Q163.645 1522.85 166.701 1518.27 Q169.78 1513.66 175.59 1513.66 Z\" fill=\"#000000\" fill-rule=\"evenodd\" fill-opacity=\"1\" /><path clip-path=\"url(#clip760)\" d=\"M588.722 1544.91 L596.361 1544.91 L596.361 1518.55 L588.051 1520.21 L588.051 1515.95 L596.315 1514.29 L600.991 1514.29 L600.991 1544.91 L608.63 1544.91 L608.63 1548.85 L588.722 1548.85 L588.722 1544.91 Z\" fill=\"#000000\" fill-rule=\"evenodd\" fill-opacity=\"1\" /><path clip-path=\"url(#clip760)\" d=\"M1015.74 1544.91 L1032.06 1544.91 L1032.06 1548.85 L1010.12 1548.85 L1010.12 1544.91 Q1012.78 1542.16 1017.36 1537.53 Q1021.97 1532.88 1023.15 1531.53 Q1025.4 1529.01 1026.28 1527.27 Q1027.18 1525.51 1027.18 1523.82 Q1027.18 1521.07 1025.23 1519.33 Q1023.31 1517.6 1020.21 1517.6 Q1018.01 1517.6 1015.56 1518.36 Q1013.13 1519.13 1010.35 1520.68 L1010.35 1515.95 Q1013.17 1514.82 1015.63 1514.24 Q1018.08 1513.66 1020.12 1513.66 Q1025.49 1513.66 1028.68 1516.35 Q1031.88 1519.03 1031.88 1523.52 Q1031.88 1525.65 1031.07 1527.57 Q1030.28 1529.47 1028.17 1532.07 Q1027.6 1532.74 1024.49 1535.95 Q1021.39 1539.15 1015.74 1544.91 Z\" fill=\"#000000\" fill-rule=\"evenodd\" fill-opacity=\"1\" /><path clip-path=\"url(#clip760)\" d=\"M1448.09 1530.21 Q1451.45 1530.93 1453.32 1533.2 Q1455.22 1535.47 1455.22 1538.8 Q1455.22 1543.92 1451.7 1546.72 Q1448.18 1549.52 1441.7 1549.52 Q1439.52 1549.52 1437.21 1549.08 Q1434.92 1548.66 1432.46 1547.81 L1432.46 1543.29 Q1434.41 1544.43 1436.72 1545.01 Q1439.04 1545.58 1441.56 1545.58 Q1445.96 1545.58 1448.25 1543.85 Q1450.57 1542.11 1450.57 1538.8 Q1450.57 1535.75 1448.41 1534.03 Q1446.28 1532.3 1442.46 1532.3 L1438.44 1532.3 L1438.44 1528.45 L1442.65 1528.45 Q1446.1 1528.45 1447.93 1527.09 Q1449.76 1525.7 1449.76 1523.11 Q1449.76 1520.45 1447.86 1519.03 Q1445.98 1517.6 1442.46 1517.6 Q1440.54 1517.6 1438.34 1518.01 Q1436.15 1518.43 1433.51 1519.31 L1433.51 1515.14 Q1436.17 1514.4 1438.48 1514.03 Q1440.82 1513.66 1442.88 1513.66 Q1448.21 1513.66 1451.31 1516.09 Q1454.41 1518.5 1454.41 1522.62 Q1454.41 1525.49 1452.77 1527.48 Q1451.12 1529.45 1448.09 1530.21 Z\" fill=\"#000000\" fill-rule=\"evenodd\" fill-opacity=\"1\" /><path clip-path=\"url(#clip760)\" d=\"M1869.6 1518.36 L1857.8 1536.81 L1869.6 1536.81 L1869.6 1518.36 M1868.37 1514.29 L1874.25 1514.29 L1874.25 1536.81 L1879.19 1536.81 L1879.19 1540.7 L1874.25 1540.7 L1874.25 1548.85 L1869.6 1548.85 L1869.6 1540.7 L1854 1540.7 L1854 1536.19 L1868.37 1514.29 Z\" fill=\"#000000\" fill-rule=\"evenodd\" fill-opacity=\"1\" /><path clip-path=\"url(#clip760)\" d=\"M2279.62 1514.29 L2297.98 1514.29 L2297.98 1518.22 L2283.9 1518.22 L2283.9 1526.7 Q2284.92 1526.35 2285.94 1526.19 Q2286.96 1526 2287.98 1526 Q2293.76 1526 2297.14 1529.17 Q2300.52 1532.34 2300.52 1537.76 Q2300.52 1543.34 2297.05 1546.44 Q2293.58 1549.52 2287.26 1549.52 Q2285.08 1549.52 2282.82 1549.15 Q2280.57 1548.78 2278.16 1548.04 L2278.16 1543.34 Q2280.25 1544.47 2282.47 1545.03 Q2284.69 1545.58 2287.17 1545.58 Q2291.17 1545.58 2293.51 1543.48 Q2295.85 1541.37 2295.85 1537.76 Q2295.85 1534.15 2293.51 1532.04 Q2291.17 1529.94 2287.17 1529.94 Q2285.29 1529.94 2283.42 1530.35 Q2281.57 1530.77 2279.62 1531.65 L2279.62 1514.29 Z\" fill=\"#000000\" fill-rule=\"evenodd\" fill-opacity=\"1\" /><polyline clip-path=\"url(#clip762)\" style=\"stroke:#000000; stroke-linecap:butt; stroke-linejoin:round; stroke-width:2; stroke-opacity:0.1; fill:none\" points=\"\n  112.177,1445.72 2352.76,1445.72 \n  \"/>\n<polyline clip-path=\"url(#clip762)\" style=\"stroke:#000000; stroke-linecap:butt; stroke-linejoin:round; stroke-width:2; stroke-opacity:0.1; fill:none\" points=\"\n  112.177,1174.17 2352.76,1174.17 \n  \"/>\n<polyline clip-path=\"url(#clip762)\" style=\"stroke:#000000; stroke-linecap:butt; stroke-linejoin:round; stroke-width:2; stroke-opacity:0.1; fill:none\" points=\"\n  112.177,902.62 2352.76,902.62 \n  \"/>\n<polyline clip-path=\"url(#clip762)\" style=\"stroke:#000000; stroke-linecap:butt; stroke-linejoin:round; stroke-width:2; stroke-opacity:0.1; fill:none\" points=\"\n  112.177,631.072 2352.76,631.072 \n  \"/>\n<polyline clip-path=\"url(#clip762)\" style=\"stroke:#000000; stroke-linecap:butt; stroke-linejoin:round; stroke-width:2; stroke-opacity:0.1; fill:none\" points=\"\n  112.177,359.524 2352.76,359.524 \n  \"/>\n<polyline clip-path=\"url(#clip762)\" style=\"stroke:#000000; stroke-linecap:butt; stroke-linejoin:round; stroke-width:2; stroke-opacity:0.1; fill:none\" points=\"\n  112.177,87.9763 2352.76,87.9763 \n  \"/>\n<polyline clip-path=\"url(#clip760)\" style=\"stroke:#000000; stroke-linecap:butt; stroke-linejoin:round; stroke-width:4; stroke-opacity:1; fill:none\" points=\"\n  112.177,1486.45 112.177,47.2441 \n  \"/>\n<polyline clip-path=\"url(#clip760)\" style=\"stroke:#000000; stroke-linecap:butt; stroke-linejoin:round; stroke-width:4; stroke-opacity:1; fill:none\" points=\"\n  112.177,1445.72 131.075,1445.72 \n  \"/>\n<polyline clip-path=\"url(#clip760)\" style=\"stroke:#000000; stroke-linecap:butt; stroke-linejoin:round; stroke-width:4; stroke-opacity:1; fill:none\" points=\"\n  112.177,1174.17 131.075,1174.17 \n  \"/>\n<polyline clip-path=\"url(#clip760)\" style=\"stroke:#000000; stroke-linecap:butt; stroke-linejoin:round; stroke-width:4; stroke-opacity:1; fill:none\" points=\"\n  112.177,902.62 131.075,902.62 \n  \"/>\n<polyline clip-path=\"url(#clip760)\" style=\"stroke:#000000; stroke-linecap:butt; stroke-linejoin:round; stroke-width:4; stroke-opacity:1; fill:none\" points=\"\n  112.177,631.072 131.075,631.072 \n  \"/>\n<polyline clip-path=\"url(#clip760)\" style=\"stroke:#000000; stroke-linecap:butt; stroke-linejoin:round; stroke-width:4; stroke-opacity:1; fill:none\" points=\"\n  112.177,359.524 131.075,359.524 \n  \"/>\n<polyline clip-path=\"url(#clip760)\" style=\"stroke:#000000; stroke-linecap:butt; stroke-linejoin:round; stroke-width:4; stroke-opacity:1; fill:none\" points=\"\n  112.177,87.9763 131.075,87.9763 \n  \"/>\n<path clip-path=\"url(#clip760)\" d=\"M64.2328 1431.51 Q60.6217 1431.51 58.793 1435.08 Q56.9875 1438.62 56.9875 1445.75 Q56.9875 1452.86 58.793 1456.42 Q60.6217 1459.96 64.2328 1459.96 Q67.867 1459.96 69.6726 1456.42 Q71.5013 1452.86 71.5013 1445.75 Q71.5013 1438.62 69.6726 1435.08 Q67.867 1431.51 64.2328 1431.51 M64.2328 1427.81 Q70.0429 1427.81 73.0985 1432.42 Q76.1772 1437 76.1772 1445.75 Q76.1772 1454.48 73.0985 1459.08 Q70.0429 1463.67 64.2328 1463.67 Q58.4226 1463.67 55.344 1459.08 Q52.2884 1454.48 52.2884 1445.75 Q52.2884 1437 55.344 1432.42 Q58.4226 1427.81 64.2328 1427.81 Z\" fill=\"#000000\" fill-rule=\"evenodd\" fill-opacity=\"1\" /><path clip-path=\"url(#clip760)\" d=\"M56.2699 1187.51 L63.9087 1187.51 L63.9087 1161.15 L55.5986 1162.81 L55.5986 1158.55 L63.8624 1156.89 L68.5383 1156.89 L68.5383 1187.51 L76.1772 1187.51 L76.1772 1191.45 L56.2699 1191.45 L56.2699 1187.51 Z\" fill=\"#000000\" fill-rule=\"evenodd\" fill-opacity=\"1\" /><path clip-path=\"url(#clip760)\" d=\"M59.8578 915.965 L76.1772 915.965 L76.1772 919.9 L54.2328 919.9 L54.2328 915.965 Q56.8949 913.21 61.4782 908.581 Q66.0846 903.928 67.2652 902.585 Q69.5105 900.062 70.3902 898.326 Q71.2929 896.567 71.2929 894.877 Q71.2929 892.122 69.3485 890.386 Q67.4272 888.65 64.3254 888.65 Q62.1263 888.65 59.6726 889.414 Q57.2421 890.178 54.4643 891.729 L54.4643 887.007 Q57.2884 885.872 59.7421 885.294 Q62.1958 884.715 64.2328 884.715 Q69.6031 884.715 72.7976 887.4 Q75.992 890.085 75.992 894.576 Q75.992 896.706 75.1818 898.627 Q74.3948 900.525 72.2883 903.118 Q71.7096 903.789 68.6078 907.006 Q65.5059 910.201 59.8578 915.965 Z\" fill=\"#000000\" fill-rule=\"evenodd\" fill-opacity=\"1\" /><path clip-path=\"url(#clip760)\" d=\"M69.0476 629.718 Q72.404 630.435 74.279 632.704 Q76.1772 634.972 76.1772 638.306 Q76.1772 643.422 72.6587 646.222 Q69.1402 649.023 62.6587 649.023 Q60.4828 649.023 58.168 648.584 Q55.8764 648.167 53.4227 647.31 L53.4227 642.797 Q55.3671 643.931 57.6819 644.509 Q59.9967 645.088 62.5198 645.088 Q66.918 645.088 69.2096 643.352 Q71.5244 641.616 71.5244 638.306 Q71.5244 635.25 69.3717 633.537 Q67.242 631.801 63.4226 631.801 L59.3949 631.801 L59.3949 627.959 L63.6078 627.959 Q67.0569 627.959 68.8855 626.593 Q70.7142 625.204 70.7142 622.611 Q70.7142 619.949 68.8161 618.537 Q66.9411 617.102 63.4226 617.102 Q61.5013 617.102 59.3023 617.519 Q57.1032 617.936 54.4643 618.815 L54.4643 614.649 Q57.1264 613.908 59.4412 613.537 Q61.7791 613.167 63.8393 613.167 Q69.1633 613.167 72.2652 615.598 Q75.367 618.005 75.367 622.125 Q75.367 624.996 73.7235 626.986 Q72.08 628.954 69.0476 629.718 Z\" fill=\"#000000\" fill-rule=\"evenodd\" fill-opacity=\"1\" /><path clip-path=\"url(#clip760)\" d=\"M66.5939 346.318 L54.7884 364.767 L66.5939 364.767 L66.5939 346.318 M65.367 342.244 L71.2466 342.244 L71.2466 364.767 L76.1772 364.767 L76.1772 368.656 L71.2466 368.656 L71.2466 376.804 L66.5939 376.804 L66.5939 368.656 L50.9921 368.656 L50.9921 364.142 L65.367 342.244 Z\" fill=\"#000000\" fill-rule=\"evenodd\" fill-opacity=\"1\" /><path clip-path=\"url(#clip760)\" d=\"M55.2745 70.6963 L73.6309 70.6963 L73.6309 74.6314 L59.5569 74.6314 L59.5569 83.1036 Q60.5754 82.7564 61.5939 82.5944 Q62.6124 82.4092 63.6309 82.4092 Q69.418 82.4092 72.7976 85.5805 Q76.1772 88.7517 76.1772 94.1684 Q76.1772 99.747 72.705 102.849 Q69.2328 105.928 62.9134 105.928 Q60.7374 105.928 58.4689 105.557 Q56.2236 105.187 53.8162 104.446 L53.8162 99.747 Q55.8995 100.881 58.1217 101.437 Q60.3439 101.992 62.8208 101.992 Q66.8254 101.992 69.1633 99.8859 Q71.5013 97.7795 71.5013 94.1684 Q71.5013 90.5573 69.1633 88.4508 Q66.8254 86.3443 62.8208 86.3443 Q60.9458 86.3443 59.0708 86.761 Q57.2189 87.1777 55.2745 88.0573 L55.2745 70.6963 Z\" fill=\"#000000\" fill-rule=\"evenodd\" fill-opacity=\"1\" /><polyline clip-path=\"url(#clip762)\" style=\"stroke:#009af9; stroke-linecap:butt; stroke-linejoin:round; stroke-width:4; stroke-opacity:1; fill:none\" points=\"\n  175.59,1445.72 598.34,1174.17 \n  \"/>\n<polyline clip-path=\"url(#clip762)\" style=\"stroke:#009af9; stroke-linecap:butt; stroke-linejoin:round; stroke-width:4; stroke-opacity:1; fill:none\" points=\"\n  558.323,1178.48 598.34,1174.17 577.779,1208.77 \n  \"/>\n<polyline clip-path=\"url(#clip762)\" style=\"stroke:#009af9; stroke-linecap:butt; stroke-linejoin:round; stroke-width:4; stroke-opacity:1; fill:none\" points=\"\n  598.34,1174.17 175.59,1445.72 \n  \"/>\n<polyline clip-path=\"url(#clip762)\" style=\"stroke:#e26f46; stroke-linecap:butt; stroke-linejoin:round; stroke-width:4; stroke-opacity:1; fill:none\" points=\"\n  175.59,1445.72 175.59,902.62 \n  \"/>\n<polyline clip-path=\"url(#clip762)\" style=\"stroke:#e26f46; stroke-linecap:butt; stroke-linejoin:round; stroke-width:4; stroke-opacity:1; fill:none\" points=\"\n  157.59,938.62 175.59,902.62 193.59,938.62 \n  \"/>\n<polyline clip-path=\"url(#clip762)\" style=\"stroke:#e26f46; stroke-linecap:butt; stroke-linejoin:round; stroke-width:4; stroke-opacity:1; fill:none\" points=\"\n  175.59,902.62 175.59,1445.72 \n  \"/>\n<polyline clip-path=\"url(#clip762)\" style=\"stroke:#3da44d; stroke-linecap:butt; stroke-linejoin:round; stroke-width:4; stroke-opacity:1; fill:none\" points=\"\n  175.59,1445.72 1021.09,1174.17 \n  \"/>\n<polyline clip-path=\"url(#clip762)\" style=\"stroke:#3da44d; stroke-linecap:butt; stroke-linejoin:round; stroke-width:4; stroke-opacity:1; fill:none\" points=\"\n  981.311,1168.04 1021.09,1174.17 992.32,1202.31 \n  \"/>\n<polyline clip-path=\"url(#clip762)\" style=\"stroke:#3da44d; stroke-linecap:butt; stroke-linejoin:round; stroke-width:4; stroke-opacity:1; fill:none\" points=\"\n  1021.09,1174.17 175.59,1445.72 \n  \"/>\n<path clip-path=\"url(#clip760)\" d=\"\nM1976.11 302.578 L2278.07 302.578 L2278.07 95.2176 L1976.11 95.2176  Z\n  \" fill=\"#ffffff\" fill-rule=\"evenodd\" fill-opacity=\"1\"/>\n<polyline clip-path=\"url(#clip760)\" style=\"stroke:#000000; stroke-linecap:butt; stroke-linejoin:round; stroke-width:4; stroke-opacity:1; fill:none\" points=\"\n  1976.11,302.578 2278.07,302.578 2278.07,95.2176 1976.11,95.2176 1976.11,302.578 \n  \"/>\n<polyline clip-path=\"url(#clip760)\" style=\"stroke:#009af9; stroke-linecap:butt; stroke-linejoin:round; stroke-width:4; stroke-opacity:1; fill:none\" points=\"\n  2001,147.058 2150.38,147.058 \n  \"/>\n<path clip-path=\"url(#clip760)\" d=\"M2189.11 166.745 Q2187.31 171.375 2185.59 172.787 Q2183.88 174.199 2181.01 174.199 L2177.61 174.199 L2177.61 170.634 L2180.11 170.634 Q2181.87 170.634 2182.84 169.8 Q2183.81 168.967 2184.99 165.865 L2185.76 163.921 L2175.27 138.412 L2179.78 138.412 L2187.89 158.689 L2195.99 138.412 L2200.5 138.412 L2189.11 166.745 Z\" fill=\"#000000\" fill-rule=\"evenodd\" fill-opacity=\"1\" /><path clip-path=\"url(#clip760)\" d=\"M2207.79 160.402 L2215.43 160.402 L2215.43 134.037 L2207.12 135.703 L2207.12 131.444 L2215.39 129.778 L2220.06 129.778 L2220.06 160.402 L2227.7 160.402 L2227.7 164.338 L2207.79 164.338 L2207.79 160.402 Z\" fill=\"#000000\" fill-rule=\"evenodd\" fill-opacity=\"1\" /><polyline clip-path=\"url(#clip760)\" style=\"stroke:#e26f46; stroke-linecap:butt; stroke-linejoin:round; stroke-width:4; stroke-opacity:1; fill:none\" points=\"\n  2001,198.898 2150.38,198.898 \n  \"/>\n<path clip-path=\"url(#clip760)\" d=\"M2189.11 218.585 Q2187.31 223.215 2185.59 224.627 Q2183.88 226.039 2181.01 226.039 L2177.61 226.039 L2177.61 222.474 L2180.11 222.474 Q2181.87 222.474 2182.84 221.64 Q2183.81 220.807 2184.99 217.705 L2185.76 215.761 L2175.27 190.252 L2179.78 190.252 L2187.89 210.529 L2195.99 190.252 L2200.5 190.252 L2189.11 218.585 Z\" fill=\"#000000\" fill-rule=\"evenodd\" fill-opacity=\"1\" /><path clip-path=\"url(#clip760)\" d=\"M2211.01 212.242 L2227.33 212.242 L2227.33 216.178 L2205.39 216.178 L2205.39 212.242 Q2208.05 209.488 2212.63 204.858 Q2217.24 200.205 2218.42 198.863 Q2220.66 196.34 2221.54 194.604 Q2222.45 192.844 2222.45 191.155 Q2222.45 188.4 2220.5 186.664 Q2218.58 184.928 2215.48 184.928 Q2213.28 184.928 2210.83 185.692 Q2208.4 186.455 2205.62 188.006 L2205.62 183.284 Q2208.44 182.15 2210.9 181.571 Q2213.35 180.993 2215.39 180.993 Q2220.76 180.993 2223.95 183.678 Q2227.15 186.363 2227.15 190.854 Q2227.15 192.983 2226.33 194.905 Q2225.55 196.803 2223.44 199.395 Q2222.86 200.067 2219.76 203.284 Q2216.66 206.479 2211.01 212.242 Z\" fill=\"#000000\" fill-rule=\"evenodd\" fill-opacity=\"1\" /><polyline clip-path=\"url(#clip760)\" style=\"stroke:#3da44d; stroke-linecap:butt; stroke-linejoin:round; stroke-width:4; stroke-opacity:1; fill:none\" points=\"\n  2001,250.738 2150.38,250.738 \n  \"/>\n<path clip-path=\"url(#clip760)\" d=\"M2189.11 270.425 Q2187.31 275.055 2185.59 276.467 Q2183.88 277.879 2181.01 277.879 L2177.61 277.879 L2177.61 274.314 L2180.11 274.314 Q2181.87 274.314 2182.84 273.48 Q2183.81 272.647 2184.99 269.545 L2185.76 267.601 L2175.27 242.092 L2179.78 242.092 L2187.89 262.369 L2195.99 242.092 L2200.5 242.092 L2189.11 270.425 Z\" fill=\"#000000\" fill-rule=\"evenodd\" fill-opacity=\"1\" /><path clip-path=\"url(#clip760)\" d=\"M2221.15 249.383 Q2224.51 250.101 2226.38 252.369 Q2228.28 254.638 2228.28 257.971 Q2228.28 263.087 2224.76 265.888 Q2221.24 268.689 2214.76 268.689 Q2212.58 268.689 2210.27 268.249 Q2207.98 267.832 2205.52 266.976 L2205.52 262.462 Q2207.47 263.596 2209.78 264.175 Q2212.1 264.754 2214.62 264.754 Q2219.02 264.754 2221.31 263.018 Q2223.63 261.281 2223.63 257.971 Q2223.63 254.916 2221.47 253.203 Q2219.34 251.467 2215.52 251.467 L2211.5 251.467 L2211.5 247.624 L2215.71 247.624 Q2219.16 247.624 2220.99 246.258 Q2222.82 244.87 2222.82 242.277 Q2222.82 239.615 2220.92 238.203 Q2219.04 236.768 2215.52 236.768 Q2213.6 236.768 2211.4 237.184 Q2209.21 237.601 2206.57 238.481 L2206.57 234.314 Q2209.23 233.573 2211.54 233.203 Q2213.88 232.833 2215.94 232.833 Q2221.27 232.833 2224.37 235.263 Q2227.47 237.67 2227.47 241.791 Q2227.47 244.661 2225.83 246.652 Q2224.18 248.62 2221.15 249.383 Z\" fill=\"#000000\" fill-rule=\"evenodd\" fill-opacity=\"1\" /></svg>\n",
      "text/html": [
       "<?xml version=\"1.0\" encoding=\"utf-8\"?>\n",
       "<svg xmlns=\"http://www.w3.org/2000/svg\" xmlns:xlink=\"http://www.w3.org/1999/xlink\" width=\"600\" height=\"400\" viewBox=\"0 0 2400 1600\">\n",
       "<defs>\n",
       "  <clipPath id=\"clip810\">\n",
       "    <rect x=\"0\" y=\"0\" width=\"2400\" height=\"1600\"/>\n",
       "  </clipPath>\n",
       "</defs>\n",
       "<path clip-path=\"url(#clip810)\" d=\"\n",
       "M0 1600 L2400 1600 L2400 0 L0 0  Z\n",
       "  \" fill=\"#ffffff\" fill-rule=\"evenodd\" fill-opacity=\"1\"/>\n",
       "<defs>\n",
       "  <clipPath id=\"clip811\">\n",
       "    <rect x=\"480\" y=\"0\" width=\"1681\" height=\"1600\"/>\n",
       "  </clipPath>\n",
       "</defs>\n",
       "<path clip-path=\"url(#clip810)\" d=\"\n",
       "M112.177 1486.45 L2352.76 1486.45 L2352.76 47.2441 L112.177 47.2441  Z\n",
       "  \" fill=\"#ffffff\" fill-rule=\"evenodd\" fill-opacity=\"1\"/>\n",
       "<defs>\n",
       "  <clipPath id=\"clip812\">\n",
       "    <rect x=\"112\" y=\"47\" width=\"2242\" height=\"1440\"/>\n",
       "  </clipPath>\n",
       "</defs>\n",
       "<polyline clip-path=\"url(#clip812)\" style=\"stroke:#000000; stroke-linecap:butt; stroke-linejoin:round; stroke-width:2; stroke-opacity:0.1; fill:none\" points=\"\n",
       "  175.59,1486.45 175.59,47.2441 \n",
       "  \"/>\n",
       "<polyline clip-path=\"url(#clip812)\" style=\"stroke:#000000; stroke-linecap:butt; stroke-linejoin:round; stroke-width:2; stroke-opacity:0.1; fill:none\" points=\"\n",
       "  598.34,1486.45 598.34,47.2441 \n",
       "  \"/>\n",
       "<polyline clip-path=\"url(#clip812)\" style=\"stroke:#000000; stroke-linecap:butt; stroke-linejoin:round; stroke-width:2; stroke-opacity:0.1; fill:none\" points=\"\n",
       "  1021.09,1486.45 1021.09,47.2441 \n",
       "  \"/>\n",
       "<polyline clip-path=\"url(#clip812)\" style=\"stroke:#000000; stroke-linecap:butt; stroke-linejoin:round; stroke-width:2; stroke-opacity:0.1; fill:none\" points=\"\n",
       "  1443.84,1486.45 1443.84,47.2441 \n",
       "  \"/>\n",
       "<polyline clip-path=\"url(#clip812)\" style=\"stroke:#000000; stroke-linecap:butt; stroke-linejoin:round; stroke-width:2; stroke-opacity:0.1; fill:none\" points=\"\n",
       "  1866.59,1486.45 1866.59,47.2441 \n",
       "  \"/>\n",
       "<polyline clip-path=\"url(#clip812)\" style=\"stroke:#000000; stroke-linecap:butt; stroke-linejoin:round; stroke-width:2; stroke-opacity:0.1; fill:none\" points=\"\n",
       "  2289.34,1486.45 2289.34,47.2441 \n",
       "  \"/>\n",
       "<polyline clip-path=\"url(#clip810)\" style=\"stroke:#000000; stroke-linecap:butt; stroke-linejoin:round; stroke-width:4; stroke-opacity:1; fill:none\" points=\"\n",
       "  112.177,1486.45 2352.76,1486.45 \n",
       "  \"/>\n",
       "<polyline clip-path=\"url(#clip810)\" style=\"stroke:#000000; stroke-linecap:butt; stroke-linejoin:round; stroke-width:4; stroke-opacity:1; fill:none\" points=\"\n",
       "  175.59,1486.45 175.59,1467.55 \n",
       "  \"/>\n",
       "<polyline clip-path=\"url(#clip810)\" style=\"stroke:#000000; stroke-linecap:butt; stroke-linejoin:round; stroke-width:4; stroke-opacity:1; fill:none\" points=\"\n",
       "  598.34,1486.45 598.34,1467.55 \n",
       "  \"/>\n",
       "<polyline clip-path=\"url(#clip810)\" style=\"stroke:#000000; stroke-linecap:butt; stroke-linejoin:round; stroke-width:4; stroke-opacity:1; fill:none\" points=\"\n",
       "  1021.09,1486.45 1021.09,1467.55 \n",
       "  \"/>\n",
       "<polyline clip-path=\"url(#clip810)\" style=\"stroke:#000000; stroke-linecap:butt; stroke-linejoin:round; stroke-width:4; stroke-opacity:1; fill:none\" points=\"\n",
       "  1443.84,1486.45 1443.84,1467.55 \n",
       "  \"/>\n",
       "<polyline clip-path=\"url(#clip810)\" style=\"stroke:#000000; stroke-linecap:butt; stroke-linejoin:round; stroke-width:4; stroke-opacity:1; fill:none\" points=\"\n",
       "  1866.59,1486.45 1866.59,1467.55 \n",
       "  \"/>\n",
       "<polyline clip-path=\"url(#clip810)\" style=\"stroke:#000000; stroke-linecap:butt; stroke-linejoin:round; stroke-width:4; stroke-opacity:1; fill:none\" points=\"\n",
       "  2289.34,1486.45 2289.34,1467.55 \n",
       "  \"/>\n",
       "<path clip-path=\"url(#clip810)\" d=\"M175.59 1517.37 Q171.979 1517.37 170.15 1520.93 Q168.344 1524.47 168.344 1531.6 Q168.344 1538.71 170.15 1542.27 Q171.979 1545.82 175.59 1545.82 Q179.224 1545.82 181.03 1542.27 Q182.858 1538.71 182.858 1531.6 Q182.858 1524.47 181.03 1520.93 Q179.224 1517.37 175.59 1517.37 M175.59 1513.66 Q181.4 1513.66 184.455 1518.27 Q187.534 1522.85 187.534 1531.6 Q187.534 1540.33 184.455 1544.94 Q181.4 1549.52 175.59 1549.52 Q169.78 1549.52 166.701 1544.94 Q163.645 1540.33 163.645 1531.6 Q163.645 1522.85 166.701 1518.27 Q169.78 1513.66 175.59 1513.66 Z\" fill=\"#000000\" fill-rule=\"evenodd\" fill-opacity=\"1\" /><path clip-path=\"url(#clip810)\" d=\"M588.722 1544.91 L596.361 1544.91 L596.361 1518.55 L588.051 1520.21 L588.051 1515.95 L596.315 1514.29 L600.991 1514.29 L600.991 1544.91 L608.63 1544.91 L608.63 1548.85 L588.722 1548.85 L588.722 1544.91 Z\" fill=\"#000000\" fill-rule=\"evenodd\" fill-opacity=\"1\" /><path clip-path=\"url(#clip810)\" d=\"M1015.74 1544.91 L1032.06 1544.91 L1032.06 1548.85 L1010.12 1548.85 L1010.12 1544.91 Q1012.78 1542.16 1017.36 1537.53 Q1021.97 1532.88 1023.15 1531.53 Q1025.4 1529.01 1026.28 1527.27 Q1027.18 1525.51 1027.18 1523.82 Q1027.18 1521.07 1025.23 1519.33 Q1023.31 1517.6 1020.21 1517.6 Q1018.01 1517.6 1015.56 1518.36 Q1013.13 1519.13 1010.35 1520.68 L1010.35 1515.95 Q1013.17 1514.82 1015.63 1514.24 Q1018.08 1513.66 1020.12 1513.66 Q1025.49 1513.66 1028.68 1516.35 Q1031.88 1519.03 1031.88 1523.52 Q1031.88 1525.65 1031.07 1527.57 Q1030.28 1529.47 1028.17 1532.07 Q1027.6 1532.74 1024.49 1535.95 Q1021.39 1539.15 1015.74 1544.91 Z\" fill=\"#000000\" fill-rule=\"evenodd\" fill-opacity=\"1\" /><path clip-path=\"url(#clip810)\" d=\"M1448.09 1530.21 Q1451.45 1530.93 1453.32 1533.2 Q1455.22 1535.47 1455.22 1538.8 Q1455.22 1543.92 1451.7 1546.72 Q1448.18 1549.52 1441.7 1549.52 Q1439.52 1549.52 1437.21 1549.08 Q1434.92 1548.66 1432.46 1547.81 L1432.46 1543.29 Q1434.41 1544.43 1436.72 1545.01 Q1439.04 1545.58 1441.56 1545.58 Q1445.96 1545.58 1448.25 1543.85 Q1450.57 1542.11 1450.57 1538.8 Q1450.57 1535.75 1448.41 1534.03 Q1446.28 1532.3 1442.46 1532.3 L1438.44 1532.3 L1438.44 1528.45 L1442.65 1528.45 Q1446.1 1528.45 1447.93 1527.09 Q1449.76 1525.7 1449.76 1523.11 Q1449.76 1520.45 1447.86 1519.03 Q1445.98 1517.6 1442.46 1517.6 Q1440.54 1517.6 1438.34 1518.01 Q1436.15 1518.43 1433.51 1519.31 L1433.51 1515.14 Q1436.17 1514.4 1438.48 1514.03 Q1440.82 1513.66 1442.88 1513.66 Q1448.21 1513.66 1451.31 1516.09 Q1454.41 1518.5 1454.41 1522.62 Q1454.41 1525.49 1452.77 1527.48 Q1451.12 1529.45 1448.09 1530.21 Z\" fill=\"#000000\" fill-rule=\"evenodd\" fill-opacity=\"1\" /><path clip-path=\"url(#clip810)\" d=\"M1869.6 1518.36 L1857.8 1536.81 L1869.6 1536.81 L1869.6 1518.36 M1868.37 1514.29 L1874.25 1514.29 L1874.25 1536.81 L1879.19 1536.81 L1879.19 1540.7 L1874.25 1540.7 L1874.25 1548.85 L1869.6 1548.85 L1869.6 1540.7 L1854 1540.7 L1854 1536.19 L1868.37 1514.29 Z\" fill=\"#000000\" fill-rule=\"evenodd\" fill-opacity=\"1\" /><path clip-path=\"url(#clip810)\" d=\"M2279.62 1514.29 L2297.98 1514.29 L2297.98 1518.22 L2283.9 1518.22 L2283.9 1526.7 Q2284.92 1526.35 2285.94 1526.19 Q2286.96 1526 2287.98 1526 Q2293.76 1526 2297.14 1529.17 Q2300.52 1532.34 2300.52 1537.76 Q2300.52 1543.34 2297.05 1546.44 Q2293.58 1549.52 2287.26 1549.52 Q2285.08 1549.52 2282.82 1549.15 Q2280.57 1548.78 2278.16 1548.04 L2278.16 1543.34 Q2280.25 1544.47 2282.47 1545.03 Q2284.69 1545.58 2287.17 1545.58 Q2291.17 1545.58 2293.51 1543.48 Q2295.85 1541.37 2295.85 1537.76 Q2295.85 1534.15 2293.51 1532.04 Q2291.17 1529.94 2287.17 1529.94 Q2285.29 1529.94 2283.42 1530.35 Q2281.57 1530.77 2279.62 1531.65 L2279.62 1514.29 Z\" fill=\"#000000\" fill-rule=\"evenodd\" fill-opacity=\"1\" /><polyline clip-path=\"url(#clip812)\" style=\"stroke:#000000; stroke-linecap:butt; stroke-linejoin:round; stroke-width:2; stroke-opacity:0.1; fill:none\" points=\"\n",
       "  112.177,1445.72 2352.76,1445.72 \n",
       "  \"/>\n",
       "<polyline clip-path=\"url(#clip812)\" style=\"stroke:#000000; stroke-linecap:butt; stroke-linejoin:round; stroke-width:2; stroke-opacity:0.1; fill:none\" points=\"\n",
       "  112.177,1174.17 2352.76,1174.17 \n",
       "  \"/>\n",
       "<polyline clip-path=\"url(#clip812)\" style=\"stroke:#000000; stroke-linecap:butt; stroke-linejoin:round; stroke-width:2; stroke-opacity:0.1; fill:none\" points=\"\n",
       "  112.177,902.62 2352.76,902.62 \n",
       "  \"/>\n",
       "<polyline clip-path=\"url(#clip812)\" style=\"stroke:#000000; stroke-linecap:butt; stroke-linejoin:round; stroke-width:2; stroke-opacity:0.1; fill:none\" points=\"\n",
       "  112.177,631.072 2352.76,631.072 \n",
       "  \"/>\n",
       "<polyline clip-path=\"url(#clip812)\" style=\"stroke:#000000; stroke-linecap:butt; stroke-linejoin:round; stroke-width:2; stroke-opacity:0.1; fill:none\" points=\"\n",
       "  112.177,359.524 2352.76,359.524 \n",
       "  \"/>\n",
       "<polyline clip-path=\"url(#clip812)\" style=\"stroke:#000000; stroke-linecap:butt; stroke-linejoin:round; stroke-width:2; stroke-opacity:0.1; fill:none\" points=\"\n",
       "  112.177,87.9763 2352.76,87.9763 \n",
       "  \"/>\n",
       "<polyline clip-path=\"url(#clip810)\" style=\"stroke:#000000; stroke-linecap:butt; stroke-linejoin:round; stroke-width:4; stroke-opacity:1; fill:none\" points=\"\n",
       "  112.177,1486.45 112.177,47.2441 \n",
       "  \"/>\n",
       "<polyline clip-path=\"url(#clip810)\" style=\"stroke:#000000; stroke-linecap:butt; stroke-linejoin:round; stroke-width:4; stroke-opacity:1; fill:none\" points=\"\n",
       "  112.177,1445.72 131.075,1445.72 \n",
       "  \"/>\n",
       "<polyline clip-path=\"url(#clip810)\" style=\"stroke:#000000; stroke-linecap:butt; stroke-linejoin:round; stroke-width:4; stroke-opacity:1; fill:none\" points=\"\n",
       "  112.177,1174.17 131.075,1174.17 \n",
       "  \"/>\n",
       "<polyline clip-path=\"url(#clip810)\" style=\"stroke:#000000; stroke-linecap:butt; stroke-linejoin:round; stroke-width:4; stroke-opacity:1; fill:none\" points=\"\n",
       "  112.177,902.62 131.075,902.62 \n",
       "  \"/>\n",
       "<polyline clip-path=\"url(#clip810)\" style=\"stroke:#000000; stroke-linecap:butt; stroke-linejoin:round; stroke-width:4; stroke-opacity:1; fill:none\" points=\"\n",
       "  112.177,631.072 131.075,631.072 \n",
       "  \"/>\n",
       "<polyline clip-path=\"url(#clip810)\" style=\"stroke:#000000; stroke-linecap:butt; stroke-linejoin:round; stroke-width:4; stroke-opacity:1; fill:none\" points=\"\n",
       "  112.177,359.524 131.075,359.524 \n",
       "  \"/>\n",
       "<polyline clip-path=\"url(#clip810)\" style=\"stroke:#000000; stroke-linecap:butt; stroke-linejoin:round; stroke-width:4; stroke-opacity:1; fill:none\" points=\"\n",
       "  112.177,87.9763 131.075,87.9763 \n",
       "  \"/>\n",
       "<path clip-path=\"url(#clip810)\" d=\"M64.2328 1431.51 Q60.6217 1431.51 58.793 1435.08 Q56.9875 1438.62 56.9875 1445.75 Q56.9875 1452.86 58.793 1456.42 Q60.6217 1459.96 64.2328 1459.96 Q67.867 1459.96 69.6726 1456.42 Q71.5013 1452.86 71.5013 1445.75 Q71.5013 1438.62 69.6726 1435.08 Q67.867 1431.51 64.2328 1431.51 M64.2328 1427.81 Q70.0429 1427.81 73.0985 1432.42 Q76.1772 1437 76.1772 1445.75 Q76.1772 1454.48 73.0985 1459.08 Q70.0429 1463.67 64.2328 1463.67 Q58.4226 1463.67 55.344 1459.08 Q52.2884 1454.48 52.2884 1445.75 Q52.2884 1437 55.344 1432.42 Q58.4226 1427.81 64.2328 1427.81 Z\" fill=\"#000000\" fill-rule=\"evenodd\" fill-opacity=\"1\" /><path clip-path=\"url(#clip810)\" d=\"M56.2699 1187.51 L63.9087 1187.51 L63.9087 1161.15 L55.5986 1162.81 L55.5986 1158.55 L63.8624 1156.89 L68.5383 1156.89 L68.5383 1187.51 L76.1772 1187.51 L76.1772 1191.45 L56.2699 1191.45 L56.2699 1187.51 Z\" fill=\"#000000\" fill-rule=\"evenodd\" fill-opacity=\"1\" /><path clip-path=\"url(#clip810)\" d=\"M59.8578 915.965 L76.1772 915.965 L76.1772 919.9 L54.2328 919.9 L54.2328 915.965 Q56.8949 913.21 61.4782 908.581 Q66.0846 903.928 67.2652 902.585 Q69.5105 900.062 70.3902 898.326 Q71.2929 896.567 71.2929 894.877 Q71.2929 892.122 69.3485 890.386 Q67.4272 888.65 64.3254 888.65 Q62.1263 888.65 59.6726 889.414 Q57.2421 890.178 54.4643 891.729 L54.4643 887.007 Q57.2884 885.872 59.7421 885.294 Q62.1958 884.715 64.2328 884.715 Q69.6031 884.715 72.7976 887.4 Q75.992 890.085 75.992 894.576 Q75.992 896.706 75.1818 898.627 Q74.3948 900.525 72.2883 903.118 Q71.7096 903.789 68.6078 907.006 Q65.5059 910.201 59.8578 915.965 Z\" fill=\"#000000\" fill-rule=\"evenodd\" fill-opacity=\"1\" /><path clip-path=\"url(#clip810)\" d=\"M69.0476 629.718 Q72.404 630.435 74.279 632.704 Q76.1772 634.972 76.1772 638.306 Q76.1772 643.422 72.6587 646.222 Q69.1402 649.023 62.6587 649.023 Q60.4828 649.023 58.168 648.584 Q55.8764 648.167 53.4227 647.31 L53.4227 642.797 Q55.3671 643.931 57.6819 644.509 Q59.9967 645.088 62.5198 645.088 Q66.918 645.088 69.2096 643.352 Q71.5244 641.616 71.5244 638.306 Q71.5244 635.25 69.3717 633.537 Q67.242 631.801 63.4226 631.801 L59.3949 631.801 L59.3949 627.959 L63.6078 627.959 Q67.0569 627.959 68.8855 626.593 Q70.7142 625.204 70.7142 622.611 Q70.7142 619.949 68.8161 618.537 Q66.9411 617.102 63.4226 617.102 Q61.5013 617.102 59.3023 617.519 Q57.1032 617.936 54.4643 618.815 L54.4643 614.649 Q57.1264 613.908 59.4412 613.537 Q61.7791 613.167 63.8393 613.167 Q69.1633 613.167 72.2652 615.598 Q75.367 618.005 75.367 622.125 Q75.367 624.996 73.7235 626.986 Q72.08 628.954 69.0476 629.718 Z\" fill=\"#000000\" fill-rule=\"evenodd\" fill-opacity=\"1\" /><path clip-path=\"url(#clip810)\" d=\"M66.5939 346.318 L54.7884 364.767 L66.5939 364.767 L66.5939 346.318 M65.367 342.244 L71.2466 342.244 L71.2466 364.767 L76.1772 364.767 L76.1772 368.656 L71.2466 368.656 L71.2466 376.804 L66.5939 376.804 L66.5939 368.656 L50.9921 368.656 L50.9921 364.142 L65.367 342.244 Z\" fill=\"#000000\" fill-rule=\"evenodd\" fill-opacity=\"1\" /><path clip-path=\"url(#clip810)\" d=\"M55.2745 70.6963 L73.6309 70.6963 L73.6309 74.6314 L59.5569 74.6314 L59.5569 83.1036 Q60.5754 82.7564 61.5939 82.5944 Q62.6124 82.4092 63.6309 82.4092 Q69.418 82.4092 72.7976 85.5805 Q76.1772 88.7517 76.1772 94.1684 Q76.1772 99.747 72.705 102.849 Q69.2328 105.928 62.9134 105.928 Q60.7374 105.928 58.4689 105.557 Q56.2236 105.187 53.8162 104.446 L53.8162 99.747 Q55.8995 100.881 58.1217 101.437 Q60.3439 101.992 62.8208 101.992 Q66.8254 101.992 69.1633 99.8859 Q71.5013 97.7795 71.5013 94.1684 Q71.5013 90.5573 69.1633 88.4508 Q66.8254 86.3443 62.8208 86.3443 Q60.9458 86.3443 59.0708 86.761 Q57.2189 87.1777 55.2745 88.0573 L55.2745 70.6963 Z\" fill=\"#000000\" fill-rule=\"evenodd\" fill-opacity=\"1\" /><polyline clip-path=\"url(#clip812)\" style=\"stroke:#009af9; stroke-linecap:butt; stroke-linejoin:round; stroke-width:4; stroke-opacity:1; fill:none\" points=\"\n",
       "  175.59,1445.72 598.34,1174.17 \n",
       "  \"/>\n",
       "<polyline clip-path=\"url(#clip812)\" style=\"stroke:#009af9; stroke-linecap:butt; stroke-linejoin:round; stroke-width:4; stroke-opacity:1; fill:none\" points=\"\n",
       "  558.323,1178.48 598.34,1174.17 577.779,1208.77 \n",
       "  \"/>\n",
       "<polyline clip-path=\"url(#clip812)\" style=\"stroke:#009af9; stroke-linecap:butt; stroke-linejoin:round; stroke-width:4; stroke-opacity:1; fill:none\" points=\"\n",
       "  598.34,1174.17 175.59,1445.72 \n",
       "  \"/>\n",
       "<polyline clip-path=\"url(#clip812)\" style=\"stroke:#e26f46; stroke-linecap:butt; stroke-linejoin:round; stroke-width:4; stroke-opacity:1; fill:none\" points=\"\n",
       "  175.59,1445.72 175.59,902.62 \n",
       "  \"/>\n",
       "<polyline clip-path=\"url(#clip812)\" style=\"stroke:#e26f46; stroke-linecap:butt; stroke-linejoin:round; stroke-width:4; stroke-opacity:1; fill:none\" points=\"\n",
       "  157.59,938.62 175.59,902.62 193.59,938.62 \n",
       "  \"/>\n",
       "<polyline clip-path=\"url(#clip812)\" style=\"stroke:#e26f46; stroke-linecap:butt; stroke-linejoin:round; stroke-width:4; stroke-opacity:1; fill:none\" points=\"\n",
       "  175.59,902.62 175.59,1445.72 \n",
       "  \"/>\n",
       "<polyline clip-path=\"url(#clip812)\" style=\"stroke:#3da44d; stroke-linecap:butt; stroke-linejoin:round; stroke-width:4; stroke-opacity:1; fill:none\" points=\"\n",
       "  175.59,1445.72 1021.09,1174.17 \n",
       "  \"/>\n",
       "<polyline clip-path=\"url(#clip812)\" style=\"stroke:#3da44d; stroke-linecap:butt; stroke-linejoin:round; stroke-width:4; stroke-opacity:1; fill:none\" points=\"\n",
       "  981.311,1168.04 1021.09,1174.17 992.32,1202.31 \n",
       "  \"/>\n",
       "<polyline clip-path=\"url(#clip812)\" style=\"stroke:#3da44d; stroke-linecap:butt; stroke-linejoin:round; stroke-width:4; stroke-opacity:1; fill:none\" points=\"\n",
       "  1021.09,1174.17 175.59,1445.72 \n",
       "  \"/>\n",
       "<path clip-path=\"url(#clip810)\" d=\"\n",
       "M1976.11 302.578 L2278.07 302.578 L2278.07 95.2176 L1976.11 95.2176  Z\n",
       "  \" fill=\"#ffffff\" fill-rule=\"evenodd\" fill-opacity=\"1\"/>\n",
       "<polyline clip-path=\"url(#clip810)\" style=\"stroke:#000000; stroke-linecap:butt; stroke-linejoin:round; stroke-width:4; stroke-opacity:1; fill:none\" points=\"\n",
       "  1976.11,302.578 2278.07,302.578 2278.07,95.2176 1976.11,95.2176 1976.11,302.578 \n",
       "  \"/>\n",
       "<polyline clip-path=\"url(#clip810)\" style=\"stroke:#009af9; stroke-linecap:butt; stroke-linejoin:round; stroke-width:4; stroke-opacity:1; fill:none\" points=\"\n",
       "  2001,147.058 2150.38,147.058 \n",
       "  \"/>\n",
       "<path clip-path=\"url(#clip810)\" d=\"M2189.11 166.745 Q2187.31 171.375 2185.59 172.787 Q2183.88 174.199 2181.01 174.199 L2177.61 174.199 L2177.61 170.634 L2180.11 170.634 Q2181.87 170.634 2182.84 169.8 Q2183.81 168.967 2184.99 165.865 L2185.76 163.921 L2175.27 138.412 L2179.78 138.412 L2187.89 158.689 L2195.99 138.412 L2200.5 138.412 L2189.11 166.745 Z\" fill=\"#000000\" fill-rule=\"evenodd\" fill-opacity=\"1\" /><path clip-path=\"url(#clip810)\" d=\"M2207.79 160.402 L2215.43 160.402 L2215.43 134.037 L2207.12 135.703 L2207.12 131.444 L2215.39 129.778 L2220.06 129.778 L2220.06 160.402 L2227.7 160.402 L2227.7 164.338 L2207.79 164.338 L2207.79 160.402 Z\" fill=\"#000000\" fill-rule=\"evenodd\" fill-opacity=\"1\" /><polyline clip-path=\"url(#clip810)\" style=\"stroke:#e26f46; stroke-linecap:butt; stroke-linejoin:round; stroke-width:4; stroke-opacity:1; fill:none\" points=\"\n",
       "  2001,198.898 2150.38,198.898 \n",
       "  \"/>\n",
       "<path clip-path=\"url(#clip810)\" d=\"M2189.11 218.585 Q2187.31 223.215 2185.59 224.627 Q2183.88 226.039 2181.01 226.039 L2177.61 226.039 L2177.61 222.474 L2180.11 222.474 Q2181.87 222.474 2182.84 221.64 Q2183.81 220.807 2184.99 217.705 L2185.76 215.761 L2175.27 190.252 L2179.78 190.252 L2187.89 210.529 L2195.99 190.252 L2200.5 190.252 L2189.11 218.585 Z\" fill=\"#000000\" fill-rule=\"evenodd\" fill-opacity=\"1\" /><path clip-path=\"url(#clip810)\" d=\"M2211.01 212.242 L2227.33 212.242 L2227.33 216.178 L2205.39 216.178 L2205.39 212.242 Q2208.05 209.488 2212.63 204.858 Q2217.24 200.205 2218.42 198.863 Q2220.66 196.34 2221.54 194.604 Q2222.45 192.844 2222.45 191.155 Q2222.45 188.4 2220.5 186.664 Q2218.58 184.928 2215.48 184.928 Q2213.28 184.928 2210.83 185.692 Q2208.4 186.455 2205.62 188.006 L2205.62 183.284 Q2208.44 182.15 2210.9 181.571 Q2213.35 180.993 2215.39 180.993 Q2220.76 180.993 2223.95 183.678 Q2227.15 186.363 2227.15 190.854 Q2227.15 192.983 2226.33 194.905 Q2225.55 196.803 2223.44 199.395 Q2222.86 200.067 2219.76 203.284 Q2216.66 206.479 2211.01 212.242 Z\" fill=\"#000000\" fill-rule=\"evenodd\" fill-opacity=\"1\" /><polyline clip-path=\"url(#clip810)\" style=\"stroke:#3da44d; stroke-linecap:butt; stroke-linejoin:round; stroke-width:4; stroke-opacity:1; fill:none\" points=\"\n",
       "  2001,250.738 2150.38,250.738 \n",
       "  \"/>\n",
       "<path clip-path=\"url(#clip810)\" d=\"M2189.11 270.425 Q2187.31 275.055 2185.59 276.467 Q2183.88 277.879 2181.01 277.879 L2177.61 277.879 L2177.61 274.314 L2180.11 274.314 Q2181.87 274.314 2182.84 273.48 Q2183.81 272.647 2184.99 269.545 L2185.76 267.601 L2175.27 242.092 L2179.78 242.092 L2187.89 262.369 L2195.99 242.092 L2200.5 242.092 L2189.11 270.425 Z\" fill=\"#000000\" fill-rule=\"evenodd\" fill-opacity=\"1\" /><path clip-path=\"url(#clip810)\" d=\"M2221.15 249.383 Q2224.51 250.101 2226.38 252.369 Q2228.28 254.638 2228.28 257.971 Q2228.28 263.087 2224.76 265.888 Q2221.24 268.689 2214.76 268.689 Q2212.58 268.689 2210.27 268.249 Q2207.98 267.832 2205.52 266.976 L2205.52 262.462 Q2207.47 263.596 2209.78 264.175 Q2212.1 264.754 2214.62 264.754 Q2219.02 264.754 2221.31 263.018 Q2223.63 261.281 2223.63 257.971 Q2223.63 254.916 2221.47 253.203 Q2219.34 251.467 2215.52 251.467 L2211.5 251.467 L2211.5 247.624 L2215.71 247.624 Q2219.16 247.624 2220.99 246.258 Q2222.82 244.87 2222.82 242.277 Q2222.82 239.615 2220.92 238.203 Q2219.04 236.768 2215.52 236.768 Q2213.6 236.768 2211.4 237.184 Q2209.21 237.601 2206.57 238.481 L2206.57 234.314 Q2209.23 233.573 2211.54 233.203 Q2213.88 232.833 2215.94 232.833 Q2221.27 232.833 2224.37 235.263 Q2227.47 237.67 2227.47 241.791 Q2227.47 244.661 2225.83 246.652 Q2224.18 248.62 2221.15 249.383 Z\" fill=\"#000000\" fill-rule=\"evenodd\" fill-opacity=\"1\" /></svg>\n"
      ]
     },
     "metadata": {},
     "output_type": "display_data"
    }
   ],
   "source": [
    "\n",
    "plot()\n",
    "TX = [1,1]\n",
    "TY=[0,2]\n",
    "drawVector(TX,[0,0])\n",
    "drawVector(TY,[0,0])\n",
    "\n",
    "drawVector(P)"
   ]
  },
  {
   "cell_type": "code",
   "execution_count": 104,
   "metadata": {},
   "outputs": [
    {
     "data": {
      "text/plain": [
       "transformVectorBasis2D"
      ]
     },
     "metadata": {},
     "output_type": "display_data"
    }
   ],
   "source": [
    "\"\"\"\n",
    "    transformVectorBasis2D(P::Vector, BX::Vector, BY::Vector) \n",
    "        Function to transform a given Vector P point to a new Basis. Original Basis is assumed to be\n",
    "        the standard cartesian basis.\n",
    "        The transformed Vector is the equivalent of the original Vector P in the new Basis.\n",
    "\n",
    "        Vectors can be described in terms of scalar multiplication of the basis vectors:\n",
    "        Example:\n",
    "            P=[2,1] is the original Vector with standard cartersian basis (X=[1,0],Y=[0,1]).\n",
    "            This can be written as linear combination of the basis vectors:\n",
    "                P=2*X+1*Y\n",
    "            \n",
    "            If we want to transform this Vector to a new basis (X'=[1,1],Y'=[0,2]), we can write the\n",
    "            new vector on the new basis as a linear combination and then solve for the new scalar coefficients:\n",
    "                \n",
    "             ```\n",
    "            \n",
    "            P'=c₁*X'+ c₂*Y'  ⟹ c₁ * [1,1] + c₂ * [0,2] = [2,1]\n",
    "\n",
    "            let A = [1 0   # Matrix A with new basis vectors\n",
    "                     1 2]\n",
    "            \n",
    "            let b = [2 1] # Vector b with original coordinates of point P.\n",
    "\n",
    "            let c = Vector of new coordinates on new Basis corresponding to original coordinates point P.\n",
    "\n",
    "                c = A\\b\n",
    "\n",
    "            ```\n",
    "\n",
    "    # Parameters\n",
    "    P::Vector\n",
    "        Vector to be transformed.\n",
    "    BX::Vector\n",
    "        X-component of the new basis.\n",
    "    BY::Vector\n",
    "        Y-component of the new basis.\n",
    "\n",
    "    # Returns\n",
    "    p::Vector\n",
    "        Transformed vector.\n",
    "\n",
    "    # Examples\n",
    "\n",
    "    \n",
    "    \n",
    "        \n",
    "\n",
    "\n",
    "\"\"\"\n",
    "function transformVectorBasis2D(P::Vector, BX::Vector, BY::Vector)\n",
    "    A = [BX BY] # Matrix A with new basis vectors as columns\n",
    "    b = P # Vector b with original coordinates of point P.\n",
    "    c = A\\b # Solve for new coordinates on new Basis corresponding to original coordinates point P.\n",
    "\n",
    "    return c\n",
    "end\n"
   ]
  },
  {
   "cell_type": "code",
   "execution_count": 105,
   "metadata": {},
   "outputs": [
    {
     "data": {
      "text/plain": [
       "2-element Vector{Float64}:\n",
       "  2.0\n",
       " -0.5"
      ]
     },
     "metadata": {},
     "output_type": "display_data"
    }
   ],
   "source": [
    "transformVectorBasis2D(P, TX, TY)"
   ]
  },
  {
   "cell_type": "code",
   "execution_count": 85,
   "metadata": {},
   "outputs": [
    {
     "data": {
      "text/plain": [
       "3"
      ]
     },
     "metadata": {},
     "output_type": "display_data"
    }
   ],
   "source": [
    "dot(TX, P)"
   ]
  },
  {
   "cell_type": "code",
   "execution_count": 86,
   "metadata": {},
   "outputs": [
    {
     "data": {
      "text/plain": [
       "2"
      ]
     },
     "metadata": {},
     "output_type": "display_data"
    }
   ],
   "source": [
    "dot(TY, P)"
   ]
  },
  {
   "cell_type": "code",
   "execution_count": 88,
   "metadata": {},
   "outputs": [
    {
     "data": {
      "text/plain": [
       "5"
      ]
     },
     "metadata": {},
     "output_type": "display_data"
    }
   ],
   "source": [
    "dot(P, P)"
   ]
  },
  {
   "cell_type": "code",
   "execution_count": 89,
   "metadata": {},
   "outputs": [
    {
     "data": {
      "text/plain": [
       "2"
      ]
     },
     "metadata": {},
     "output_type": "display_data"
    }
   ],
   "source": [
    "dot(TX,TX)"
   ]
  },
  {
   "cell_type": "code",
   "execution_count": 90,
   "metadata": {},
   "outputs": [
    {
     "data": {
      "text/plain": [
       "4"
      ]
     },
     "metadata": {},
     "output_type": "display_data"
    }
   ],
   "source": [
    "dot(TY,TY)"
   ]
  },
  {
   "cell_type": "code",
   "execution_count": 92,
   "metadata": {},
   "outputs": [
    {
     "data": {
      "text/plain": [
       "0.5"
      ]
     },
     "metadata": {},
     "output_type": "display_data"
    }
   ],
   "source": [
    "dot(TY,P)/dot(TY,TY)\n"
   ]
  },
  {
   "cell_type": "code",
   "execution_count": 96,
   "metadata": {},
   "outputs": [
    {
     "data": {
      "text/plain": [
       "1.4142135623730951"
      ]
     },
     "metadata": {},
     "output_type": "display_data"
    }
   ],
   "source": [
    "norm(P)\n"
   ]
  },
  {
   "cell_type": "code",
   "execution_count": 97,
   "metadata": {},
   "outputs": [
    {
     "data": {
      "text/plain": [
       "1.4142135623730951"
      ]
     },
     "metadata": {},
     "output_type": "display_data"
    }
   ],
   "source": [
    "norm(TX)"
   ]
  },
  {
   "cell_type": "code",
   "execution_count": 99,
   "metadata": {},
   "outputs": [
    {
     "data": {
      "text/plain": [
       "2×2 Matrix{Int64}:\n",
       " 1  0\n",
       " 1  2"
      ]
     },
     "metadata": {},
     "output_type": "display_data"
    }
   ],
   "source": [
    "#solve  system of linear equations\n",
    "A=[1 0;1 2]"
   ]
  },
  {
   "cell_type": "code",
   "execution_count": 100,
   "metadata": {},
   "outputs": [
    {
     "data": {
      "text/plain": [
       "2-element Vector{Int64}:\n",
       " 2\n",
       " 1"
      ]
     },
     "metadata": {},
     "output_type": "display_data"
    }
   ],
   "source": [
    "b=[2,1]"
   ]
  },
  {
   "cell_type": "code",
   "execution_count": 101,
   "metadata": {},
   "outputs": [
    {
     "data": {
      "text/plain": [
       "2-element Vector{Float64}:\n",
       "  2.0\n",
       " -0.5"
      ]
     },
     "metadata": {},
     "output_type": "display_data"
    }
   ],
   "source": [
    "A\\b"
   ]
  },
  {
   "cell_type": "code",
   "execution_count": 103,
   "metadata": {},
   "outputs": [
    {
     "data": {
      "text/plain": [
       "2×2 Matrix{Int64}:\n",
       " 1  0\n",
       " 1  2"
      ]
     },
     "metadata": {},
     "output_type": "display_data"
    }
   ],
   "source": [
    "A =[TX TY]"
   ]
  },
  {
   "cell_type": "code",
   "execution_count": null,
   "metadata": {},
   "outputs": [],
   "source": []
  }
 ],
 "metadata": {
  "kernelspec": {
   "display_name": "Julia 1.6.3",
   "language": "julia",
   "name": "julia-1.6"
  },
  "language_info": {
   "file_extension": ".jl",
   "mimetype": "application/julia",
   "name": "julia",
   "version": "1.6.3"
  },
  "orig_nbformat": 4
 },
 "nbformat": 4,
 "nbformat_minor": 2
}
